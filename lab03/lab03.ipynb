{
 "cells": [
  {
   "cell_type": "markdown",
   "metadata": {
    "id": "OJvMHe1Z2tRG"
   },
   "source": [
    "# CSC311 Lab 3: Linear Regression\n",
    "\n",
    "In this lab, we will complete what we started during lecture 3, and\n",
    "build a linear regression model to predict the air temperature at the UTM pond\n",
    "given information collected at the UTM forest.\n",
    "By the end of this tutorial, you will be able to:\n",
    "\n",
    "1. Write vectorized code using `numpy` to vectorize computation.\n",
    "2. Implement gradient descent to minimize the square loss function of a linear regression model.\n",
    "3. Explain the effect of the learning rate, and what happens if the learning rate is too small/too large.\n",
    "4. Report model accuracy using a validation and test set.\n",
    "\n",
    "Please work in groups of 1-2 during the tutorial.\n",
    "\n",
    "## Acknowledgements\n",
    "\n",
    "It's always great to work with local, UTM data!\n",
    "\n",
    "Data is from https://www.utm.utoronto.ca/geography/resources/meteorological-station/environmental-datasets\n",
    "\n",
    "## Submission\n",
    "\n",
    "If you are working with a partner, start by creating a group on Markus. If you are working alone,\n",
    "click \"Working Alone\".\n",
    "\n",
    "Submit the ipynb file `lab03.ipynb` on Markus\n",
    "**containing all your solutions to the Graded Task**s.\n",
    "Your notebook file must contain your code **and outputs** where applicable,\n",
    "including printed lines and images.\n",
    "Your TA will not run your code for the purpose of grading.\n",
    "\n",
    "For this lab, you should submit the following:\n",
    "\n",
    "- Part 1. Your explanation of why splitting the data by date is better than using a random split. (1 points)\n",
    "- Part 2. Your implementation of `pred` (1 points)\n",
    "- Part 2. Your implementation of `grad`, along with the output of the finite difference tests (3 points)\n",
    "- Part 3. Your implementation of `solve_via_gradient_descent` (1 point)\n",
    "- Part 2. A reasonable hyperparameter choice and training curve for those hyperparameters (1 point)\n",
    "- Part 3. Your code for sklearn to fit the linear regression model (1 point)\n",
    "- Part 3. Your comparison of the results from sklearn vs our own code (1 point)\n",
    "- Part 4. Your explanation for why we should not use the test set to choose between sklearn and our own model (1 point)\n",
    "\n",
    "## Google Colab Setup"
   ]
  },
  {
   "cell_type": "code",
   "execution_count": 1,
   "metadata": {
    "id": "y17FNzO82tRI"
   },
   "outputs": [],
   "source": [
    "import matplotlib.pyplot as plt # For plotting\n",
    "import numpy as np              # Linear algebra library"
   ]
  },
  {
   "cell_type": "markdown",
   "metadata": {
    "id": "cUFRpNk-2tRJ"
   },
   "source": [
    "## Part 1. Data\n",
    "\n",
    "Start by running these two lines of code to download the data on to Google Colab.\n",
    "Recall that Google Colab allows users to run certain shell commands, and these\n",
    "shell commands have a `!` at the beginning."
   ]
  },
  {
   "cell_type": "code",
   "execution_count": null,
   "metadata": {
    "colab": {
     "base_uri": "https://localhost:8080/"
    },
    "id": "X6350u_22tRK",
    "outputId": "cb99cd5e-a848-4ccc-899a-34f4729e311e"
   },
   "outputs": [
    {
     "name": "stdout",
     "output_type": "stream",
     "text": [
      "--2025-01-22 11:54:13--  https://www.cs.toronto.edu/~lczhang/311/lab03/data.zip\n",
      "128.100.3.30w.cs.toronto.edu (www.cs.toronto.edu)... \n",
      "Connecting to www.cs.toronto.edu (www.cs.toronto.edu)|128.100.3.30|:443... connected.\n",
      "HTTP request sent, awaiting response... 200 OK\n",
      "Length: 107324 (105K) [application/zip]\n",
      "Saving to: ‘data.zip.1’\n",
      "\n",
      "data.zip.1          100%[===================>] 104.81K  --.-KB/s    in 0.03s   \n",
      "\n",
      "2025-01-22 11:54:13 (3.00 MB/s) - ‘data.zip.1’ saved [107324/107324]\n",
      "\n",
      "Archive:  data.zip\n",
      "replace data/data2017oct.csv? [y]es, [n]o, [A]ll, [N]one, [r]ename: "
     ]
    }
   ],
   "source": [
    "# Download tutorial data files.\n",
    "!wget https://www.cs.toronto.edu/~lczhang/311/lab03/data.zip\n",
    "\n",
    "# Unzip the zip file.\n",
    "!unzip data.zip"
   ]
  },
  {
   "cell_type": "markdown",
   "metadata": {
    "id": "ivDbma_22tRK"
   },
   "source": [
    "In addition to using `numpy` for its linear algebra functionalities, we will again\n",
    "the `pandas` package to help us read CSV files and manipulate tabular data.\n",
    "The below code reads each of the csv files into a **data frame**, which is a way that\n",
    "`pandas` stores tabular data.\n",
    "As an added bonus, Jupyter notebooks display these data frames in a human-readable way."
   ]
  },
  {
   "cell_type": "code",
   "execution_count": 2,
   "metadata": {
    "colab": {
     "base_uri": "https://localhost:8080/",
     "height": 617
    },
    "id": "kLnzGOEr2tRK",
    "outputId": "8755610c-6c41-4933-efb3-dab1e50265d7"
   },
   "outputs": [
    {
     "data": {
      "text/html": [
       "<div>\n",
       "<style scoped>\n",
       "    .dataframe tbody tr th:only-of-type {\n",
       "        vertical-align: middle;\n",
       "    }\n",
       "\n",
       "    .dataframe tbody tr th {\n",
       "        vertical-align: top;\n",
       "    }\n",
       "\n",
       "    .dataframe thead th {\n",
       "        text-align: right;\n",
       "    }\n",
       "</style>\n",
       "<table border=\"1\" class=\"dataframe\">\n",
       "  <thead>\n",
       "    <tr style=\"text-align: right;\">\n",
       "      <th></th>\n",
       "      <th>datetime</th>\n",
       "      <th>excel_datetime_code</th>\n",
       "      <th>excel_day</th>\n",
       "      <th>excel_time</th>\n",
       "      <th>field_soil_temp_c</th>\n",
       "      <th>field_air_temp_c</th>\n",
       "      <th>field_rh</th>\n",
       "      <th>field_soil_wc</th>\n",
       "      <th>forest_soil_temp_c</th>\n",
       "      <th>forest_air_temp_c</th>\n",
       "      <th>forest_rh</th>\n",
       "      <th>forest_soil_wc</th>\n",
       "      <th>pond_soil_temp_c</th>\n",
       "      <th>pond_air_temp_c</th>\n",
       "      <th>pond_rh</th>\n",
       "      <th>pond_soil_wc</th>\n",
       "    </tr>\n",
       "  </thead>\n",
       "  <tbody>\n",
       "    <tr>\n",
       "      <th>0</th>\n",
       "      <td>9/1/2016 0:00</td>\n",
       "      <td>42614.00000</td>\n",
       "      <td>42614</td>\n",
       "      <td>0.000000</td>\n",
       "      <td>19.960</td>\n",
       "      <td>15.342</td>\n",
       "      <td>79.2</td>\n",
       "      <td>0.0642</td>\n",
       "      <td>19.365</td>\n",
       "      <td>17.391</td>\n",
       "      <td>75.7</td>\n",
       "      <td>0.0214</td>\n",
       "      <td>18.604</td>\n",
       "      <td>16.296</td>\n",
       "      <td>76.9</td>\n",
       "      <td>0.2472</td>\n",
       "    </tr>\n",
       "    <tr>\n",
       "      <th>1</th>\n",
       "      <td>9/1/2016 1:00</td>\n",
       "      <td>42614.04167</td>\n",
       "      <td>42614</td>\n",
       "      <td>0.041667</td>\n",
       "      <td>19.603</td>\n",
       "      <td>15.438</td>\n",
       "      <td>82.8</td>\n",
       "      <td>0.0642</td>\n",
       "      <td>19.199</td>\n",
       "      <td>17.034</td>\n",
       "      <td>79.3</td>\n",
       "      <td>0.0214</td>\n",
       "      <td>18.200</td>\n",
       "      <td>16.129</td>\n",
       "      <td>81.5</td>\n",
       "      <td>0.2465</td>\n",
       "    </tr>\n",
       "    <tr>\n",
       "      <th>2</th>\n",
       "      <td>9/1/2016 2:00</td>\n",
       "      <td>42614.08333</td>\n",
       "      <td>42614</td>\n",
       "      <td>0.083333</td>\n",
       "      <td>19.246</td>\n",
       "      <td>14.481</td>\n",
       "      <td>85.2</td>\n",
       "      <td>0.0649</td>\n",
       "      <td>19.056</td>\n",
       "      <td>16.010</td>\n",
       "      <td>81.2</td>\n",
       "      <td>0.0214</td>\n",
       "      <td>17.843</td>\n",
       "      <td>15.438</td>\n",
       "      <td>83.9</td>\n",
       "      <td>0.2465</td>\n",
       "    </tr>\n",
       "    <tr>\n",
       "      <th>3</th>\n",
       "      <td>9/1/2016 3:00</td>\n",
       "      <td>42614.12500</td>\n",
       "      <td>42614</td>\n",
       "      <td>0.125000</td>\n",
       "      <td>18.961</td>\n",
       "      <td>14.146</td>\n",
       "      <td>87.9</td>\n",
       "      <td>0.0649</td>\n",
       "      <td>18.913</td>\n",
       "      <td>15.461</td>\n",
       "      <td>84.5</td>\n",
       "      <td>0.0214</td>\n",
       "      <td>17.510</td>\n",
       "      <td>14.098</td>\n",
       "      <td>86.9</td>\n",
       "      <td>0.2458</td>\n",
       "    </tr>\n",
       "    <tr>\n",
       "      <th>4</th>\n",
       "      <td>9/1/2016 4:00</td>\n",
       "      <td>42614.16667</td>\n",
       "      <td>42614</td>\n",
       "      <td>0.166667</td>\n",
       "      <td>18.652</td>\n",
       "      <td>13.810</td>\n",
       "      <td>89.8</td>\n",
       "      <td>0.0649</td>\n",
       "      <td>18.794</td>\n",
       "      <td>15.151</td>\n",
       "      <td>86.0</td>\n",
       "      <td>0.0214</td>\n",
       "      <td>17.153</td>\n",
       "      <td>13.978</td>\n",
       "      <td>90.1</td>\n",
       "      <td>0.2458</td>\n",
       "    </tr>\n",
       "    <tr>\n",
       "      <th>...</th>\n",
       "      <td>...</td>\n",
       "      <td>...</td>\n",
       "      <td>...</td>\n",
       "      <td>...</td>\n",
       "      <td>...</td>\n",
       "      <td>...</td>\n",
       "      <td>...</td>\n",
       "      <td>...</td>\n",
       "      <td>...</td>\n",
       "      <td>...</td>\n",
       "      <td>...</td>\n",
       "      <td>...</td>\n",
       "      <td>...</td>\n",
       "      <td>...</td>\n",
       "      <td>...</td>\n",
       "      <td>...</td>\n",
       "    </tr>\n",
       "    <tr>\n",
       "      <th>715</th>\n",
       "      <td>9/30/2016 19:00</td>\n",
       "      <td>42643.79167</td>\n",
       "      <td>42643</td>\n",
       "      <td>0.791667</td>\n",
       "      <td>15.461</td>\n",
       "      <td>15.557</td>\n",
       "      <td>78.4</td>\n",
       "      <td>0.1833</td>\n",
       "      <td>15.055</td>\n",
       "      <td>15.605</td>\n",
       "      <td>80.5</td>\n",
       "      <td>0.1419</td>\n",
       "      <td>15.533</td>\n",
       "      <td>15.772</td>\n",
       "      <td>77.8</td>\n",
       "      <td>0.2661</td>\n",
       "    </tr>\n",
       "    <tr>\n",
       "      <th>716</th>\n",
       "      <td>9/30/2016 20:00</td>\n",
       "      <td>42643.83333</td>\n",
       "      <td>42643</td>\n",
       "      <td>0.833333</td>\n",
       "      <td>15.342</td>\n",
       "      <td>15.366</td>\n",
       "      <td>78.5</td>\n",
       "      <td>0.1826</td>\n",
       "      <td>15.008</td>\n",
       "      <td>15.390</td>\n",
       "      <td>80.0</td>\n",
       "      <td>0.1405</td>\n",
       "      <td>15.294</td>\n",
       "      <td>15.724</td>\n",
       "      <td>77.7</td>\n",
       "      <td>0.2654</td>\n",
       "    </tr>\n",
       "    <tr>\n",
       "      <th>717</th>\n",
       "      <td>9/30/2016 21:00</td>\n",
       "      <td>42643.87500</td>\n",
       "      <td>42643</td>\n",
       "      <td>0.875000</td>\n",
       "      <td>15.247</td>\n",
       "      <td>14.601</td>\n",
       "      <td>78.1</td>\n",
       "      <td>0.1826</td>\n",
       "      <td>14.960</td>\n",
       "      <td>14.649</td>\n",
       "      <td>80.0</td>\n",
       "      <td>0.1397</td>\n",
       "      <td>15.079</td>\n",
       "      <td>14.960</td>\n",
       "      <td>77.3</td>\n",
       "      <td>0.2647</td>\n",
       "    </tr>\n",
       "    <tr>\n",
       "      <th>718</th>\n",
       "      <td>9/30/2016 22:00</td>\n",
       "      <td>42643.91667</td>\n",
       "      <td>42643</td>\n",
       "      <td>0.916667</td>\n",
       "      <td>15.151</td>\n",
       "      <td>13.906</td>\n",
       "      <td>81.7</td>\n",
       "      <td>0.1826</td>\n",
       "      <td>14.912</td>\n",
       "      <td>13.882</td>\n",
       "      <td>83.0</td>\n",
       "      <td>0.1383</td>\n",
       "      <td>14.888</td>\n",
       "      <td>14.074</td>\n",
       "      <td>80.7</td>\n",
       "      <td>0.2647</td>\n",
       "    </tr>\n",
       "    <tr>\n",
       "      <th>719</th>\n",
       "      <td>9/30/2016 23:00</td>\n",
       "      <td>42643.95833</td>\n",
       "      <td>42643</td>\n",
       "      <td>0.958333</td>\n",
       "      <td>15.055</td>\n",
       "      <td>13.714</td>\n",
       "      <td>88.0</td>\n",
       "      <td>0.1819</td>\n",
       "      <td>14.864</td>\n",
       "      <td>13.594</td>\n",
       "      <td>88.7</td>\n",
       "      <td>0.1376</td>\n",
       "      <td>14.745</td>\n",
       "      <td>13.858</td>\n",
       "      <td>86.9</td>\n",
       "      <td>0.2647</td>\n",
       "    </tr>\n",
       "  </tbody>\n",
       "</table>\n",
       "<p>720 rows × 16 columns</p>\n",
       "</div>"
      ],
      "text/plain": [
       "            datetime  excel_datetime_code  excel_day  excel_time  \\\n",
       "0      9/1/2016 0:00          42614.00000      42614    0.000000   \n",
       "1      9/1/2016 1:00          42614.04167      42614    0.041667   \n",
       "2      9/1/2016 2:00          42614.08333      42614    0.083333   \n",
       "3      9/1/2016 3:00          42614.12500      42614    0.125000   \n",
       "4      9/1/2016 4:00          42614.16667      42614    0.166667   \n",
       "..               ...                  ...        ...         ...   \n",
       "715  9/30/2016 19:00          42643.79167      42643    0.791667   \n",
       "716  9/30/2016 20:00          42643.83333      42643    0.833333   \n",
       "717  9/30/2016 21:00          42643.87500      42643    0.875000   \n",
       "718  9/30/2016 22:00          42643.91667      42643    0.916667   \n",
       "719  9/30/2016 23:00          42643.95833      42643    0.958333   \n",
       "\n",
       "     field_soil_temp_c  field_air_temp_c  field_rh  field_soil_wc  \\\n",
       "0               19.960            15.342      79.2         0.0642   \n",
       "1               19.603            15.438      82.8         0.0642   \n",
       "2               19.246            14.481      85.2         0.0649   \n",
       "3               18.961            14.146      87.9         0.0649   \n",
       "4               18.652            13.810      89.8         0.0649   \n",
       "..                 ...               ...       ...            ...   \n",
       "715             15.461            15.557      78.4         0.1833   \n",
       "716             15.342            15.366      78.5         0.1826   \n",
       "717             15.247            14.601      78.1         0.1826   \n",
       "718             15.151            13.906      81.7         0.1826   \n",
       "719             15.055            13.714      88.0         0.1819   \n",
       "\n",
       "     forest_soil_temp_c  forest_air_temp_c  forest_rh  forest_soil_wc  \\\n",
       "0                19.365             17.391       75.7          0.0214   \n",
       "1                19.199             17.034       79.3          0.0214   \n",
       "2                19.056             16.010       81.2          0.0214   \n",
       "3                18.913             15.461       84.5          0.0214   \n",
       "4                18.794             15.151       86.0          0.0214   \n",
       "..                  ...                ...        ...             ...   \n",
       "715              15.055             15.605       80.5          0.1419   \n",
       "716              15.008             15.390       80.0          0.1405   \n",
       "717              14.960             14.649       80.0          0.1397   \n",
       "718              14.912             13.882       83.0          0.1383   \n",
       "719              14.864             13.594       88.7          0.1376   \n",
       "\n",
       "     pond_soil_temp_c  pond_air_temp_c  pond_rh  pond_soil_wc  \n",
       "0              18.604           16.296     76.9        0.2472  \n",
       "1              18.200           16.129     81.5        0.2465  \n",
       "2              17.843           15.438     83.9        0.2465  \n",
       "3              17.510           14.098     86.9        0.2458  \n",
       "4              17.153           13.978     90.1        0.2458  \n",
       "..                ...              ...      ...           ...  \n",
       "715            15.533           15.772     77.8        0.2661  \n",
       "716            15.294           15.724     77.7        0.2654  \n",
       "717            15.079           14.960     77.3        0.2647  \n",
       "718            14.888           14.074     80.7        0.2647  \n",
       "719            14.745           13.858     86.9        0.2647  \n",
       "\n",
       "[720 rows x 16 columns]"
      ]
     },
     "execution_count": 2,
     "metadata": {},
     "output_type": "execute_result"
    }
   ],
   "source": [
    "import pandas as pd\n",
    "\n",
    "# read each of the csv files as a *pandas data frame*\n",
    "data201609 = pd.read_csv('data/data2016sept.csv')\n",
    "data201610 = pd.read_csv('data/data2016oct.csv')\n",
    "data201709 = pd.read_csv('data/data2017sept.csv')\n",
    "data201710 = pd.read_csv('data/data2017oct.csv')\n",
    "\n",
    "# display one the dataframes in the notebook\n",
    "data201609"
   ]
  },
  {
   "cell_type": "markdown",
   "metadata": {
    "id": "6zZSkVLC2tRL"
   },
   "source": [
    "Let's also take look at how each of our individual forest features\n",
    "may help predict the pond air temperature. Scatter plots\n",
    "like this give us a sense of how important each of our features may be.\n",
    "If you are curious about what the features mean, refer to the link given\n",
    "in the Acknowledgements section earlier."
   ]
  },
  {
   "cell_type": "code",
   "execution_count": 3,
   "metadata": {
    "colab": {
     "base_uri": "https://localhost:8080/",
     "height": 1000
    },
    "id": "WXLougJ32tRL",
    "outputId": "af8d402f-961b-44f8-bd4c-e7ea1f63b47d"
   },
   "outputs": [
    {
     "data": {
      "image/png": "[encoded data removed]",
      "text/plain": [
       "<Figure size 640x480 with 1 Axes>"
      ]
     },
     "metadata": {},
     "output_type": "display_data"
    },
    {
     "data": {
      "image/png": "[encoded data removed]",
      "text/plain": [
       "<Figure size 640x480 with 1 Axes>"
      ]
     },
     "metadata": {},
     "output_type": "display_data"
    },
    {
     "data": {
      "image/png": "[encoded data removed]",
      "text/plain": [
       "<Figure size 640x480 with 1 Axes>"
      ]
     },
     "metadata": {},
     "output_type": "display_data"
    },
    {
     "data": {
      "image/png": "[encoded data removed]",
      "text/plain": [
       "<Figure size 640x480 with 1 Axes>"
      ]
     },
     "metadata": {},
     "output_type": "display_data"
    }
   ],
   "source": [
    "data_set = data201609  # change me\n",
    "for fet in [\"forest_air_temp_c\", \"forest_soil_temp_c\", \"forest_rh\", \"forest_soil_wc\"]:\n",
    "    plt.figure()\n",
    "    X = data_set[fet]\n",
    "    t = data_set[\"pond_air_temp_c\"]\n",
    "    plt.title(\"UTM Environmental Data in 2016 Oct/Nov\")\n",
    "    plt.scatter(X, t)\n",
    "    plt.xlabel(fet)\n",
    "    plt.ylabel(\"pond_air_temp_c\")"
   ]
  },
  {
   "cell_type": "markdown",
   "metadata": {
    "id": "lyY1V1ER2tRL"
   },
   "source": [
    "### Data Splitting\n",
    "\n",
    "We will first separate the data into training, validation, and test sets.\n",
    "Rather than choosing a random percentage of data points to leave out in our\n",
    "test set, we will instead place the *most recent* data points in our test set.\n",
    "In particular, we will use the `201710` data as the test set, and\n",
    "`201709` data as our validation set.\n",
    "\n",
    "**Graded Task:** Explain why splitting the data by date is a better strategy\n",
    "than randomly selecting data points in our test set."
   ]
  },
  {
   "cell_type": "code",
   "execution_count": 4,
   "metadata": {
    "id": "Gcy1dUAC2tRM"
   },
   "outputs": [],
   "source": [
    "# Include your explanation here for your TA.\n",
    "\n",
    "# Explanation: It follows that the end goal of a succesful model is to be able\n",
    "# to take past data, to make predictions on future, unseen data. Therefore it\n",
    "# makes sense to avoid contaminating the training set with future data, and\n",
    "# instead validate and test on that future data, to get a more accurate\n",
    "# idea, of how the model extends key patterns that repeat in future observation."
   ]
  },
  {
   "cell_type": "markdown",
   "metadata": {
    "id": "JO-7rJ472tRM"
   },
   "source": [
    "Here's our code to split the training/validation/test sets:"
   ]
  },
  {
   "cell_type": "code",
   "execution_count": 5,
   "metadata": {
    "colab": {
     "base_uri": "https://localhost:8080/"
    },
    "id": "IIpZwRUT2tRN",
    "outputId": "030972ba-a1b0-4a99-a36e-ca04343e226a"
   },
   "outputs": [
    {
     "name": "stdout",
     "output_type": "stream",
     "text": [
      "Number of training examples: 1464\n",
      "Number of validation examples: 720\n",
      "Number of test examples: 744\n"
     ]
    }
   ],
   "source": [
    "train_data = pd.concat([data201609, data201610])\n",
    "valid_data = data201709\n",
    "test_data = data201710\n",
    "\n",
    "print(\"Number of training examples:\", len(train_data))\n",
    "print(\"Number of validation examples:\", len(valid_data))\n",
    "print(\"Number of test examples:\", len(test_data))"
   ]
  },
  {
   "cell_type": "markdown",
   "metadata": {
    "id": "GmYkiQbl2tRN"
   },
   "source": [
    "Now that we have our training set in place, our main task is to\n",
    "predict the pond air temperature at UTM using the forest features.\n",
    "We need to begin by building the data matrix `X` and the target vector\n",
    "`t` for the training, validation, and test data.\n",
    "\n",
    "**Task**: Complete the function `get_input_targets`, which takes a pandas dataframe.\n",
    "Most of the code is written for you. `X_fets` is a numpy array of shape $N \\times 4$,\n",
    "where each row contains the four forest measurements.\n",
    "You will need to construct the numpy array `X` of shape $N \\times 5$, where\n",
    "`X` has an extra column of 1's. This accounts for the bias parameter.\n",
    "You may find the functions `np.ones` and `np.concatenate` helpful, but\n",
    "make sure you read the documentations before using these functions.\n",
    "\n",
    "Debugging tip: if you find this task challenging, try to keep track of\n",
    "(and print out) the *shapes* of each of the quantities that you work with."
   ]
  },
  {
   "cell_type": "code",
   "execution_count": 6,
   "metadata": {
    "id": "_pm7YvGA2tRN"
   },
   "outputs": [],
   "source": [
    "def get_input_targets(data):\n",
    "    \"\"\"\n",
    "    Produces the data matrix and target vector given a dataframe `data` read\n",
    "    from one of the csv files containing the UTM weather data.\n",
    "\n",
    "    The returned data matrix should have a column of 1's, so that the bias\n",
    "    parameter will be folded into the weight vector.\n",
    "    \"\"\"\n",
    "    # extract the target vector\n",
    "    t = np.array(data[\"pond_air_temp_c\"])\n",
    "\n",
    "    # extract the data matrix:\n",
    "    X_fets = np.array(data[[\"forest_air_temp_c\", \"forest_soil_temp_c\", \"forest_rh\", \"forest_soil_wc\"]])\n",
    "\n",
    "    n = len(data) # number of data points, you may find this information useful\n",
    "\n",
    "    # Add a column of ones for the bias term\n",
    "    bias_column = np.ones((X_fets.shape[0], 1))  # Shape: (N, 1)\n",
    "    X = np.concatenate([bias_column, X_fets], axis=1)  # Shape: (N, 5)\n",
    "    return (X, t)\n",
    "\n",
    "X_train, t_train = get_input_targets(train_data)"
   ]
  },
  {
   "cell_type": "markdown",
   "metadata": {
    "id": "PQwX12fq2tRO"
   },
   "source": [
    "Let's print out the shape of `X_train`, just to make sure that it is what we expect:"
   ]
  },
  {
   "cell_type": "code",
   "execution_count": 7,
   "metadata": {
    "colab": {
     "base_uri": "https://localhost:8080/"
    },
    "id": "yF5JQ6ly2tRO",
    "outputId": "b2977411-a636-4817-b6bf-b335dbe0b093"
   },
   "outputs": [
    {
     "data": {
      "text/plain": [
       "(1464, 5)"
      ]
     },
     "execution_count": 7,
     "metadata": {},
     "output_type": "execute_result"
    }
   ],
   "source": [
    "X_train.shape"
   ]
  },
  {
   "cell_type": "markdown",
   "metadata": {
    "id": "-8jBjR0i2tRO"
   },
   "source": [
    "When you are sure that your code works as intended, generate the validation\n",
    "and test data matrices."
   ]
  },
  {
   "cell_type": "code",
   "execution_count": 8,
   "metadata": {
    "colab": {
     "base_uri": "https://localhost:8080/"
    },
    "id": "GmC_TY4z2tRO",
    "outputId": "fc0fe0e5-c7e8-4ce7-ab11-94780e318868"
   },
   "outputs": [
    {
     "name": "stdout",
     "output_type": "stream",
     "text": [
      "(720, 5)\n",
      "(744, 5)\n"
     ]
    }
   ],
   "source": [
    "X_valid, t_valid = get_input_targets(valid_data)\n",
    "X_test, t_test = get_input_targets(test_data)\n",
    "\n",
    "print(X_valid.shape)\n",
    "print(X_test.shape)"
   ]
  },
  {
   "cell_type": "markdown",
   "metadata": {
    "id": "vUqHPtLg2tRP"
   },
   "source": [
    "## Part 2. Linear Regression Model\n",
    "\n",
    "We will be training a linear regression model using gradient descent.\n",
    "Recall that a linear regression model is of the form:\n",
    "\n",
    "$$y = f({\\bf x}) = {\\bf w}^T {\\bf x}$$\n",
    "\n",
    "Where $y$ is the prediction,\n",
    "${\\bf x}$ is a vector consisting of our features and ${\\bf w}$ is a vector of the trainable weights. Note that we include the bias $b$ as the last element in the weight vector. This is\n",
    "convenient since it allows us to compute $y$ using a single vector-vector multiplication; We don't need to explicitly add in the bias term after the multiplication.\n",
    "Our goal is to find a good set of weights ${\\bf w}$ so that $y$ will be close to $t$\n",
    "across our training data. We will find these weights via gradient descent.\n",
    "\n",
    "Before we can apply gradient descent, we need to write a few helper functions:\n",
    "\n",
    "- `pred(w, X)`: which will compute predictions for a data set\n",
    "- `mse(w, X, t)`: which will compute the mean square error cost function for a data set\n",
    "- `grad(w, X, t)`: which will compute the gradient of the cost function at ${\\bf w}$\n",
    "\n",
    "Since these helper functions will be called many times, we need them to be\n",
    "efficient. We will make sure that these functions are written via **vectorized**\n",
    "`numpy` code. In other words, we will avoid using loops in our code, so that\n",
    "`numpy` can parallelize matrix operations whenever possible.\n",
    "\n",
    "**Graded Task:** Complete the `pred`, which produces a vector of predictions given\n",
    "a set of weights ${\\bf w}$ and a data matrix `X`.\n",
    "Crucially, **do not use any loops**. Instead, use linear algebra\n",
    "operations."
   ]
  },
  {
   "cell_type": "code",
   "execution_count": 10,
   "metadata": {
    "id": "-mm4Qd1B2tRP"
   },
   "outputs": [],
   "source": [
    "def pred(w, X):\n",
    "    \"\"\"\n",
    "    Compute the prediction made by a linear hypothesis with weights `w`\n",
    "    on the data set with input data matrix `X`. Recall that N is the number of\n",
    "    samples and D is the number of features. The +1 accounts for the bias term.\n",
    "\n",
    "    Parameters:\n",
    "        `weight` - a numpy array of shape (D+1)\n",
    "        `X` - data matrix of shape (N, D+1)\n",
    "        `t` - target vector of shape (N)\n",
    "\n",
    "\n",
    "    Returns: prediction vector of shape (N)\n",
    "    \"\"\"\n",
    "    # TODO: complete this function\n",
    "\n",
    "    predictions_vec = np.dot(X, w)\n",
    "\n",
    "    return predictions_vec"
   ]
  },
  {
   "cell_type": "markdown",
   "metadata": {
    "id": "V6g97GRj2tRP"
   },
   "source": [
    "The function `mse` is written for you, and\n",
    "computes the *cost* associated with a particular choice\n",
    "of ${\\bf w}$ across a data set. It measures how\n",
    "\"bad\" a set of weights ${\\bf w}$ is across a data set. More specifically,\n",
    "it computes the average discrepancy between our predictions based on the input data ($X$) and our weights ${\\bf w}$, and the true\n",
    "values, or targets ($t$).\n",
    "\n",
    "Notice that **we wrote this code without using any loops**.\n",
    "Instead, we used linear algebra operations like matrix multiplication (which can be done using the `@` symbol,\n",
    "or `np.matmul` or `np.dot`).\n",
    "This type of vectorization technique will be key to completing the remainder\n",
    "of this lab."
   ]
  },
  {
   "cell_type": "code",
   "execution_count": 11,
   "metadata": {
    "id": "txWBpnli2tRP"
   },
   "outputs": [],
   "source": [
    "def mse(w, X, t):\n",
    "    \"\"\"\n",
    "    Compute the mean squared error of a linear hypthesis with weights `w`\n",
    "    on the data set with input data matrix `X` and targets `t`\n",
    "\n",
    "    Parameters:\n",
    "        `weight` - a numpy array of shape (D+1)\n",
    "        `X` - data matrix of shape (N, D+1)\n",
    "        `t` - target vector of shape (N)\n",
    "\n",
    "    Returns: a scalar MSE value\n",
    "    \"\"\"\n",
    "    # This function is already completed for you as an example.\n",
    "    n =  X.shape[0] # the number of data points\n",
    "    y = pred(w, X)  # the vector of predictions\n",
    "    err = y - t\n",
    "    return np.sum(err ** 2) / (2 * n) # compute the MSE in a vectorized way"
   ]
  },
  {
   "cell_type": "markdown",
   "metadata": {
    "id": "csUuoyRN2tRQ"
   },
   "source": [
    "**Graded Task** Now, complete the following function, which computes the\n",
    "gradient of the cost function (square loss) at the weights `w`.\n",
    "Once again, **do not use any loops**. Instead, use linear algebra\n",
    "operations."
   ]
  },
  {
   "cell_type": "code",
   "execution_count": 12,
   "metadata": {
    "id": "7T24aGud2tRQ"
   },
   "outputs": [],
   "source": [
    "def grad(w, X, t):\n",
    "    '''\n",
    "    Return gradient of the cost function at `w`. The cost function\n",
    "    is the average square loss (MSE) across the data set X and the\n",
    "    target vector t.\n",
    "\n",
    "    Parameters:\n",
    "        `weight` - a current \"guess\" of what our weights should be,\n",
    "                   a numpy array of shape (D+1)\n",
    "        `X` - matrix of shape (N,D+1) of input features\n",
    "        `t` - target y values of shape (N)\n",
    "\n",
    "    Returns: prediction vector of shape (D+1)\n",
    "    '''\n",
    "    # Number of samples\n",
    "    N = X.shape[0]\n",
    "\n",
    "    # Compute predictions\n",
    "    y = pred(w, X)\n",
    "\n",
    "    # Compute the residuals (y - t)\n",
    "    residuals = y - t\n",
    "\n",
    "    # Compute the gradient\n",
    "    gradient = (1 / N) * np.dot(X.T, y - t)  # Shape: (N,)\n",
    "\n",
    "    return gradient"
   ]
  },
  {
   "cell_type": "markdown",
   "metadata": {
    "id": "it_oAdL_2tRQ"
   },
   "source": [
    "As we progress in this course, we will find that debugging\n",
    "machine learning code can get extremely challenging.\n",
    "It helps to **be systematic about testing** (follow a system),\n",
    "and to test every helper function as we write it.\n",
    "The `grad` function can be tricky to write, and so it helps to debug\n",
    "this function carefully.\n",
    "\n",
    "One way to debug this function is to recall the definition of a derivative.\n",
    "For a function $g(w): \\mathbb{R} \\rightarrow \\mathbb{R}$,\n",
    "\n",
    "$$g'(w) = \\lim_{h \\rightarrow 0} \\frac{g(w+h) - g(w)}{h}$$\n",
    "\n",
    "This above rule tells us that if we have a way to evaluate `g` and would like to\n",
    "test our implementation of $g'$, we can choose an $h$ small enough, and check if:\n",
    "\n",
    "$$g'(w) \\approx \\frac{g(w+h) - g(w)}{h}$$\n",
    "\n",
    "In our case, we have that for an $h$ small enough, we should have:\n",
    "\n",
    "$$\\frac{\\partial \\textrm{MSE}}{\\partial w_j} \\approx \\frac{\\textrm{MSE}(w_0, w_1, \\dots, w_{j-1}, w_j + h, w_{j+1}, \\dots, w_D) - \\textrm{MSE}(w_0, w_1, \\dots, w_D)}{h}$$\n",
    "\n",
    "**Graded Task:** We will use this above finite difference rule to check our implementation\n",
    "of the `grad` function. Consider the values ${\\bf w} = {\\bf 1}$, where every weight is set to 1.\n",
    "Check, for each of $w_j$, that `grad(w, X_train, t_train)[j]` is close to `(mse(perturbed_w, X_train, t_train) - mse(w, X_train, t_train)) / h`,\n",
    "where `perturbed_w` is a copy of the vector `w` but with the j-th element perturbed by `h`."
   ]
  },
  {
   "cell_type": "code",
   "execution_count": 13,
   "metadata": {
    "colab": {
     "base_uri": "https://localhost:8080/"
    },
    "id": "lL7Gzm1N2tRQ",
    "outputId": "b4d4e4fc-62ff-4112-95c3-c876aa2bb57e"
   },
   "outputs": [
    {
     "name": "stdout",
     "output_type": "stream",
     "text": [
      "Grading Checking for weight j= 0\n",
      "grad(w)[j] 97.69412588797816\n",
      "(mse(perturbed_w) - mse(w)) / h 97.6941758835892\n",
      "Grading Checking for weight j= 1\n",
      "grad(w)[j] 1446.5196269508883\n",
      "(mse(perturbed_w) - mse(w)) / h 1446.5325991022837\n",
      "Grading Checking for weight j= 2\n",
      "grad(w)[j] 1471.0863061040986\n",
      "(mse(perturbed_w) - mse(w)) / h 1471.0980375730287\n",
      "Grading Checking for weight j= 3\n",
      "grad(w)[j] 8150.429990259561\n",
      "(mse(perturbed_w) - mse(w)) / h 8150.772268172659\n",
      "Grading Checking for weight j= 4\n",
      "grad(w)[j] 4.915506874487706\n",
      "(mse(perturbed_w) - mse(w)) / h 4.915507088298909\n"
     ]
    }
   ],
   "source": [
    "h = 0.0001  # a reasonably small value of \"h\"\n",
    "w = np.ones(5)   # a vector of weights\n",
    "for j in [0, 1, 2, 3, 4]:\n",
    "    perturbed_w = np.copy(w)  # start by making a copy of w\n",
    "\n",
    "    # TODO: perturb the jth element of perturbed_w by h\n",
    "    perturbed_w[j] += h\n",
    "    # Be extremely careful that only the j-th element is perturbed!\n",
    "\n",
    "    # Compute the MSE for the perturbed weights\n",
    "    mse_perturbed = mse(perturbed_w, X_train, t_train)\n",
    "\n",
    "    # Compute the MSE for the original weights\n",
    "    mse_original = mse(w, X_train, t_train)\n",
    "\n",
    "    # Compute the finite difference estimate\n",
    "    estimate = (mse_perturbed - mse_original) / h  # TODO\n",
    "\n",
    "    print(\"Grading Checking for weight j=\", j)\n",
    "    print(\"grad(w)[j]\", grad(w, X_train, t_train)[j])\n",
    "    print(\"(mse(perturbed_w) - mse(w)) / h\", estimate)"
   ]
  },
  {
   "cell_type": "markdown",
   "metadata": {
    "id": "EphD6shc2tRR"
   },
   "source": [
    "**Task** To test our `grad` function more thoroughly, you may wish to repeat the above experiment with different values of ${\\bf w}$,\n",
    "${\\bf X}$ and ${\\bf t}$."
   ]
  },
  {
   "cell_type": "code",
   "execution_count": 14,
   "metadata": {
    "id": "7RDPO4hX2tRR"
   },
   "outputs": [
    {
     "ename": "AttributeError",
     "evalue": "'list' object has no attribute 'shape'",
     "output_type": "error",
     "traceback": [
      "\u001b[0;31m---------------------------------------------------------------------------\u001b[0m",
      "\u001b[0;31mAttributeError\u001b[0m                            Traceback (most recent call last)",
      "Cell \u001b[0;32mIn[14], line 5\u001b[0m\n\u001b[1;32m      3\u001b[0m t\u001b[38;5;241m=\u001b[39m[\u001b[38;5;241m1\u001b[39m,\u001b[38;5;241m1\u001b[39m,\u001b[38;5;241m0\u001b[39m,\u001b[38;5;241m0\u001b[39m,\u001b[38;5;241m1\u001b[39m]\n\u001b[1;32m      4\u001b[0m X\u001b[38;5;241m=\u001b[39m[[\u001b[38;5;241m1\u001b[39m,\u001b[38;5;241m0\u001b[39m,\u001b[38;5;241m2\u001b[39m,\u001b[38;5;241m1\u001b[39m,\u001b[38;5;241m3\u001b[39m],[\u001b[38;5;241m1\u001b[39m,\u001b[38;5;241m3\u001b[39m,\u001b[38;5;241m2\u001b[39m,\u001b[38;5;241m1\u001b[39m,\u001b[38;5;241m3\u001b[39m],[\u001b[38;5;241m0\u001b[39m,\u001b[38;5;241m1\u001b[39m,\u001b[38;5;241m2\u001b[39m,\u001b[38;5;241m4\u001b[39m,\u001b[38;5;241m3\u001b[39m],[\u001b[38;5;241m0\u001b[39m,\u001b[38;5;241m1\u001b[39m,\u001b[38;5;241m3\u001b[39m,\u001b[38;5;241m2\u001b[39m,\u001b[38;5;241m1\u001b[39m],[\u001b[38;5;241m1\u001b[39m,\u001b[38;5;241m2\u001b[39m,\u001b[38;5;241m3\u001b[39m,\u001b[38;5;241m4\u001b[39m,\u001b[38;5;241m1\u001b[39m]]\n\u001b[0;32m----> 5\u001b[0m \u001b[43mgrad\u001b[49m\u001b[43m(\u001b[49m\u001b[43mw\u001b[49m\u001b[43m,\u001b[49m\u001b[43m \u001b[49m\u001b[43mX\u001b[49m\u001b[43m,\u001b[49m\u001b[43m \u001b[49m\u001b[43mt\u001b[49m\u001b[43m)\u001b[49m\n",
      "Cell \u001b[0;32mIn[12], line 16\u001b[0m, in \u001b[0;36mgrad\u001b[0;34m(w, X, t)\u001b[0m\n\u001b[1;32m      2\u001b[0m \u001b[38;5;250m\u001b[39m\u001b[38;5;124;03m'''\u001b[39;00m\n\u001b[1;32m      3\u001b[0m \u001b[38;5;124;03mReturn gradient of the cost function at `w`. The cost function\u001b[39;00m\n\u001b[1;32m      4\u001b[0m \u001b[38;5;124;03mis the average square loss (MSE) across the data set X and the\u001b[39;00m\n\u001b[0;32m   (...)\u001b[0m\n\u001b[1;32m     13\u001b[0m \u001b[38;5;124;03mReturns: prediction vector of shape (D+1)\u001b[39;00m\n\u001b[1;32m     14\u001b[0m \u001b[38;5;124;03m'''\u001b[39;00m\n\u001b[1;32m     15\u001b[0m \u001b[38;5;66;03m# Number of samples\u001b[39;00m\n\u001b[0;32m---> 16\u001b[0m N \u001b[38;5;241m=\u001b[39m \u001b[43mX\u001b[49m\u001b[38;5;241;43m.\u001b[39;49m\u001b[43mshape\u001b[49m[\u001b[38;5;241m0\u001b[39m]\n\u001b[1;32m     18\u001b[0m \u001b[38;5;66;03m# Compute predictions\u001b[39;00m\n\u001b[1;32m     19\u001b[0m y \u001b[38;5;241m=\u001b[39m pred(w, X)\n",
      "\u001b[0;31mAttributeError\u001b[0m: 'list' object has no attribute 'shape'"
     ]
    }
   ],
   "source": [
    "# TODO  TEST FURTHER AS TIME PERMITS\n",
    "w=[0,0,0,0,0]\n",
    "t=[1,1,0,0,1]\n",
    "X=[[1,0,2,1,3],[1,3,2,1,3],[0,1,2,4,3],[0,1,3,2,1],[1,2,3,4,1]]\n",
    "grad(w, X, t)"
   ]
  },
  {
   "cell_type": "markdown",
   "metadata": {
    "id": "u1uChB_n2tRR"
   },
   "source": [
    "Once you are satisfied that your `grad` functions works as intended, we are ready to implement\n",
    "gradient descent.\n",
    "\n",
    "**Graded Task** Complete the function `solve_via_gradient_descent`, as per the specification below."
   ]
  },
  {
   "cell_type": "code",
   "execution_count": null,
   "metadata": {
    "colab": {
     "base_uri": "https://localhost:8080/",
     "height": 541
    },
    "id": "abDDDHho2tRR",
    "outputId": "0d9872ae-69f2-4dc2-a636-61fd2ddcf138"
   },
   "outputs": [],
   "source": [
    "def solve_via_gradient_descent(alpha=0.0025, niter=1000,\n",
    "                               X_train=X_train, t_train=t_train,\n",
    "                               X_valid=X_valid, t_valid=t_valid,\n",
    "                               w_init=None):\n",
    "    '''\n",
    "    Given `alpha` - the learning rate\n",
    "          `niter` - the number of iterations of gradient descent to run\n",
    "          `X_train` - the data matrix to use for training\n",
    "          `t_train` - the target vector to use for training\n",
    "          `X_valid` - the data matrix to use for validation\n",
    "          `t_valid` - the target vector to use for validation\n",
    "          `w_init` - the initial `w` vector (if `None`, use a vector of all zeros)\n",
    "    Solves for linear regression weights.\n",
    "    Return weights after `niter` iterations.\n",
    "    '''\n",
    "    # initialize all the weights to zeros\n",
    "    w = np.zeros(X_train.shape[1])\n",
    "\n",
    "    # we will track the MSE value at each iteration to record progress\n",
    "    train_mses = []\n",
    "    valid_mses = []\n",
    "\n",
    "    for it in range(niter):\n",
    "        # Compute the gradient of the cost function\n",
    "        gradient = grad(w, X_train, t_train)\n",
    "\n",
    "        # TODO: update `w` using the gradient descent update rule\n",
    "        w -= alpha * gradient\n",
    "\n",
    "        # Record the current training and validation MSE values\n",
    "        train_mse = mse(w, X_train, t_train)\n",
    "        valid_mse = mse(w, X_valid, t_valid)\n",
    "        train_mses.append(train_mse)\n",
    "        valid_mses.append(valid_mse)\n",
    "\n",
    "        # Note that in practice, it is expensive to compute MSE at\n",
    "        # every iteration, and practitioners will typically compute cost\n",
    "        # every few iterations instead (e.g. every ~10, 100 or 1000 iterations,\n",
    "        # depending on the learning task)\n",
    "        train_mses.append(mse(w, X_train, t_train))\n",
    "        valid_mses.append(mse(w, X_valid, t_valid))\n",
    "\n",
    "    plt.title(\"Training Curve Showing Training and Validation MSE at each Iteration\")\n",
    "    plt.plot(train_mses, label=\"Training MSE\")\n",
    "    plt.plot(valid_mses, label=\"Validation MSE\")\n",
    "    plt.xlabel(\"Iterations\")\n",
    "    plt.ylabel(\"MSE\")\n",
    "    plt.show()\n",
    "\n",
    "    print(\"Final Training MSE:\", min(train_mses))\n",
    "    print(\"Final Validation MSE:\", min(valid_mses))\n",
    "\n",
    "    return w\n",
    "\n",
    "solve_via_gradient_descent(alpha=0.0001, niter=500)"
   ]
  },
  {
   "cell_type": "markdown",
   "metadata": {
    "id": "pIhVJCYi2tRS"
   },
   "source": [
    "**Task** Show an example of a learning rate that is too low (makes little progress). Do this by calling `solve_via_gradient_descent()` with your chosen learning rate and number of iterations."
   ]
  },
  {
   "cell_type": "code",
   "execution_count": null,
   "metadata": {
    "id": "QoKwl4xT2tRS"
   },
   "outputs": [],
   "source": [
    "# TODO  COMPLETE AS TIME PERMITS\n",
    "low_w = solve_via_gradient_descent(alpha=0.000001, niter=500)"
   ]
  },
  {
   "cell_type": "markdown",
   "metadata": {
    "id": "tqFKJCWL2tRS"
   },
   "source": [
    "**Task** Show an example of a learning rate that is too high (cost does not decrease at all). Do this by calling `solve_via_gradient_descent()` with your chosen learning rate and number of iterations."
   ]
  },
  {
   "cell_type": "code",
   "execution_count": null,
   "metadata": {
    "id": "HzWmiCq02tRS"
   },
   "outputs": [],
   "source": [
    "# TODO  COMPLETE AS TIME PERMITS\n",
    "high_w = solve_via_gradient_descent(alpha=0.01, niter=500)"
   ]
  },
  {
   "cell_type": "markdown",
   "metadata": {
    "id": "G4N7l9rv2tRS"
   },
   "source": [
    "**Graded Task** At what learning rate and training iteration do you think we should stop training?\n",
    "Choose a learning rate and `niter` setting that minimizes the **validation MSE**.\n",
    "Here, we are treating the `niter` and `alpha` settings as **hyperparamters**."
   ]
  },
  {
   "cell_type": "code",
   "execution_count": null,
   "metadata": {
    "id": "zRxx9GRX2tRS"
   },
   "outputs": [],
   "source": [
    "alpha = 0.0001 # TODO: choose your own value  COMPLETE AS TIME PERMITS\n",
    "niter = 100000    # TODO: choose your own value\n",
    "best_w = solve_via_gradient_descent(alpha=alpha, niter=niter)\n",
    "print(best_w)"
   ]
  },
  {
   "cell_type": "markdown",
   "metadata": {
    "id": "Dj3hypHD2tRS"
   },
   "source": [
    "## Part 3. Linear Regression via `sklearn`\n",
    "\n",
    "In practise, machine learning practitioners rarely code models from scratch.\n",
    "Instead, we use libraries where commonly used model and code are already written\n",
    "and optimized for us.\n",
    "\n",
    "**Graded Task**: Fit the `LinearRegression` model below using our data set. You will need\n",
    "to read the documentation for the `sklearn.linear_model.LinearRegression` class\n",
    "to do so: [https://scikit-learn.org/stable/modules/generated/sklearn.linear_model.LinearRegression.html](https://scikit-learn.org/stable/modules/generated/sklearn.linear_model.LinearRegression.html)"
   ]
  },
  {
   "cell_type": "code",
   "execution_count": null,
   "metadata": {
    "id": "_XdT4B2u2tRS"
   },
   "outputs": [],
   "source": [
    "from sklearn.linear_model import LinearRegression\n",
    "\n",
    "lr = LinearRegression(fit_intercept=False)\n",
    "\n",
    "# TODO: fit the model\n",
    "lr.fit(X_train, t_train)\n",
    "\n",
    "print(lr.coef_) # weights\n",
    "print(\"Training MSE:\", mse(lr.coef_ , X_train, t_train))\n",
    "print(\"Validation MSE:\", mse(lr.coef_ , X_valid, t_valid))"
   ]
  },
  {
   "cell_type": "markdown",
   "metadata": {
    "id": "niI69sZs2tRT"
   },
   "source": [
    "**Graded Task**: Compare your results with these ones. Do you get the same results?\n",
    "Does sklearn's result give a higher or lower training MSE than yours?\n",
    "What about validation MSE?"
   ]
  },
  {
   "cell_type": "code",
   "execution_count": null,
   "metadata": {
    "id": "NxBDvOKl2tRT"
   },
   "outputs": [],
   "source": [
    "# TODO COMPLETE AS TIME PERMITS\n",
    "# Yes, we get about the same results. sklearn is lower in both.\n",
    "# (They are just better)"
   ]
  },
  {
   "cell_type": "markdown",
   "metadata": {
    "id": "M1_NZ25-2tRT"
   },
   "source": [
    "## Part 4. Reporting Test Accuracy\n",
    "\n",
    "**Graded Task**: Compare your best weights (in terms of validation MSE) from Parts 2 and 3.\n",
    "How should you choose which model to use? Why is it a **bad idea** to use the test set to\n",
    "make this decision?"
   ]
  },
  {
   "cell_type": "code",
   "execution_count": null,
   "metadata": {
    "id": "ddIAFS0_2tRT"
   },
   "outputs": [],
   "source": [
    "# TODO COMPLETE AS TIME PERMITS\n",
    "# "
   ]
  },
  {
   "cell_type": "markdown",
   "metadata": {
    "id": "Kz3u3W9r2tRT"
   },
   "source": [
    "Choose a single best hypothesis from Parts 3 and 4.\n",
    "Reporting the test accuracy on this model."
   ]
  },
  {
   "cell_type": "code",
   "execution_count": null,
   "metadata": {
    "id": "1OgYEtv_2tRU"
   },
   "outputs": [],
   "source": [
    "# TODO COMPLETE AS TIME PERMITS"
   ]
  }
 ],
 "metadata": {
  "colab": {
   "provenance": []
  },
  "kernelspec": {
   "display_name": "Python 3 (ipykernel)",
   "language": "python",
   "name": "python3"
  },
  "language_info": {
   "codemirror_mode": {
    "name": "ipython",
    "version": 3
   },
   "file_extension": ".py",
   "mimetype": "text/x-python",
   "name": "python",
   "nbconvert_exporter": "python",
   "pygments_lexer": "ipython3",
   "version": "3.11.2"
  }
 },
 "nbformat": 4,
 "nbformat_minor": 4
}
