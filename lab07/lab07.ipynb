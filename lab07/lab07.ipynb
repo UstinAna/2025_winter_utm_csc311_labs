{
  "cells": [
    {
      "cell_type": "markdown",
      "metadata": {
        "id": "zaDYeLNRqEHc"
      },
      "source": [
        "# CSC311 Lab 7: Bias-Variance Decomposition\n",
        "\n",
        "In prior labs we've looked at errors made by our classifiers, and considered the\n",
        "way these mistakes might impact groups we care about in our data. In this lab,\n",
        "we will explore more to understand these errors with respect to models that\n",
        "have been seen previously, and assess how changes in hyperparameters in our\n",
        "models can affect these errors. We will continue to use the NHANES dataset.\n",
        "\n",
        "Two major sources of error that we can, in theory, work to control\n",
        "are **bias** and **variance**. As you learned in class, bias occurs\n",
        "when our predictions reflect underlying assumptions about our model,\n",
        "regardless of the training data. For example, if we are making predictions\n",
        "using a linear regression model, we must assume linearity between our input\n",
        "features and our target. But relationships between features and targets\n",
        "are often far from linear. This means that if our model is constrained\n",
        "to make linear predictions when true relationships between features and\n",
        "targets are non-linear, our predictions will be biased in favour of our\n",
        "modelling assumptions.\n",
        "\n",
        "On the other hand, it might be the case that we train a model that very\n",
        "accurately captures the relationship between our features and target\n",
        "in a small set of training data. While this might seem desirable, if\n",
        "our training data does not reflect our test data, our model may not\n",
        "reflect relationships between the features and target in test data.\n",
        "This source of error is due the fact that we have tailored our model\n",
        "to capture relationships in a small, but non-representative, set of\n",
        "data. If we have this kind of a variance issue, our model may end up\n",
        "being very sensitive to small fluctuations in the training set that we\n",
        "choose.\n",
        "\n",
        "Ideally, we want to reduce **both** sources of error. If we manage to\n",
        "reduce both, then we can build more accurate models. But how do we\n",
        "diagnose bias and variance issues in the first place?  And what should\n",
        "we do about the issues? And how can we be sure that our \"fixes\"\n",
        "mitigate the risks that might be associated with our model's use?\n",
        "\n",
        "By the end of this lab you will be able to:\n",
        "\n",
        "1. How to assess bias and variance in errors in a synthetic regression and\n",
        "   real-world classification example;\n",
        "2. How bias and variance can be related to model complexity;\n",
        "3. How bias and variance can be related to choices of features;\n",
        "4. Some of the limitations to analyses of bias and variance, in particular as related to risk.\n",
        "\n",
        "Please work in groups of 1-2 during the lab.\n",
        "\n",
        "Acknowledgements:\n",
        "\n",
        "- Thanks to https://www.kaggle.com/code/tobyanderson/health-survey-analysis for some utilities to decode NHANES categories!  \n",
        "- This lab was created in collaboration with, Prof. Sonya Allin, Mustafa Haiderbhai, Carolyn Quinlan and others.\n",
        "\n",
        "## Submission\n",
        "\n",
        "If you are working with a partner, start by creating a group on Markus. If you are working alone,\n",
        "click \"Working Alone\".\n",
        "\n",
        "Submit the ipynb file `lab07.ipynb` on Markus\n",
        "**containing all your solutions to the Graded Tasks**.\n",
        "Your notebook file must contain your code **and outputs** where applicable,\n",
        "including printed lines and images.\n",
        "Your TA will not run your code for the purpose of grading.\n",
        "\n",
        "For this lab, you should submit the following:\n",
        "\n",
        "- Part 1. Your explanation of how the bias and variance of the polynomial regression model changes depending on the choice of $M$. (1 point)\n",
        "- Part 1. Your explanation of how the bias and variance of the polynomial regression model changes depending on the size of the training set.  (1 point)\n",
        "- Part 2. Your implementation of the `estimate_variance` function (3 points)\n",
        "- Part 2. Your explanation of how the parameter `C` relates to $\\lambda$ in the  `LogisticRegression` classifier (1 point)\n",
        "- Part 3. Your implementation of the `model_averaging` function. (3 points)\n",
        "- Part 3. Your explanation of how the number of trees affect the variance of the random forest classifier (1 point)\n",
        "\n",
        "\n",
        "## Google Colab Setup\n",
        "\n",
        "As before, we will import `matplotlib`, `numpy`, and `pandas` for plotting, linear algebra manipulations, and manipulating tabular data."
      ]
    },
    {
      "cell_type": "code",
      "execution_count": 2,
      "metadata": {
        "id": "OkzmYpsXqEHf"
      },
      "outputs": [],
      "source": [
        "import matplotlib.pyplot as plt # For plotting\n",
        "import numpy as np              # Linear algebra library\n",
        "import pandas as pd             # For manipulating tabular data\n",
        "import random                   # for random number generation"
      ]
    },
    {
      "cell_type": "markdown",
      "metadata": {
        "id": "PCHODeRsqEHh"
      },
      "source": [
        "## Part 1. Synthetic Data Demonstration\n",
        "\n",
        "In this section, we will study bias and variance in some synthetic data\n",
        "so that we can control the way that data is generated, so the data generation\n",
        "distribution is known. We will reconstruct some of the figures that were\n",
        "sketched in lecture 6, and reason numerically about the mathematics of the\n",
        "bias-variance decomposition discussed at the end of the lecture.\n",
        "Just like in lecture 6, we will use linear regression with a polynomial feature\n",
        "mapping, and reason about how the degree of the polynomial $M$ affects the\n",
        "various sources of error.\n",
        "\n",
        "The first thing we will do is define the data generation distribution\n",
        "from which our data sets will be drawn.\n",
        "To make it easy to visualize our data, the data set will contain\n",
        "one input feature $x$, and there will be one target feature $t$."
      ]
    },
    {
      "cell_type": "code",
      "execution_count": 3,
      "metadata": {
        "colab": {
          "base_uri": "https://localhost:8080/",
          "height": 447
        },
        "id": "Spa_gPfAqEHh",
        "outputId": "d2a7824a-a8ce-46d4-d7fb-dc6f577c0b1e",
        "collapsed": true
      },
      "outputs": [
        {
          "output_type": "execute_result",
          "data": {
            "text/plain": [
              "[<matplotlib.lines.Line2D at 0x7d52b0f03750>]"
            ]
          },
          "metadata": {},
          "execution_count": 3
        },
        {
          "output_type": "display_data",
          "data": {
            "text/plain": [
              "<Figure size 640x480 with 1 Axes>"
            ],
            "image/png": "[encoded data removed]"
          },
          "metadata": {}
        }
      ],
      "source": [
        "def get_gt(x, noise=True):\n",
        "    \"\"\"\n",
        "    Obtain the ground truth value t for an input feature with value x.\n",
        "    Note that there is some noise in t, unless excluded.\n",
        "\n",
        "    Parameters:\n",
        "        `x`     - a numpy array of input features\n",
        "                  the values should be between 0 and 100\n",
        "        `noise` - whether to include noise\n",
        "\n",
        "    Returns: The target `t` corresponding to each `x`. This is a np.array\n",
        "             with the same shape as `x`\n",
        "    \"\"\"\n",
        "    # the target is a polynomial function of the input data, plus noise\n",
        "    t = x**2 - 0.25 * x**2.3 + int(noise) * np.random.normal(0, 25, size=x.shape)\n",
        "    return t\n",
        "\n",
        "# generate input data that covers the range that we support: [0, 100]\n",
        "xs_all       = np.linspace(0,100,1000)\n",
        "ts_all       = get_gt(xs_all)\n",
        "ts_noiseless = get_gt(xs_all, noise=False)\n",
        "plt.plot(xs_all, ts_all, 'b.')      # data with noise\n",
        "plt.plot(xs_all, ts_noiseless, 'r') # data without noise"
      ]
    },
    {
      "cell_type": "markdown",
      "metadata": {
        "id": "O71JQSZ3qEHi"
      },
      "source": [
        "You can see that our data is obviously structured and it looks more or less like\n",
        "it follows a quadratic curve. But the structure may be a little hard to determine\n",
        "if we only have a few samples in hand, since the small number of samples\n",
        "may not accurately reflect data variation across the entire set.\n",
        "\n",
        "To illustrate, let's start with one more function that will sample a small\n",
        "number of data points (both input + output features):"
      ]
    },
    {
      "cell_type": "code",
      "execution_count": 4,
      "metadata": {
        "colab": {
          "base_uri": "https://localhost:8080/",
          "height": 447
        },
        "id": "_xLsQ9xdqEHk",
        "outputId": "4f956c3f-1977-41f0-c904-8d3b0d3d1025",
        "collapsed": true
      },
      "outputs": [
        {
          "output_type": "execute_result",
          "data": {
            "text/plain": [
              "[<matplotlib.lines.Line2D at 0x7d52aecc6790>]"
            ]
          },
          "metadata": {},
          "execution_count": 4
        },
        {
          "output_type": "display_data",
          "data": {
            "text/plain": [
              "<Figure size 640x480 with 1 Axes>"
            ],
            "image/png": "[encoded data removed]"
          },
          "metadata": {}
        }
      ],
      "source": [
        "def sample_data(size):\n",
        "    \"\"\"\n",
        "    Sample data points from our distribution.\n",
        "\n",
        "    Parameters:\n",
        "        `size`    - represents the np.array size of both the input and targets\n",
        "\n",
        "    Returns: A tuple `(xs, ts)`, both numpy arrays with shape provided by `size`\n",
        "    \"\"\"\n",
        "    xs = np.random.uniform(0, 100, size=size)\n",
        "    return xs, get_gt(xs)\n",
        "\n",
        "# generate a small number of input data, which may not reflect\n",
        "# the data variation across the entire dataset\n",
        "xs, ts  = sample_data(size=(10,))\n",
        "plt.plot(xs, ts, 'b.') # data with noise\n",
        "plt.plot(xs_all, ts_noiseless, 'r') # data without noise"
      ]
    },
    {
      "cell_type": "markdown",
      "metadata": {
        "id": "zPllt53pqEHk"
      },
      "source": [
        "Now, we will explore the sources of error when we learn a polynomial regression\n",
        "model from a data sample. First, we will use some `sklearn` functions to perform\n",
        "the feature mapping transformations.\n",
        "Here, `poly.fit_transform` performs the role of the feature mapping function\n",
        "$\\psi$ from the lecture slides."
      ]
    },
    {
      "cell_type": "code",
      "execution_count": 5,
      "metadata": {
        "colab": {
          "base_uri": "https://localhost:8080/"
        },
        "id": "2wF83HTuqEHk",
        "outputId": "40decbde-9f10-4157-c791-20557dc15a40",
        "collapsed": true
      },
      "outputs": [
        {
          "output_type": "stream",
          "name": "stdout",
          "text": [
            "(1000,)\n",
            "(1000, 3)\n",
            "[[1.00000000e+00 0.00000000e+00 0.00000000e+00]\n",
            " [1.00000000e+00 1.00100100e-01 1.00200300e-02]\n",
            " [1.00000000e+00 2.00200200e-01 4.00801202e-02]\n",
            " ...\n",
            " [1.00000000e+00 9.97997998e+01 9.96000004e+03]\n",
            " [1.00000000e+00 9.98998999e+01 9.97999000e+03]\n",
            " [1.00000000e+00 1.00000000e+02 1.00000000e+04]]\n"
          ]
        }
      ],
      "source": [
        "from sklearn.preprocessing import PolynomialFeatures\n",
        "\n",
        "M    = 2                     # the degree of our polynomial\n",
        "poly = PolynomialFeatures(M) # feature mapping fn\n",
        "\n",
        "xs_fets_all = poly.fit_transform(np.array(xs_all).reshape(-1, 1))\n",
        "print(xs_all.shape)      # should be (1000,)\n",
        "print(xs_fets_all.shape) # should be (1000, M+1)\n",
        "print(xs_fets_all)"
      ]
    },
    {
      "cell_type": "markdown",
      "metadata": {
        "id": "AnGRpt3KqEHk"
      },
      "source": [
        "With the feature mapping in place, we can see what a polynomial model\n",
        "built on these data points look like below.\n",
        "The blue curve is the quadratic that we fitted to our samples.  The red curve is\n",
        "the true, noiseless distribution of targets.  We might not be that far off with our\n",
        "predictions, but you should be able to see that our predictions will vary quite\n",
        "a bit depending on *which* ten samples we happen to have used to inform our\n",
        "model."
      ]
    },
    {
      "cell_type": "code",
      "execution_count": 6,
      "metadata": {
        "colab": {
          "base_uri": "https://localhost:8080/",
          "height": 447
        },
        "id": "3ErCKs4YqEHm",
        "outputId": "0d6dd974-eb35-47fb-daa8-1ffaa0d212c5",
        "collapsed": true
      },
      "outputs": [
        {
          "output_type": "execute_result",
          "data": {
            "text/plain": [
              "<matplotlib.legend.Legend at 0x7d52a6b11b10>"
            ]
          },
          "metadata": {},
          "execution_count": 6
        },
        {
          "output_type": "display_data",
          "data": {
            "text/plain": [
              "<Figure size 640x480 with 1 Axes>"
            ],
            "image/png": "[encoded data removed]"
          },
          "metadata": {}
        }
      ],
      "source": [
        "from sklearn.linear_model import LinearRegression\n",
        "\n",
        "# sample data points\n",
        "xs, ts = sample_data(size=(10,))\n",
        "xs_fets = poly.fit_transform(xs.reshape(-1, 1))\n",
        "\n",
        "# fit the polynomial regression model\n",
        "pm = LinearRegression().fit(xs_fets, ts)\n",
        "\n",
        "# plotting\n",
        "plt.scatter(xs, ts, color='b', marker='o', label='samples')\n",
        "plt.plot(xs_all, pm.predict(xs_fets_all), color='b', label='fitted') # fitted curve\n",
        "plt.plot(xs_all, ts_noiseless, 'r', label='true') # noiseless distribution of targets\n",
        "plt.legend(loc=\"lower right\")"
      ]
    },
    {
      "cell_type": "markdown",
      "metadata": {
        "id": "9Z_PmCTvqEHm"
      },
      "source": [
        "Let's repeat this process several times to better understand how sensitive our models are to the data we select."
      ]
    },
    {
      "cell_type": "code",
      "execution_count": 7,
      "metadata": {
        "colab": {
          "base_uri": "https://localhost:8080/",
          "height": 447
        },
        "id": "oNjnPtcrqEHm",
        "outputId": "06242b3c-653e-4bb1-90d0-d224d89b8dc3",
        "collapsed": true
      },
      "outputs": [
        {
          "output_type": "execute_result",
          "data": {
            "text/plain": [
              "<matplotlib.legend.Legend at 0x7d52a5d31a90>"
            ]
          },
          "metadata": {},
          "execution_count": 7
        },
        {
          "output_type": "display_data",
          "data": {
            "text/plain": [
              "<Figure size 640x480 with 1 Axes>"
            ],
            "image/png": "[encoded data removed]"
          },
          "metadata": {}
        }
      ],
      "source": [
        "colors = ['m','g','b','c','m','y','k','y','g','b'] #different color for each model fit\n",
        "\n",
        "for i in range(0, 10):\n",
        "    # sample data points\n",
        "    xs, ts = sample_data(size=(10,))\n",
        "    xs_fets = poly.fit_transform(xs.reshape(-1, 1))\n",
        "    # fit the polynomial regression model\n",
        "    pm = LinearRegression()\n",
        "    pm.fit(xs_fets, ts)\n",
        "    # plot the result\n",
        "    plt.plot(xs_all, pm.predict(xs_fets_all), color=colors[i], label=f'model {i+1}')\n",
        "\n",
        "plt.plot(xs_all, ts_noiseless, 'r', label='true') #noiseless distribution of targets\n",
        "plt.legend(loc=\"lower center\")"
      ]
    },
    {
      "cell_type": "markdown",
      "metadata": {
        "id": "NqjfOm_6qEHm"
      },
      "source": [
        "This graph shows us that, while each model we have trained may fit the samples\n",
        "we selected, none reflect the true distribution of targets perfectly.  We attribute\n",
        "errors related to the sensitivity of our models to their training data to **variance**.\n",
        "The more error that is attributable to variance, the more our model has **overfit**\n",
        "our training data and the less we may expect its performance to generalize.\n",
        "\n",
        "In fact, during lecture, we derived the following decomposition:\n",
        "$$\\mathbb{E}[ (y - t)^2 | {\\bf x}] = (\\mathbb{E}[y_\\star - y | {\\bf x}])^2 + \\mathrm{Var}(y | {\\bf x})  + \\mathrm{Var}(t | {\\bf x})$$\n",
        "Where\n",
        "- $y_\\star = \\mathbb{E}[t | {\\bf x}]$ is the optimal prediction.\n",
        "- $\\mathbb{E}[ (y - t)^2 ]$ is the total error\n",
        "- $(\\mathbb{E}[y_\\star - y | {\\bf x}])^2$ is the bias\n",
        "- $\\mathrm{Var}(y | {\\bf x})$ is the variance\n",
        "- $\\mathrm{Var}(t | {\\bf x})$ is the irreducible error or Bayes error.\n",
        "\n",
        "Let us reconstruct this decomposition numerically. First, just like in class,\n",
        "we will fix a value of ${\\bf x}$ for our decomposition. This ${\\bf x}$ is the test\n",
        "sample that we would like to make predictions for. We will call this test sample\n",
        "`x0`.  This is an arbitrary choice, and you are welcome to change this value\n",
        "and re-run this demonstration!"
      ]
    },
    {
      "cell_type": "code",
      "execution_count": 8,
      "metadata": {
        "id": "w82Izh4-qEHm"
      },
      "outputs": [],
      "source": [
        "x0 = np.array([10]) # choose x = 10 as our test sample"
      ]
    },
    {
      "cell_type": "markdown",
      "metadata": {
        "id": "adIFOijEqEHm"
      },
      "source": [
        "Now, let's estimate the quantities $\\mathbb{E}[ (y - t)^2 ]$,\n",
        "$(\\mathbb{E}[y_\\star - y | {\\bf x}])^2$, $\\mathrm{Var}(y | {\\bf x})$, and\n",
        "$\\mathrm{Var}(t | {\\bf x})$ for our choice of ${\\bf x}$.\n",
        "\n",
        "To estimate these quantities, we will need to sample several different\n",
        "predictions $y$ for our choice of ${\\bf x}$. Thus, we will need to perform\n",
        "the sampling and model building noise several times---let's say ~1000---and\n",
        "then obtain a prediction for each of these models."
      ]
    },
    {
      "cell_type": "code",
      "execution_count": 9,
      "metadata": {
        "colab": {
          "base_uri": "https://localhost:8080/"
        },
        "collapsed": true,
        "id": "AWS7shzbqEHm",
        "outputId": "ca03be66-bd0a-4f5c-efec-f0bd101d966a"
      },
      "outputs": [
        {
          "output_type": "stream",
          "name": "stdout",
          "text": [
            "[[ 2.25109877e+01]\n",
            " [-8.50113106e+01]\n",
            " [-8.77474995e+00]\n",
            " [-5.83721211e+01]\n",
            " [-8.33654391e+01]\n",
            " [ 8.15584292e+01]\n",
            " [-1.50841011e+02]\n",
            " [ 2.60082485e+01]\n",
            " [ 6.39572628e+01]\n",
            " [ 4.53343779e+01]\n",
            " [ 6.59959644e+01]\n",
            " [ 5.98522670e+01]\n",
            " [ 1.69039231e+01]\n",
            " [ 4.96196537e+01]\n",
            " [-1.30264151e+02]\n",
            " [-7.53663286e+01]\n",
            " [ 4.55451310e+01]\n",
            " [ 2.41723364e+01]\n",
            " [ 5.11929701e+01]\n",
            " [-4.29274418e+01]\n",
            " [ 3.30224552e+01]\n",
            " [ 3.02105464e+01]\n",
            " [ 1.63893257e+01]\n",
            " [ 5.17691772e+00]\n",
            " [ 8.26465027e+01]\n",
            " [ 5.93875563e+01]\n",
            " [ 5.96277335e+01]\n",
            " [ 1.18354369e+01]\n",
            " [ 2.84489570e+01]\n",
            " [ 4.60358253e+01]\n",
            " [-5.99342063e+01]\n",
            " [ 2.86663796e+01]\n",
            " [-2.38586671e+02]\n",
            " [ 7.12759383e+01]\n",
            " [-1.86153046e+02]\n",
            " [ 7.63065127e+01]\n",
            " [ 6.38629582e+01]\n",
            " [-1.03804456e+02]\n",
            " [-1.26980723e+02]\n",
            " [ 3.30166143e+01]\n",
            " [ 1.67687261e+01]\n",
            " [-2.10978598e+02]\n",
            " [ 4.71329461e+01]\n",
            " [ 1.32091513e+01]\n",
            " [ 6.24670853e+01]\n",
            " [ 8.03529164e+01]\n",
            " [ 4.47104013e+01]\n",
            " [-1.16164997e+01]\n",
            " [-2.60433721e+01]\n",
            " [-1.81511382e+01]\n",
            " [ 7.87912155e+01]\n",
            " [ 8.27238828e+01]\n",
            " [ 5.74770744e+01]\n",
            " [ 5.35355675e+01]\n",
            " [ 1.72767226e+01]\n",
            " [ 7.25780964e+00]\n",
            " [ 3.57156697e+01]\n",
            " [-1.19982658e+02]\n",
            " [ 3.93875359e+01]\n",
            " [-2.61672606e+01]\n",
            " [ 7.98912194e+01]\n",
            " [ 2.08883646e+01]\n",
            " [ 6.65589365e+01]\n",
            " [ 4.42228009e+01]\n",
            " [ 8.67741513e+01]\n",
            " [ 9.30422048e+01]\n",
            " [ 6.46741905e+00]\n",
            " [-5.49268416e+01]\n",
            " [ 6.18326739e+01]\n",
            " [ 5.94739676e+00]\n",
            " [-9.01863588e+00]\n",
            " [-2.12385424e+01]\n",
            " [ 4.53770464e+01]\n",
            " [ 2.14290714e+01]\n",
            " [ 7.57194448e+01]\n",
            " [-3.62870951e+02]\n",
            " [-1.43647157e+02]\n",
            " [ 3.00542580e+01]\n",
            " [ 2.01514608e+01]\n",
            " [-9.79110785e+01]\n",
            " [ 2.71277523e+01]\n",
            " [-6.48251808e+01]\n",
            " [ 5.83000011e+01]\n",
            " [ 2.64783430e+00]\n",
            " [ 2.32546314e+01]\n",
            " [ 6.20561032e+01]\n",
            " [ 7.26912668e+01]\n",
            " [ 9.35344682e+01]\n",
            " [-2.54216293e+01]\n",
            " [ 7.39150028e+01]\n",
            " [-2.94717480e+01]\n",
            " [-7.86188782e+01]\n",
            " [ 1.75793381e+01]\n",
            " [ 9.14767674e+01]\n",
            " [-2.24315523e+02]\n",
            " [ 7.10506411e+01]\n",
            " [-5.26163237e+01]\n",
            " [-2.35353142e+01]\n",
            " [-2.81111950e+01]\n",
            " [ 6.19049591e+01]\n",
            " [ 7.52262730e+01]\n",
            " [ 6.73092242e+01]\n",
            " [ 2.92735463e+01]\n",
            " [-4.10537165e+01]\n",
            " [ 1.35113412e+02]\n",
            " [ 1.48689415e+01]\n",
            " [ 2.98456021e+01]\n",
            " [ 7.61969046e+01]\n",
            " [ 7.92901051e+01]\n",
            " [ 1.07622946e+01]\n",
            " [ 8.77686590e+01]\n",
            " [ 8.36147994e+01]\n",
            " [ 5.17094882e+01]\n",
            " [-5.45718767e+00]\n",
            " [ 7.09488520e+01]\n",
            " [ 5.38529574e+01]\n",
            " [ 7.99211953e+01]\n",
            " [-1.65870930e+02]\n",
            " [ 8.80214952e+01]\n",
            " [-4.98345402e+01]\n",
            " [ 4.26928975e+01]\n",
            " [ 9.62723247e+00]\n",
            " [ 7.45100265e+01]\n",
            " [ 6.55268202e+01]\n",
            " [ 5.74118328e+01]\n",
            " [ 1.03254045e+02]\n",
            " [-2.56634444e+01]\n",
            " [-5.88881041e+01]\n",
            " [ 7.88679218e+01]\n",
            " [-1.94695168e+01]\n",
            " [ 5.85356257e+01]\n",
            " [ 3.16254469e+01]\n",
            " [ 6.90912854e+01]\n",
            " [ 4.11065419e+01]\n",
            " [-1.96575885e+01]\n",
            " [ 5.81905197e+01]\n",
            " [ 6.57358238e+01]\n",
            " [ 6.58150618e+01]\n",
            " [ 9.76655084e+01]\n",
            " [-8.99051140e+01]\n",
            " [-6.92759470e+01]\n",
            " [ 5.43569350e+01]\n",
            " [ 1.35563200e+02]\n",
            " [-8.94725564e+01]\n",
            " [ 3.41957790e+01]\n",
            " [ 9.48908372e+01]\n",
            " [-1.57952472e+02]\n",
            " [ 2.22921759e+01]\n",
            " [-1.03046771e+02]\n",
            " [ 8.96750060e+01]\n",
            " [ 8.24460126e+01]\n",
            " [ 9.83667582e+01]\n",
            " [ 3.83836352e+00]\n",
            " [ 4.89878126e+01]\n",
            " [-3.11687821e+01]\n",
            " [ 6.36147157e+01]\n",
            " [-2.22112218e+02]\n",
            " [ 1.12459135e+02]\n",
            " [ 3.99093477e+01]\n",
            " [ 9.99613274e+01]\n",
            " [ 8.77994880e+01]\n",
            " [-9.17786207e+01]\n",
            " [ 8.39142049e+01]\n",
            " [ 7.60413354e+01]\n",
            " [-2.23882689e+01]\n",
            " [ 4.58901942e+01]\n",
            " [ 8.16202420e+01]\n",
            " [ 9.56562979e+01]\n",
            " [ 4.60797401e+01]\n",
            " [ 4.11757416e+00]\n",
            " [-4.07760138e+01]\n",
            " [-2.12529170e+02]\n",
            " [ 8.12194473e+01]\n",
            " [ 8.00129104e+01]\n",
            " [ 8.32332355e+01]\n",
            " [ 3.95416619e+01]\n",
            " [-8.84669766e+00]\n",
            " [-2.96147441e+01]\n",
            " [ 8.21524374e+01]\n",
            " [ 6.52096447e+01]\n",
            " [ 6.05352174e+01]\n",
            " [ 6.63895202e+01]\n",
            " [ 5.90280129e+01]\n",
            " [-9.10732677e+01]\n",
            " [ 1.00600397e+02]\n",
            " [ 4.13439722e+01]\n",
            " [ 4.69667906e+01]\n",
            " [ 7.55990496e+01]\n",
            " [ 5.46359960e+01]\n",
            " [ 7.38056853e+01]\n",
            " [-2.02896207e+01]\n",
            " [ 4.12402286e+01]\n",
            " [ 8.81519238e+01]\n",
            " [ 2.30763752e+01]\n",
            " [ 5.03930401e+01]\n",
            " [ 2.13149512e+01]\n",
            " [-3.56681862e+01]\n",
            " [ 1.10465267e+02]\n",
            " [-4.40836748e+01]\n",
            " [ 7.06850041e+01]\n",
            " [ 3.37273731e+01]\n",
            " [-1.50321770e-01]\n",
            " [-4.98984411e+01]\n",
            " [-1.48072162e+02]\n",
            " [ 6.89969191e+01]\n",
            " [ 3.90350587e+01]\n",
            " [-3.77831439e+02]\n",
            " [ 5.47999767e+01]\n",
            " [ 8.52888779e+01]\n",
            " [ 7.17381472e+01]\n",
            " [ 7.52551521e+01]\n",
            " [-2.66710631e+01]\n",
            " [ 6.83748198e+01]\n",
            " [ 5.99609159e+01]\n",
            " [-2.41931514e+02]\n",
            " [ 1.42414742e+01]\n",
            " [ 8.11558860e+01]\n",
            " [ 1.03231098e+02]\n",
            " [ 7.65783697e+00]\n",
            " [ 3.99356971e+01]\n",
            " [ 1.40996583e+02]\n",
            " [ 9.60642331e+01]\n",
            " [ 1.32992608e+01]\n",
            " [ 8.72822152e+01]\n",
            " [ 8.44846229e+01]\n",
            " [ 7.87489359e+01]\n",
            " [ 1.68728804e+01]\n",
            " [ 8.34894548e+01]\n",
            " [ 9.83757827e+01]\n",
            " [ 2.93773322e+01]\n",
            " [ 8.38184435e+01]\n",
            " [ 5.28525508e+01]\n",
            " [ 1.03065733e+01]\n",
            " [ 6.91251551e+01]\n",
            " [ 1.30296340e+02]\n",
            " [ 9.09990625e+01]\n",
            " [ 7.39101660e+01]\n",
            " [ 5.55232894e+01]\n",
            " [ 5.81054556e+01]\n",
            " [ 4.83291811e+01]\n",
            " [-2.22874713e+02]\n",
            " [-6.30770908e+02]\n",
            " [-2.25946951e+01]\n",
            " [ 9.21988982e+01]\n",
            " [-1.51882615e+02]\n",
            " [ 9.33876603e+01]\n",
            " [ 6.66119055e+01]\n",
            " [ 8.16087246e+01]\n",
            " [ 8.02266440e+01]\n",
            " [-6.44427190e+01]\n",
            " [ 7.48766573e+00]\n",
            " [ 4.90571379e+01]\n",
            " [-7.65181486e+01]\n",
            " [ 7.33067912e+00]\n",
            " [ 7.44641969e+01]\n",
            " [ 1.97283913e+01]\n",
            " [ 6.15253573e+01]\n",
            " [ 5.62753311e+01]\n",
            " [-1.80663479e+02]\n",
            " [ 5.24661645e+01]\n",
            " [-1.47185354e+02]\n",
            " [ 2.46931449e+01]\n",
            " [ 8.68180318e+01]\n",
            " [ 1.23240868e+02]\n",
            " [ 4.82874098e+01]\n",
            " [ 8.02696197e+01]\n",
            " [ 1.95316284e+01]\n",
            " [ 4.98822020e+01]\n",
            " [ 4.02531794e+01]\n",
            " [ 9.48448530e+00]\n",
            " [ 6.22708440e+01]\n",
            " [ 5.90495032e+01]\n",
            " [-5.99402316e+01]\n",
            " [ 3.78010216e+01]\n",
            " [ 2.51092110e+01]\n",
            " [-3.35735755e+02]\n",
            " [ 4.86615978e+01]\n",
            " [-2.20859789e+02]\n",
            " [ 7.63616115e+01]\n",
            " [-1.80116731e+02]\n",
            " [-1.53170852e+02]\n",
            " [-1.08026529e+02]\n",
            " [ 8.05972472e+01]\n",
            " [ 8.06232771e+01]\n",
            " [ 8.41039148e+01]\n",
            " [ 7.90569470e+01]\n",
            " [-1.18456049e+01]\n",
            " [ 5.11014524e+01]\n",
            " [-6.51543884e+01]\n",
            " [-3.57984097e+02]\n",
            " [ 3.99752357e+01]\n",
            " [ 1.17795044e+01]\n",
            " [ 8.49644413e+01]\n",
            " [ 8.81807775e+01]\n",
            " [ 7.88882789e+01]\n",
            " [-1.89258977e+02]\n",
            " [ 1.11945780e+01]\n",
            " [ 5.89554018e+01]\n",
            " [-3.71639711e+01]\n",
            " [-2.28209403e+01]\n",
            " [-1.09809577e+02]\n",
            " [ 5.52916542e+01]\n",
            " [ 4.09373009e+01]\n",
            " [ 2.10097563e+01]\n",
            " [ 2.47363568e+01]\n",
            " [ 5.18090033e+01]\n",
            " [ 9.77797489e+01]\n",
            " [ 8.60140852e+01]\n",
            " [ 3.72577742e+01]\n",
            " [ 7.59651244e+01]\n",
            " [ 2.78301569e+01]\n",
            " [ 7.85752000e+01]\n",
            " [ 9.08327121e+01]\n",
            " [-5.23700782e+00]\n",
            " [ 1.07872824e+02]\n",
            " [ 6.22517456e+01]\n",
            " [ 4.38231035e+01]\n",
            " [-7.60418702e+01]\n",
            " [ 7.70907212e+01]\n",
            " [ 7.09213811e+01]\n",
            " [ 7.30168027e+01]\n",
            " [ 3.74294665e+01]\n",
            " [ 1.24699503e+00]\n",
            " [ 6.64778228e+01]\n",
            " [ 7.76362312e+01]\n",
            " [ 8.10409423e+01]\n",
            " [ 8.64623360e+00]\n",
            " [ 3.80383530e+01]\n",
            " [-1.36129599e+02]\n",
            " [ 5.86737773e+01]\n",
            " [-7.19205249e+01]\n",
            " [ 1.35156172e+01]\n",
            " [ 5.75643632e+01]\n",
            " [ 9.24581576e+01]\n",
            " [ 6.96493636e+00]\n",
            " [-6.65732156e+01]\n",
            " [ 5.23111618e+01]\n",
            " [-6.95811695e+01]\n",
            " [ 8.18457604e+01]\n",
            " [ 2.31408926e+01]\n",
            " [ 7.95240458e+01]\n",
            " [ 7.75557776e+01]\n",
            " [ 3.11853655e+01]\n",
            " [-1.09593224e+01]\n",
            " [ 5.06915430e+01]\n",
            " [ 1.00232073e+02]\n",
            " [ 8.57592088e+01]\n",
            " [ 5.85195148e+01]\n",
            " [ 3.86583617e+01]\n",
            " [-4.67540182e+01]\n",
            " [-2.23969443e+01]\n",
            " [ 8.29702160e+01]\n",
            " [ 4.77731874e+01]\n",
            " [ 9.15496360e+01]\n",
            " [ 7.70974615e+01]\n",
            " [ 9.04484824e+01]\n",
            " [-1.41933440e+01]\n",
            " [ 6.27062403e+01]\n",
            " [ 4.11866548e+01]\n",
            " [-1.83823998e+01]\n",
            " [ 5.51801133e+01]\n",
            " [ 1.00473040e+02]\n",
            " [ 5.32718988e+01]\n",
            " [ 1.93410417e+01]\n",
            " [ 3.14892371e+01]\n",
            " [ 6.43957844e+01]\n",
            " [-5.54874538e+00]\n",
            " [-1.31056046e+02]\n",
            " [-2.56995021e+02]\n",
            " [ 9.70241311e+01]\n",
            " [ 7.74058499e+01]\n",
            " [-9.24896712e+00]\n",
            " [ 4.96457593e+01]\n",
            " [ 8.80750257e+01]\n",
            " [ 7.50435249e+01]\n",
            " [ 5.90065512e+01]\n",
            " [ 8.30060227e+01]\n",
            " [-2.47152673e+01]\n",
            " [ 8.95758391e+01]\n",
            " [-2.15988004e+01]\n",
            " [-1.20968001e+02]\n",
            " [ 5.11826984e+01]\n",
            " [ 8.15435234e+01]\n",
            " [ 7.69880307e+01]\n",
            " [-1.83210951e+02]\n",
            " [ 9.65609339e+01]\n",
            " [-3.31691788e+01]\n",
            " [ 4.78985264e+01]\n",
            " [ 3.59716805e+01]\n",
            " [ 7.01088404e+01]\n",
            " [-9.28427499e+01]\n",
            " [ 9.64865060e+01]\n",
            " [-5.98600520e+01]\n",
            " [-6.11320384e+01]\n",
            " [ 4.98629086e+01]\n",
            " [ 4.38700576e+01]\n",
            " [ 6.18396904e+00]\n",
            " [ 7.04279287e+01]\n",
            " [ 7.93514304e+01]\n",
            " [-9.27711568e+01]\n",
            " [ 2.40507349e+01]\n",
            " [-1.31377258e+02]\n",
            " [ 8.81278960e+01]\n",
            " [ 6.48323422e+01]\n",
            " [ 5.85569777e+01]\n",
            " [-5.24897640e+01]\n",
            " [ 4.73035329e+01]\n",
            " [ 1.75590942e+00]\n",
            " [ 1.09824630e+01]\n",
            " [-3.35451842e+00]\n",
            " [ 1.03390536e+02]\n",
            " [-4.85753802e+01]\n",
            " [-1.56739921e+01]\n",
            " [ 7.85731927e+01]\n",
            " [-2.22052146e+02]\n",
            " [-1.19830101e+02]\n",
            " [ 9.58905701e+01]\n",
            " [ 8.55732430e+01]\n",
            " [ 5.01301656e+01]\n",
            " [ 8.65092678e+01]\n",
            " [ 8.55465331e+01]\n",
            " [ 4.96073982e+01]\n",
            " [-2.32795152e+01]\n",
            " [ 5.61005782e+01]\n",
            " [ 3.57069922e+01]\n",
            " [ 1.03604577e+02]\n",
            " [ 3.11805354e+01]\n",
            " [ 1.40220743e+01]\n",
            " [ 1.31588238e+01]\n",
            " [ 9.73296776e+01]\n",
            " [ 8.41740313e+00]\n",
            " [-2.41932304e+02]\n",
            " [-3.95634967e+02]\n",
            " [ 7.30520772e+01]\n",
            " [-1.50919282e+02]\n",
            " [ 6.67997696e+01]\n",
            " [-9.34955457e+01]\n",
            " [-2.09126390e+02]\n",
            " [ 5.88681502e+01]\n",
            " [-5.15136945e+01]\n",
            " [-8.80273726e-01]\n",
            " [ 8.95945875e+01]\n",
            " [ 1.09542711e+02]\n",
            " [ 4.37000722e+01]\n",
            " [ 3.69993300e+01]\n",
            " [-2.72457635e+01]\n",
            " [ 8.49014240e+01]\n",
            " [ 8.37439147e+01]\n",
            " [ 6.88064665e+01]\n",
            " [ 5.85745662e+00]\n",
            " [ 2.61016439e+01]\n",
            " [ 8.10862867e+01]\n",
            " [-5.08758736e+01]\n",
            " [ 6.55927773e+01]\n",
            " [-1.81264413e+02]\n",
            " [ 1.08348734e+02]\n",
            " [ 5.26966869e+01]\n",
            " [ 9.99162431e+01]\n",
            " [-1.88336658e+01]\n",
            " [ 5.03123007e+01]\n",
            " [ 1.17992985e+01]\n",
            " [-2.44764959e+02]\n",
            " [-3.90933776e+02]\n",
            " [ 6.50956059e+01]\n",
            " [ 7.90583958e+01]\n",
            " [-5.23749979e+01]\n",
            " [ 6.82857874e+01]\n",
            " [ 5.07435810e+01]\n",
            " [ 5.46444596e+01]\n",
            " [-1.14253418e+02]\n",
            " [ 7.93691085e+01]\n",
            " [ 5.89377127e+01]\n",
            " [ 3.15031589e+01]\n",
            " [ 8.95170682e+01]\n",
            " [ 3.57448946e+01]\n",
            " [-5.65938381e+00]\n",
            " [ 1.34448417e+02]\n",
            " [-1.54093081e+02]\n",
            " [ 6.79642373e+01]\n",
            " [ 8.97385591e+01]\n",
            " [ 7.23824582e+01]\n",
            " [ 6.02569162e+01]\n",
            " [ 4.27204035e+01]\n",
            " [-4.25808471e+01]\n",
            " [ 1.00476190e+02]\n",
            " [ 6.16615164e+01]\n",
            " [-9.19454487e+01]\n",
            " [ 7.89662629e+01]\n",
            " [ 4.47247633e+01]\n",
            " [ 3.50068790e+00]\n",
            " [ 5.98766340e+01]\n",
            " [-1.82478444e+01]\n",
            " [ 7.20997232e+01]\n",
            " [-2.62019864e+01]\n",
            " [ 5.31920457e+01]\n",
            " [ 9.61332708e+01]\n",
            " [-9.76493722e+01]\n",
            " [-3.14383549e+01]\n",
            " [ 1.58800663e+01]\n",
            " [ 1.16446551e+02]\n",
            " [ 1.19596691e+02]\n",
            " [ 6.69549398e+01]\n",
            " [ 7.25619761e+01]\n",
            " [ 4.73398846e+01]\n",
            " [ 4.01793619e+01]\n",
            " [ 7.83948592e+01]\n",
            " [-3.23583160e+01]\n",
            " [ 7.40270659e+01]\n",
            " [ 3.13689064e+01]\n",
            " [-3.64457639e+02]\n",
            " [ 1.09716798e+02]\n",
            " [-2.23417871e+02]\n",
            " [ 8.66104938e+01]\n",
            " [ 7.75262216e+01]\n",
            " [ 8.64202280e+01]\n",
            " [-6.04528043e+01]\n",
            " [ 2.14320672e+01]\n",
            " [ 8.19261569e+01]\n",
            " [-4.09891273e-01]\n",
            " [ 1.12246478e+01]\n",
            " [ 4.25017193e+01]\n",
            " [ 6.76968321e+01]\n",
            " [ 1.26381274e+01]\n",
            " [ 4.96480310e+01]\n",
            " [-1.46214609e+02]\n",
            " [ 8.28619409e+01]\n",
            " [ 9.90985320e+01]\n",
            " [ 4.72554035e+01]\n",
            " [-1.55377058e+02]\n",
            " [ 8.68282650e+01]\n",
            " [ 5.35207877e+01]\n",
            " [ 5.81579313e+01]\n",
            " [ 1.01117617e+02]\n",
            " [ 2.76768280e+01]\n",
            " [ 9.75343105e+01]\n",
            " [-1.97660590e+01]\n",
            " [ 8.52077598e-01]\n",
            " [ 8.69150216e+01]\n",
            " [ 1.06365844e+02]\n",
            " [-6.85610909e-01]\n",
            " [ 6.69956533e+01]\n",
            " [ 2.98647058e+01]\n",
            " [-3.52288978e+00]\n",
            " [ 8.47726184e+01]\n",
            " [ 4.48677521e+01]\n",
            " [ 6.57004276e+01]\n",
            " [-2.98255301e+02]\n",
            " [ 4.51726890e+01]\n",
            " [ 3.69141132e+01]\n",
            " [-1.63895390e+02]\n",
            " [ 5.13892589e+01]\n",
            " [ 6.38434976e+01]\n",
            " [ 8.97178393e+01]\n",
            " [-1.03397558e+02]\n",
            " [ 8.82914082e+01]\n",
            " [ 6.26072908e+01]\n",
            " [ 4.50035471e+01]\n",
            " [ 1.05794192e+02]\n",
            " [ 4.21304328e+01]\n",
            " [ 1.30875710e+02]\n",
            " [ 2.48128790e+01]\n",
            " [-6.48125055e+01]\n",
            " [-2.29626242e+02]\n",
            " [ 7.80832783e+01]\n",
            " [ 1.02711811e+02]\n",
            " [-1.25066375e+02]\n",
            " [-3.31769140e+01]\n",
            " [ 7.75416735e+01]\n",
            " [ 5.16795179e+01]\n",
            " [ 7.33247374e+01]\n",
            " [ 1.23769412e+02]\n",
            " [ 2.57700337e+01]\n",
            " [ 1.03227264e+02]\n",
            " [ 6.66277121e+00]\n",
            " [ 8.59554996e+01]\n",
            " [ 1.12031408e+02]\n",
            " [ 7.08998072e+01]\n",
            " [-2.74048701e+01]\n",
            " [-3.12577384e+00]\n",
            " [-2.24377245e+01]\n",
            " [ 5.31877653e+01]\n",
            " [ 1.15856023e+02]\n",
            " [ 5.91298675e+01]\n",
            " [ 2.86856239e+01]\n",
            " [ 3.43051628e+01]\n",
            " [-2.30931568e+02]\n",
            " [-6.69056078e+00]\n",
            " [ 5.86764106e+01]\n",
            " [ 5.17436390e+01]\n",
            " [-6.35214281e+01]\n",
            " [ 2.43896471e+01]\n",
            " [-8.23252832e+01]\n",
            " [ 6.62450616e+01]\n",
            " [ 4.37598966e+01]\n",
            " [ 6.09409955e+01]\n",
            " [ 6.53465052e+01]\n",
            " [ 2.38175536e+01]\n",
            " [ 7.47181093e+01]\n",
            " [ 2.77738595e+01]\n",
            " [ 4.14467230e+00]\n",
            " [ 1.12318401e+02]\n",
            " [ 9.07267269e+01]\n",
            " [ 1.19440897e+02]\n",
            " [-6.72037856e+01]\n",
            " [-5.78869356e+01]\n",
            " [-2.51944520e+01]\n",
            " [-1.67495863e+02]\n",
            " [ 9.22334113e+00]\n",
            " [ 8.46614192e+01]\n",
            " [ 6.33857769e+01]\n",
            " [ 6.54122440e+01]\n",
            " [-1.26392036e+02]\n",
            " [-5.32550152e+01]\n",
            " [-1.91693944e+01]\n",
            " [ 4.15624785e+01]\n",
            " [ 6.35104210e+01]\n",
            " [ 7.24593073e+01]\n",
            " [ 2.15626123e+01]\n",
            " [ 7.41384735e+01]\n",
            " [ 1.09289139e+02]\n",
            " [-8.77703465e+01]\n",
            " [ 9.69573263e+01]\n",
            " [ 6.36830516e+01]\n",
            " [-1.10299313e+02]\n",
            " [-1.69956938e+01]\n",
            " [-1.97642879e+02]\n",
            " [-2.22219587e+01]\n",
            " [ 7.77502271e+01]\n",
            " [ 3.58509522e+01]\n",
            " [ 8.46694425e+01]\n",
            " [ 7.39821678e+01]\n",
            " [ 7.53144648e+01]\n",
            " [-3.22786321e+01]\n",
            " [ 5.17636121e+01]\n",
            " [ 6.91580929e+01]\n",
            " [ 1.87497937e+01]\n",
            " [ 1.48031501e+01]\n",
            " [ 5.21263190e+00]\n",
            " [ 6.55233307e+01]\n",
            " [ 5.20130688e+01]\n",
            " [ 7.67644749e+01]\n",
            " [ 6.16560450e+01]\n",
            " [ 1.10285932e+02]\n",
            " [ 8.26420651e+01]\n",
            " [ 1.38914429e+02]\n",
            " [ 1.13836560e+02]\n",
            " [ 5.61210090e+00]\n",
            " [ 1.12553062e+02]\n",
            " [ 1.67473298e+01]\n",
            " [ 8.52158157e+01]\n",
            " [ 4.14613843e+01]\n",
            " [ 4.76105203e+01]\n",
            " [ 6.05366056e+01]\n",
            " [ 7.27586038e+01]\n",
            " [ 5.19406104e+01]\n",
            " [-7.65973427e+01]\n",
            " [-2.41629218e+02]\n",
            " [ 3.96005000e+01]\n",
            " [ 2.08054796e+01]\n",
            " [ 5.52565579e+01]\n",
            " [-9.78162597e+01]\n",
            " [-6.19984368e+01]\n",
            " [ 5.76722959e+01]\n",
            " [-1.06548573e+02]\n",
            " [ 7.56652549e+01]\n",
            " [ 1.10475008e+02]\n",
            " [-1.14197606e+02]\n",
            " [-2.90172406e+01]\n",
            " [ 6.86466980e+01]\n",
            " [ 7.78191361e+01]\n",
            " [ 4.03542976e+01]\n",
            " [-2.37128851e+02]\n",
            " [ 5.19576202e+01]\n",
            " [ 5.99682489e+01]\n",
            " [ 1.36859434e+01]\n",
            " [ 3.54743403e+01]\n",
            " [-1.45052584e+02]\n",
            " [ 6.26169554e+01]\n",
            " [ 7.99874975e+01]\n",
            " [ 7.22700366e+01]\n",
            " [-9.44713493e-01]\n",
            " [ 5.06250416e+01]\n",
            " [ 2.37710128e+00]\n",
            " [ 8.57813014e+01]\n",
            " [ 6.00836017e+01]\n",
            " [-3.01284950e+02]\n",
            " [ 2.04856163e+01]\n",
            " [-3.34730001e+01]\n",
            " [ 5.91285581e+01]\n",
            " [ 4.43017578e+01]\n",
            " [-2.35742919e+01]\n",
            " [ 7.51676582e+01]\n",
            " [ 1.69711092e+01]\n",
            " [ 4.21850448e+01]\n",
            " [ 5.40023057e+01]\n",
            " [-1.12308747e+01]\n",
            " [-2.65582930e-01]\n",
            " [ 5.65327882e+01]\n",
            " [-4.02218584e+01]\n",
            " [ 8.73959100e+01]\n",
            " [ 9.92670087e+01]\n",
            " [ 7.97408450e+00]\n",
            " [-1.46431040e+02]\n",
            " [ 5.08778390e+00]\n",
            " [ 3.53827706e+01]\n",
            " [ 9.13531508e+00]\n",
            " [ 8.11424469e+01]\n",
            " [ 1.30175652e+02]\n",
            " [ 9.68307147e+00]\n",
            " [ 6.39768803e+01]\n",
            " [ 1.07111768e+02]\n",
            " [-6.45918337e+01]\n",
            " [ 2.72649069e+01]\n",
            " [ 6.03361261e+01]\n",
            " [-3.70785862e+01]\n",
            " [-1.57666298e+01]\n",
            " [ 7.35535851e+01]\n",
            " [ 7.07292770e+01]\n",
            " [ 7.76042529e+01]\n",
            " [ 8.88047800e+01]\n",
            " [ 2.28423507e+01]\n",
            " [ 4.35549707e+01]\n",
            " [ 5.54925443e+01]\n",
            " [ 8.20529758e+00]\n",
            " [ 7.40756478e+01]\n",
            " [ 4.69941317e+01]\n",
            " [-1.36383956e+01]\n",
            " [-4.24060505e+01]\n",
            " [ 5.78099158e+01]\n",
            " [-2.02908123e+02]\n",
            " [ 1.12340905e+02]\n",
            " [ 1.96547622e+00]\n",
            " [ 4.74946674e+01]\n",
            " [ 9.56847198e+01]\n",
            " [ 3.30597029e+00]\n",
            " [ 4.39314661e+01]\n",
            " [ 6.93737546e+01]\n",
            " [-8.87934700e+01]\n",
            " [-3.88390676e+01]\n",
            " [-8.09497863e+01]\n",
            " [ 6.40592240e+01]\n",
            " [ 7.14382887e+01]\n",
            " [ 2.29577901e+01]\n",
            " [-8.28480889e-01]\n",
            " [ 7.61742478e+01]\n",
            " [ 3.87074379e+01]\n",
            " [ 9.27946024e+01]\n",
            " [ 7.38137111e+01]\n",
            " [ 8.70077520e+01]\n",
            " [-6.83244963e+00]\n",
            " [-6.34807014e+01]\n",
            " [-2.75057516e+01]\n",
            " [ 2.37918478e+01]\n",
            " [ 7.25603947e+01]\n",
            " [-1.52780477e+02]\n",
            " [ 6.67158521e+01]\n",
            " [ 9.13081726e+01]\n",
            " [ 5.90918370e+01]\n",
            " [-8.40799182e+01]\n",
            " [ 6.24183961e+01]\n",
            " [ 3.04484597e+01]\n",
            " [-4.73469416e+01]\n",
            " [-1.11469600e+02]\n",
            " [ 9.45191860e+01]\n",
            " [ 7.22084237e+01]\n",
            " [-1.29997986e+02]\n",
            " [ 2.81732276e+01]\n",
            " [-6.02785732e+01]\n",
            " [ 3.89046924e+01]\n",
            " [ 2.74138740e+01]\n",
            " [ 4.14294125e+01]\n",
            " [-8.36796762e+00]\n",
            " [ 4.92030027e+01]\n",
            " [-2.64829980e+02]\n",
            " [-1.64433360e+02]\n",
            " [ 8.54518121e+01]\n",
            " [ 8.81716750e+01]\n",
            " [ 5.87398791e+01]\n",
            " [ 3.02500098e+01]\n",
            " [-2.19553933e+01]\n",
            " [ 7.32926102e+01]\n",
            " [-2.16234741e+02]\n",
            " [-3.33703480e+01]\n",
            " [ 1.10401762e+01]\n",
            " [ 4.46299816e+01]\n",
            " [-7.51449915e+01]\n",
            " [ 7.42707337e+00]\n",
            " [ 1.33469452e+01]\n",
            " [ 5.54898235e+01]\n",
            " [ 9.01061376e+00]\n",
            " [ 6.17197012e+01]\n",
            " [-3.61116743e+01]\n",
            " [ 8.16020388e+01]\n",
            " [ 1.28068206e+01]\n",
            " [ 2.57273772e+01]\n",
            " [ 4.61226340e+01]\n",
            " [ 8.86719206e+01]\n",
            " [-6.70275589e+01]\n",
            " [-1.45993052e+02]\n",
            " [-2.99609541e+02]\n",
            " [ 5.62876813e+01]\n",
            " [ 4.64169646e+01]\n",
            " [ 8.47146956e+01]\n",
            " [ 3.74062180e+01]\n",
            " [-2.48582496e+01]\n",
            " [-5.49343118e+01]\n",
            " [ 3.48244692e+01]\n",
            " [-1.10212492e+01]\n",
            " [ 8.90927599e+01]\n",
            " [-1.32105967e+01]\n",
            " [ 4.29885694e+01]\n",
            " [ 9.25270600e+01]\n",
            " [ 1.31669206e+02]\n",
            " [ 1.32520714e+01]\n",
            " [ 3.66176034e+01]\n",
            " [-1.73125139e+02]\n",
            " [ 7.80231346e+01]\n",
            " [-2.85864044e+01]\n",
            " [-1.19524193e+02]\n",
            " [ 7.45083170e+01]\n",
            " [ 8.01105459e+01]\n",
            " [-2.14874599e+01]\n",
            " [ 6.60365973e+01]\n",
            " [ 4.76833003e+01]\n",
            " [-5.06250469e+01]\n",
            " [-1.10704905e+02]\n",
            " [ 1.11165072e+02]\n",
            " [ 2.18516824e+00]\n",
            " [-1.44908854e+02]\n",
            " [ 1.42167614e+02]\n",
            " [ 3.79207937e+01]\n",
            " [ 8.94665007e+01]\n",
            " [ 6.33888496e+01]\n",
            " [-1.60475850e+01]\n",
            " [ 9.16958229e+00]\n",
            " [ 7.05722370e+01]\n",
            " [-7.09105573e+01]\n",
            " [ 1.55652122e+01]\n",
            " [ 5.82217769e+01]\n",
            " [-6.05648326e+01]\n",
            " [ 4.60609320e+01]\n",
            " [ 4.81052734e+01]\n",
            " [ 5.08344967e+01]\n",
            " [ 2.67857644e+01]\n",
            " [ 6.28287104e+01]\n",
            " [-2.30120373e+01]\n",
            " [ 8.85128732e+01]\n",
            " [ 8.01042620e+01]\n",
            " [ 1.05902072e+02]\n",
            " [ 1.03125468e+01]\n",
            " [-1.32175141e+02]\n",
            " [-3.87087348e+01]\n",
            " [ 1.28649923e+02]\n",
            " [ 7.69795619e+01]\n",
            " [-1.11408506e+01]\n",
            " [-2.61201105e+01]\n",
            " [ 8.64343421e+01]\n",
            " [-3.01616614e+01]\n",
            " [-3.58253857e+02]\n",
            " [-7.12519233e+01]\n",
            " [-3.91067741e+02]\n",
            " [ 5.41115957e+01]\n",
            " [ 1.63858433e+01]\n",
            " [-1.87684913e+01]\n",
            " [ 1.39711404e+01]\n",
            " [-8.25539481e+01]\n",
            " [-9.15264069e+01]\n",
            " [ 1.12634874e+02]\n",
            " [ 5.06357064e+01]\n",
            " [ 4.56074641e+01]\n",
            " [ 5.81612357e+01]\n",
            " [ 8.87515684e+01]\n",
            " [ 6.24705923e+01]\n",
            " [ 7.38706064e+00]\n",
            " [ 6.21534440e+01]\n",
            " [ 2.93393188e+01]\n",
            " [ 1.14010034e+00]\n",
            " [ 1.04771401e+02]\n",
            " [ 3.73282187e+01]\n",
            " [ 8.28826655e+01]\n",
            " [ 9.72909238e+01]\n",
            " [ 9.64995023e+01]\n",
            " [ 1.09469042e+02]\n",
            " [ 7.38697539e+01]\n",
            " [ 6.89828076e+01]\n",
            " [ 9.37970469e+01]\n",
            " [ 7.32958001e+01]\n",
            " [-2.76905902e+00]\n",
            " [ 2.52005096e+01]\n",
            " [ 2.27482290e+01]\n",
            " [-1.73032218e+02]\n",
            " [ 3.63652932e+01]\n",
            " [ 5.93306315e+01]\n",
            " [ 4.73467367e+01]\n",
            " [-2.51162471e+01]\n",
            " [-5.70112806e+01]\n",
            " [ 6.70591087e+01]\n",
            " [ 1.55389914e+02]\n",
            " [ 8.79597256e+01]\n",
            " [ 1.05021752e+02]\n",
            " [-1.68739633e+01]\n",
            " [-1.05742340e+01]\n",
            " [ 4.78998144e+01]\n",
            " [-6.49852829e+01]\n",
            " [ 2.78303508e+01]\n",
            " [-1.17335274e+02]\n",
            " [ 7.49266675e+01]\n",
            " [-4.89885554e+01]\n",
            " [ 6.29501927e+01]\n",
            " [ 6.44437686e+01]\n",
            " [ 7.28045359e+01]\n",
            " [ 1.22716673e+01]\n",
            " [-1.02913143e+02]\n",
            " [ 6.53599277e+01]\n",
            " [ 1.12904022e+02]\n",
            " [-5.33450857e+01]\n",
            " [ 1.79655078e+01]\n",
            " [-1.10766162e+01]\n",
            " [ 1.63859069e+01]\n",
            " [ 9.29451197e+01]\n",
            " [ 4.57527916e+01]\n",
            " [ 7.41390787e+01]\n",
            " [ 1.11816382e+02]\n",
            " [ 7.56352624e+01]\n",
            " [ 5.81826241e+01]\n",
            " [ 6.53014890e+01]\n",
            " [-4.53445580e+02]\n",
            " [ 8.34241404e+01]\n",
            " [-1.06886554e+02]\n",
            " [ 2.30767698e+01]\n",
            " [ 9.60025466e+01]\n",
            " [ 7.08034758e+01]\n",
            " [ 9.09028135e+01]\n",
            " [ 1.71478331e+00]\n",
            " [ 8.60590365e+01]\n",
            " [ 8.13317349e+01]\n",
            " [-3.60554277e+01]\n",
            " [ 1.19394532e+02]\n",
            " [ 1.79349922e+01]\n",
            " [ 5.27620107e+01]\n",
            " [ 8.64961102e+01]\n",
            " [-5.64160612e+01]\n",
            " [ 5.30143685e+01]\n",
            " [-3.20485403e+00]\n",
            " [-2.43430463e+01]\n",
            " [ 2.23704250e+01]\n",
            " [ 1.53408905e+01]\n",
            " [ 5.11903433e+01]\n",
            " [ 6.29391532e+01]\n",
            " [ 2.28493867e+01]\n",
            " [ 9.15022997e+01]\n",
            " [ 7.46909947e+01]\n",
            " [ 1.08419036e+02]\n",
            " [-5.10754577e+01]\n",
            " [ 6.39629400e+01]\n",
            " [ 5.71608909e+01]\n",
            " [ 3.95119148e+01]\n",
            " [ 5.79611502e+01]\n",
            " [ 7.59585583e+01]\n",
            " [-3.92232728e+01]\n",
            " [ 8.64621644e+01]\n",
            " [ 8.10417774e+00]\n",
            " [ 4.55441280e+01]\n",
            " [ 7.96899313e+01]\n",
            " [-8.23033768e+00]\n",
            " [ 9.20587429e+01]\n",
            " [-1.74147369e+01]\n",
            " [ 4.54942329e+01]\n",
            " [ 2.40983963e+01]\n",
            " [ 8.98761671e+00]\n",
            " [ 1.25464176e+01]\n",
            " [-1.32905510e+01]\n",
            " [ 7.26338578e+01]\n",
            " [-1.39331481e+02]\n",
            " [-8.82130868e+01]\n",
            " [-2.00569911e+01]\n",
            " [ 1.47960734e+01]\n",
            " [ 4.88776753e+01]\n",
            " [ 7.04959161e+01]\n",
            " [-2.56312990e+01]\n",
            " [ 1.17561048e+02]\n",
            " [ 5.58579943e+01]\n",
            " [ 3.49142913e+01]\n",
            " [-2.96823933e+00]\n",
            " [ 2.34919386e+01]\n",
            " [ 7.16132657e+01]\n",
            " [ 7.96534009e+01]\n",
            " [ 7.03152474e+01]\n",
            " [ 4.19396172e+01]\n",
            " [ 1.14731981e+02]\n",
            " [ 4.27140958e+01]\n",
            " [-2.07493157e+02]\n",
            " [ 8.64214788e+01]\n",
            " [-8.59692704e+01]\n",
            " [-1.28439766e+02]\n",
            " [ 2.85308895e+01]\n",
            " [ 2.08718318e+01]\n",
            " [ 5.81003156e+01]\n",
            " [ 7.33826521e+01]\n",
            " [-6.32221963e+01]]\n"
          ]
        }
      ],
      "source": [
        "NUM_MODELS = 1000  # number of models we will build\n",
        "models = [LinearRegression() for i in range(NUM_MODELS)]\n",
        "ys = []\n",
        "\n",
        "for model in models:\n",
        "    xs, ts = sample_data(size=(10,))                 # sampling\n",
        "    xs_fets = poly.fit_transform(xs.reshape(-1, 1))  # feature mapping\n",
        "    model.fit(xs_fets, ts) # model fitting\n",
        "    # obtain a prediction:\n",
        "    y = model.predict(poly.fit_transform(x0.reshape(-1, 1)))\n",
        "    ys.append(y)\n",
        "ys = np.array(ys)\n",
        "\n",
        "print(ys) # print the predictions from the 1000 models"
      ]
    },
    {
      "cell_type": "markdown",
      "metadata": {
        "id": "geysVemQqEHm"
      },
      "source": [
        "This is enough for us to estimate the **variance** of our model at `x0` using these\n",
        "estimates $y_i$s, where each $y_i$ is the prediction made from the $i$th\n",
        "model:"
      ]
    },
    {
      "cell_type": "code",
      "execution_count": 10,
      "metadata": {
        "colab": {
          "base_uri": "https://localhost:8080/"
        },
        "id": "-W6r0dNXqEHm",
        "outputId": "d32ecbe0-9512-47e1-efd4-1bb945374385",
        "collapsed": true
      },
      "outputs": [
        {
          "output_type": "stream",
          "name": "stdout",
          "text": [
            "Variance: 7827.793385400083\n"
          ]
        }
      ],
      "source": [
        "print(\"Variance:\", np.var(ys))"
      ]
    },
    {
      "cell_type": "markdown",
      "metadata": {
        "id": "md_qrRcBqEHn"
      },
      "source": [
        "Now, $y_\\star = \\mathbb{E}[t | {\\bf x}]$, the optimal prediction we\n",
        "can make, can be computed using our data generation distribution. (The\n",
        "benefit of using synthetic data is our ability to access values like this\n",
        "one.)\n",
        "Thus, we can also estimate the **bias** of our model at `x0`:"
      ]
    },
    {
      "cell_type": "code",
      "execution_count": 11,
      "metadata": {
        "colab": {
          "base_uri": "https://localhost:8080/"
        },
        "id": "moJNKSf1qEHn",
        "outputId": "0912a666-9896-4d97-936d-c44c08e8b165"
      },
      "outputs": [
        {
          "output_type": "stream",
          "name": "stdout",
          "text": [
            "Bias 1098.4550414420914\n"
          ]
        }
      ],
      "source": [
        "y_star = get_gt(x0, noise=False)\n",
        "print(\"Bias\", np.mean(ys - y_star) ** 2)"
      ]
    },
    {
      "cell_type": "markdown",
      "metadata": {
        "id": "ilxUFEsqqEHn"
      },
      "source": [
        "Finally, we can either estimate the Bayes error, or read it\n",
        "directly from the way `get_gt` is implemented.\n",
        "\n",
        "**Task**: What is the (theoretical) Bayes error, which we can\n",
        "read directly from the way `get_gt` is implemented? You might find it helpful\n",
        "to look up the parameters of the `np.random.normal` function."
      ]
    },
    {
      "cell_type": "code",
      "execution_count": 12,
      "metadata": {
        "id": "lnlhkAqKqEHn"
      },
      "outputs": [],
      "source": [
        "# TODO The theoretical Bayes error is the variance introduced\n",
        "# by np.random.normal(0, 25, size=x.shape). Here, the variance is 25."
      ]
    },
    {
      "cell_type": "markdown",
      "metadata": {
        "id": "Tv_oqVIdqEHn"
      },
      "source": [
        "We can also produce an empirical estimate by sampling a ground-truth\n",
        "value corresponding to `x0` some number of times. We will use the latter\n",
        "approach, since the sampled ground-truth values will be useful for computing\n",
        "the total error as well."
      ]
    },
    {
      "cell_type": "code",
      "execution_count": 13,
      "metadata": {
        "colab": {
          "base_uri": "https://localhost:8080/"
        },
        "id": "YsshTl75qEHn",
        "outputId": "8889880e-c4c2-4dd2-fe36-7f0fbd7543a5"
      },
      "outputs": [
        {
          "output_type": "stream",
          "name": "stdout",
          "text": [
            "Bayes Error: 649.5600558410129\n",
            "SUM of bias + variance + bayes error: 9575.808482683187\n"
          ]
        }
      ],
      "source": [
        "ts_resample = get_gt(np.repeat(x0, NUM_MODELS)) # sample ts NUM_MODELs times\n",
        "print(\"Bayes Error:\", np.var(ts_resample)) # empirical estimate\n",
        "\n",
        "print(\"SUM of bias + variance + bayes error:\", np.var(ys) + np.mean(ys - y_star) ** 2 + np.var(ts_resample))"
      ]
    },
    {
      "cell_type": "markdown",
      "metadata": {
        "id": "Z9daU4SJqEHo"
      },
      "source": [
        "Now, let us estimate the total error, by comparing the predictions `ys`\n",
        "from above with the sampled ground-truth values `ts_resample`. This should\n",
        "be fairly close to the total above."
      ]
    },
    {
      "cell_type": "code",
      "execution_count": 13,
      "metadata": {
        "id": "PN3T_E4mqEHp",
        "colab": {
          "base_uri": "https://localhost:8080/"
        },
        "outputId": "49c64f63-58d4-495f-a9f1-ebef436f7c14"
      },
      "outputs": [
        {
          "output_type": "stream",
          "name": "stdout",
          "text": [
            "Total Error: 8774.556103214329\n"
          ]
        }
      ],
      "source": [
        "print(\"Total Error:\", np.mean((ys - ts_resample) ** 2))"
      ]
    },
    {
      "cell_type": "markdown",
      "metadata": {
        "id": "61AgdpQRqEHp"
      },
      "source": [
        "In case you would like experiment a bit (e.g., with different values of `x0`),\n",
        "here's the above code put in a single cell."
      ]
    },
    {
      "cell_type": "code",
      "execution_count": 14,
      "metadata": {
        "id": "koclBH0dqEHp",
        "colab": {
          "base_uri": "https://localhost:8080/"
        },
        "outputId": "dfadf936-255c-47a2-b004-a2d58332a449"
      },
      "outputs": [
        {
          "output_type": "stream",
          "name": "stdout",
          "text": [
            "Bias 1904.442305528331\n",
            "Variance: 1636.7611343381586\n",
            "Bayes Error: 608.8334426296628 (theoretical value: 625)\n",
            "SUM of bias + variance + bayes error: 4150.036882496152\n",
            "Total Error: 4161.074574872742\n"
          ]
        }
      ],
      "source": [
        "M = 2\n",
        "x0 = np.array([25])\n",
        "NUM_MODELS = 1000  # number of models we will build\n",
        "\n",
        "poly = PolynomialFeatures(M)\n",
        "models = [LinearRegression() for i in range(NUM_MODELS)]\n",
        "ys = []\n",
        "for model in models:\n",
        "    xs, ts = sample_data(size=(10,))                 # sampling\n",
        "    xs_fets = poly.fit_transform(xs.reshape(-1, 1))  # feature mapping\n",
        "    model.fit(xs_fets, ts) # model fitting\n",
        "    # obtain a prediction:\n",
        "    y = model.predict(poly.fit_transform(x0.reshape(-1, 1)))\n",
        "    ys.append(y)\n",
        "ys = np.array(ys)\n",
        "\n",
        "y_star = get_gt(x0, noise=False)\n",
        "ts_resample = get_gt(np.repeat(x0, NUM_MODELS)) # sample ts NUM_MODELs times\n",
        "\n",
        "\n",
        "print(\"Bias\", np.mean(ys - y_star) ** 2)\n",
        "print(\"Variance:\", np.var(ys))\n",
        "print(\"Bayes Error:\", np.var(ts_resample), f\"(theoretical value: {25**2})\")\n",
        "print(\"SUM of bias + variance + bayes error:\", np.var(ys) + np.mean(ys - y_star) ** 2 + np.var(ts_resample))\n",
        "print(\"Total Error:\", np.mean((ys - ts_resample) ** 2))"
      ]
    },
    {
      "cell_type": "markdown",
      "metadata": {
        "id": "Styp39JfqEHp"
      },
      "source": [
        "Let's see how bias and variance change as we change the complexity of our model.\n",
        "In this synthetic example, we will define complexity by the degree of the polynomial\n",
        "that we use to model our data.\n",
        "\n",
        "**Task**: Complete the code below to provide an\n",
        "empirical estimate of the bias, variance, Bayes error,\n",
        "and total error."
      ]
    },
    {
      "cell_type": "code",
      "execution_count": 18,
      "metadata": {
        "attributes": {
          "classes": [
            "python "
          ],
          "id": ""
        },
        "id": "HICQv7H3qEHp",
        "colab": {
          "base_uri": "https://localhost:8080/",
          "height": 449
        },
        "outputId": "05acdd0f-fed8-4dcf-9cbf-5c8a5132301b"
      },
      "outputs": [
        {
          "output_type": "display_data",
          "data": {
            "text/plain": [
              "<Figure size 640x480 with 1 Axes>"
            ],
            "image/png": "[encoded data removed]"
          },
          "metadata": {}
        }
      ],
      "source": [
        "NUM_MODELS = 1000\n",
        "x0 = np.array([25])  # note: we could also average over a range of xs for this analysis!\n",
        "degrees = [1, 2, 3, 4]\n",
        "\n",
        "bias, variance, bayes, total = [], [], [], []\n",
        "\n",
        "for M in degrees:\n",
        "    poly = PolynomialFeatures(M)\n",
        "    models = [LinearRegression() for i in range(NUM_MODELS)]\n",
        "    ts_resample = get_gt(np.repeat(x0, NUM_MODELS))\n",
        "\n",
        "    ys = []\n",
        "    for model in models:\n",
        "        xs, ts = sample_data(size=(10,))                 # sampling\n",
        "        xs_fets = poly.fit_transform(xs.reshape(-1, 1))  # feature mapping\n",
        "        model.fit(xs_fets, ts) # model fitting\n",
        "        # obtain a prediction:\n",
        "        y = model.predict(poly.fit_transform(x0.reshape(-1, 1)))\n",
        "        ys.append(y)\n",
        "    ys = np.array(ys)\n",
        "\n",
        "    y_star = get_gt(x0, noise=False)\n",
        "\n",
        "    # compute the bias, variance, bayes error, and total error for\n",
        "    # the current choice of max degree M\n",
        "\n",
        "    # bias_value = None # TODO\n",
        "    # variance_value = None # TODO\n",
        "    # bayes_value = None # TODO\n",
        "    # total_value = None # TODO\n",
        "\n",
        "\n",
        "    # TODO'S are done here\n",
        "    bias_value = (np.mean(ys) - y_star)**2  # squared difference between average prediction and true function\n",
        "    variance_value = np.mean((ys - np.mean(ys))**2)  # variance of predictions\n",
        "    bayes_value = np.mean((ts_resample - y_star)**2)  # irreducible error due to noise\n",
        "    total_value = np.mean((ys - y_star)**2)  # total prediction error\n",
        "\n",
        "    bias.append(bias_value)\n",
        "    variance.append(variance_value)\n",
        "    bayes.append(bayes_value)\n",
        "    total.append(total_value)\n",
        "\n",
        "plt.plot(degrees, bias, 'g', label='bias')\n",
        "plt.plot(degrees, variance, 'b', label='variance')\n",
        "plt.plot(degrees, bayes, 'y', label='bayes error')\n",
        "# plt.plot(degrees, total, 'r', label='total error') # Hidden for better scale\n",
        "plt.xlabel(\"Degree of polynomial\")\n",
        "plt.ylabel(\"Error\")\n",
        "plt.legend()\n",
        "plt.show()"
      ]
    },
    {
      "cell_type": "markdown",
      "metadata": {
        "id": "YiCK48LVqEHp"
      },
      "source": [
        "**Graded Task**: Based on the figure above, explain how the bias\n",
        "and variance of the model changes depending on the choice of $M$."
      ]
    },
    {
      "cell_type": "code",
      "execution_count": null,
      "metadata": {
        "id": "VqiZQ_59qEHp"
      },
      "outputs": [],
      "source": [
        "# TODO AS M tends towards 3 from the left, the bias decreases as the model\n",
        "# predictions become more accurate on average. Likewise the variance\n",
        "# decreases as the model gains complexity as underfits less. However for\n",
        "# values greater than 3, the variance increases as the model begins to overfit\n",
        "# the training data. Predictions vary significantly between input samples.\n"
      ]
    },
    {
      "cell_type": "markdown",
      "metadata": {
        "id": "flpOCuSKqEHp"
      },
      "source": [
        "**Graded Task**: Note that our choice of the number of training\n",
        "samples to use to build each model affects the variance of the\n",
        "model as well! How do you think the variance of our models will\n",
        "change if we *increase* the number of training samples (e.g., from\n",
        "10 to 100 or even 1000)."
      ]
    },
    {
      "cell_type": "code",
      "execution_count": null,
      "metadata": {
        "id": "L9AaAc1hqEHp"
      },
      "outputs": [],
      "source": [
        "# TODO As the number of training samples increases, the variance of the model\n",
        "# should decrease given that the model will be less affected by outliers. This\n",
        "# happens because the larger number of samples is proportionally more\n",
        "# representative of the underlying pattern to be learned."
      ]
    },
    {
      "cell_type": "markdown",
      "metadata": {
        "id": "ppfJFyWVqEHp"
      },
      "source": [
        "People often assume that, as a rule, bias falls and variance increases as model complexity increases.\n",
        "This can lead to accuracy profiles that are shaped like a \"U\". In the case above, a \"U\" shape\n",
        "is somewhat clear.  However, \"U\" shaped error profiles are not always a given!! Empirical results\n",
        "with neural networks, in fact, show that errors may keep decreasing as networks, and the parameters\n",
        "associated with them, become wide. This suggests that there might not be a bias-variance tradeoff\n",
        "in neural networks with respect to network width, unlike was originally claimed by\n",
        "[important authors in the ML space](https://www.dam.brown.edu/people/documents/bias-variance.pdf).\n",
        "\n",
        "If you are interested in learning more about this topic,\n",
        "we suggest you look at this recent paper by [Neal et. al](https://arxiv.org/abs/1810.08591).\n",
        "\n",
        "## Part 2. Using real data to examine Bias and Variance\n",
        "\n",
        "Now let's continue our bias/variance analysis on real data that we have seen in the past,\n",
        "and using some of the models that we have learned thus far.\n",
        "As before we will be focusing on NHANES survey data relevant to the assessment of heart disease.\n",
        "We again refer you to the [NHANES data dictionary](https://wwwn.cdc.gov/nchs/nhanes/continuousnhanes/default.aspx)\n",
        "to better understand the data. We will not repeat the exploratory data analysis from lab 2,\n",
        "but encourage you to review the data definition and key summary.\n",
        "\n",
        "- `gender` (RIAGENDR): which is binary 2=female, 1=male\n",
        "- `race_ethnicity` (RIDRETH3): which can be 1=mexican american, 2=other hispanic, 3=white, 4=black, 6=asian, ...\n",
        "- `age` (RIDAGEYR): Age in years\n",
        "- `drink_alcohol` (ALQ101): which is binary; 1 indicates the individual reportedly drinks alcohol and 2 indicates they do not\n",
        "- `blood_cholesterol` (LBDTCSI): Results of an individual's blood cholesterol tests (mmol of cholesterol/L of blood)\n",
        "- `blood_pressure_sys` (BPXSY1): an individual's systolic blood pressure\n",
        "- `diastolic_bp` (BPXDI1): an individual's diastolic blood pressure\n",
        "- `calories` (DR1TKCAL): the number of calories an individual eats per day\n",
        "- `BMI` (BMXBMI): an individual's Body Mass Index (which can be used to assess obesity)\n",
        "- `chest_pain_ever` (CDQ001): If an individual has ever reported chest pain.\n",
        "- `family_income` (INDFMPIR): Ratio of a family's income to poverty threshold\n",
        "\n",
        "We will be using these features to predict the column `target_heart`:\n",
        "\n",
        "- `target_heart`: An individual reports that they have heart disease (1=yes, 0=no)."
      ]
    },
    {
      "cell_type": "code",
      "execution_count": 19,
      "metadata": {
        "id": "W8JCDsSYqEHq",
        "colab": {
          "base_uri": "https://localhost:8080/"
        },
        "outputId": "c20964ef-e1b5-41c3-e472-7e19afaaec0f"
      },
      "outputs": [
        {
          "output_type": "stream",
          "name": "stdout",
          "text": [
            "--2025-02-26 05:33:06--  https://www.cs.toronto.edu/~lczhang/311/lab02/NHANES-heart.csv\n",
            "Resolving www.cs.toronto.edu (www.cs.toronto.edu)... 128.100.3.30\n",
            "Connecting to www.cs.toronto.edu (www.cs.toronto.edu)|128.100.3.30|:443... connected.\n",
            "HTTP request sent, awaiting response... 200 OK\n",
            "Length: 450659 (440K) [text/csv]\n",
            "Saving to: ‘NHANES-heart.csv’\n",
            "\n",
            "NHANES-heart.csv    100%[===================>] 440.10K  --.-KB/s    in 0.1s    \n",
            "\n",
            "2025-02-26 05:33:06 (3.90 MB/s) - ‘NHANES-heart.csv’ saved [450659/450659]\n",
            "\n"
          ]
        }
      ],
      "source": [
        "!wget https://www.cs.toronto.edu/~lczhang/311/lab02/NHANES-heart.csv"
      ]
    },
    {
      "cell_type": "code",
      "execution_count": 20,
      "metadata": {
        "id": "_TwerIQVqEHq",
        "colab": {
          "base_uri": "https://localhost:8080/",
          "height": 320
        },
        "outputId": "2f5e1055-010a-408b-c319-031416080cb2"
      },
      "outputs": [
        {
          "output_type": "execute_result",
          "data": {
            "text/plain": [
              "            gender  race_ethnicity  chest_pain_ever  drink_alcohol  \\\n",
              "count  8000.000000     8000.000000      8000.000000    8000.000000   \n",
              "mean      1.498375        3.222000         1.649125       1.304375   \n",
              "std       0.500029        1.330672         0.477274       0.460171   \n",
              "min       1.000000        1.000000         1.000000       1.000000   \n",
              "25%       1.000000        3.000000         1.000000       1.000000   \n",
              "50%       1.000000        3.000000         2.000000       1.000000   \n",
              "75%       2.000000        4.000000         2.000000       2.000000   \n",
              "max       2.000000        7.000000         2.000000       2.000000   \n",
              "\n",
              "               age          BMI    weight_kg  blood_pressure_sys  \\\n",
              "count  8000.000000  8000.000000  8000.000000         8000.000000   \n",
              "mean     62.627875    25.352687    61.112887          117.135500   \n",
              "std      12.225806     7.683466    32.803242           15.050115   \n",
              "min      40.000000    12.900000     3.300000           82.000000   \n",
              "25%      52.000000    19.700000    33.600000          108.000000   \n",
              "50%      63.000000    24.600000    63.700000          116.000000   \n",
              "75%      73.000000    29.500000    83.000000          122.000000   \n",
              "max      80.000000    82.900000   201.600000          220.000000   \n",
              "\n",
              "       diastolic_bp  blood_cholesterol     calories  family_income  \\\n",
              "count   8000.000000        8000.000000  8000.000000    8000.000000   \n",
              "mean      65.705000           4.584376  1866.986875       2.456017   \n",
              "std       11.610893           0.908403   867.494312       1.532800   \n",
              "min        0.000000           2.020000   171.000000       0.000000   \n",
              "25%       60.000000           4.090000  1337.750000       1.180000   \n",
              "50%       66.000000           4.500000  1735.000000       2.050000   \n",
              "75%       72.000000           4.970000  2215.250000       3.800000   \n",
              "max      116.000000          11.970000  8496.000000       5.000000   \n",
              "\n",
              "       target_heart  \n",
              "count   8000.000000  \n",
              "mean       0.500000  \n",
              "std        0.500031  \n",
              "min        0.000000  \n",
              "25%        0.000000  \n",
              "50%        0.500000  \n",
              "75%        1.000000  \n",
              "max        1.000000  "
            ],
            "text/html": [
              "\n",
              "  <div id=\"df-2e894e92-445b-4d8c-83c4-a9e38dd74dea\" class=\"colab-df-container\">\n",
              "    <div>\n",
              "<style scoped>\n",
              "    .dataframe tbody tr th:only-of-type {\n",
              "        vertical-align: middle;\n",
              "    }\n",
              "\n",
              "    .dataframe tbody tr th {\n",
              "        vertical-align: top;\n",
              "    }\n",
              "\n",
              "    .dataframe thead th {\n",
              "        text-align: right;\n",
              "    }\n",
              "</style>\n",
              "<table border=\"1\" class=\"dataframe\">\n",
              "  <thead>\n",
              "    <tr style=\"text-align: right;\">\n",
              "      <th></th>\n",
              "      <th>gender</th>\n",
              "      <th>race_ethnicity</th>\n",
              "      <th>chest_pain_ever</th>\n",
              "      <th>drink_alcohol</th>\n",
              "      <th>age</th>\n",
              "      <th>BMI</th>\n",
              "      <th>weight_kg</th>\n",
              "      <th>blood_pressure_sys</th>\n",
              "      <th>diastolic_bp</th>\n",
              "      <th>blood_cholesterol</th>\n",
              "      <th>calories</th>\n",
              "      <th>family_income</th>\n",
              "      <th>target_heart</th>\n",
              "    </tr>\n",
              "  </thead>\n",
              "  <tbody>\n",
              "    <tr>\n",
              "      <th>count</th>\n",
              "      <td>8000.000000</td>\n",
              "      <td>8000.000000</td>\n",
              "      <td>8000.000000</td>\n",
              "      <td>8000.000000</td>\n",
              "      <td>8000.000000</td>\n",
              "      <td>8000.000000</td>\n",
              "      <td>8000.000000</td>\n",
              "      <td>8000.000000</td>\n",
              "      <td>8000.000000</td>\n",
              "      <td>8000.000000</td>\n",
              "      <td>8000.000000</td>\n",
              "      <td>8000.000000</td>\n",
              "      <td>8000.000000</td>\n",
              "    </tr>\n",
              "    <tr>\n",
              "      <th>mean</th>\n",
              "      <td>1.498375</td>\n",
              "      <td>3.222000</td>\n",
              "      <td>1.649125</td>\n",
              "      <td>1.304375</td>\n",
              "      <td>62.627875</td>\n",
              "      <td>25.352687</td>\n",
              "      <td>61.112887</td>\n",
              "      <td>117.135500</td>\n",
              "      <td>65.705000</td>\n",
              "      <td>4.584376</td>\n",
              "      <td>1866.986875</td>\n",
              "      <td>2.456017</td>\n",
              "      <td>0.500000</td>\n",
              "    </tr>\n",
              "    <tr>\n",
              "      <th>std</th>\n",
              "      <td>0.500029</td>\n",
              "      <td>1.330672</td>\n",
              "      <td>0.477274</td>\n",
              "      <td>0.460171</td>\n",
              "      <td>12.225806</td>\n",
              "      <td>7.683466</td>\n",
              "      <td>32.803242</td>\n",
              "      <td>15.050115</td>\n",
              "      <td>11.610893</td>\n",
              "      <td>0.908403</td>\n",
              "      <td>867.494312</td>\n",
              "      <td>1.532800</td>\n",
              "      <td>0.500031</td>\n",
              "    </tr>\n",
              "    <tr>\n",
              "      <th>min</th>\n",
              "      <td>1.000000</td>\n",
              "      <td>1.000000</td>\n",
              "      <td>1.000000</td>\n",
              "      <td>1.000000</td>\n",
              "      <td>40.000000</td>\n",
              "      <td>12.900000</td>\n",
              "      <td>3.300000</td>\n",
              "      <td>82.000000</td>\n",
              "      <td>0.000000</td>\n",
              "      <td>2.020000</td>\n",
              "      <td>171.000000</td>\n",
              "      <td>0.000000</td>\n",
              "      <td>0.000000</td>\n",
              "    </tr>\n",
              "    <tr>\n",
              "      <th>25%</th>\n",
              "      <td>1.000000</td>\n",
              "      <td>3.000000</td>\n",
              "      <td>1.000000</td>\n",
              "      <td>1.000000</td>\n",
              "      <td>52.000000</td>\n",
              "      <td>19.700000</td>\n",
              "      <td>33.600000</td>\n",
              "      <td>108.000000</td>\n",
              "      <td>60.000000</td>\n",
              "      <td>4.090000</td>\n",
              "      <td>1337.750000</td>\n",
              "      <td>1.180000</td>\n",
              "      <td>0.000000</td>\n",
              "    </tr>\n",
              "    <tr>\n",
              "      <th>50%</th>\n",
              "      <td>1.000000</td>\n",
              "      <td>3.000000</td>\n",
              "      <td>2.000000</td>\n",
              "      <td>1.000000</td>\n",
              "      <td>63.000000</td>\n",
              "      <td>24.600000</td>\n",
              "      <td>63.700000</td>\n",
              "      <td>116.000000</td>\n",
              "      <td>66.000000</td>\n",
              "      <td>4.500000</td>\n",
              "      <td>1735.000000</td>\n",
              "      <td>2.050000</td>\n",
              "      <td>0.500000</td>\n",
              "    </tr>\n",
              "    <tr>\n",
              "      <th>75%</th>\n",
              "      <td>2.000000</td>\n",
              "      <td>4.000000</td>\n",
              "      <td>2.000000</td>\n",
              "      <td>2.000000</td>\n",
              "      <td>73.000000</td>\n",
              "      <td>29.500000</td>\n",
              "      <td>83.000000</td>\n",
              "      <td>122.000000</td>\n",
              "      <td>72.000000</td>\n",
              "      <td>4.970000</td>\n",
              "      <td>2215.250000</td>\n",
              "      <td>3.800000</td>\n",
              "      <td>1.000000</td>\n",
              "    </tr>\n",
              "    <tr>\n",
              "      <th>max</th>\n",
              "      <td>2.000000</td>\n",
              "      <td>7.000000</td>\n",
              "      <td>2.000000</td>\n",
              "      <td>2.000000</td>\n",
              "      <td>80.000000</td>\n",
              "      <td>82.900000</td>\n",
              "      <td>201.600000</td>\n",
              "      <td>220.000000</td>\n",
              "      <td>116.000000</td>\n",
              "      <td>11.970000</td>\n",
              "      <td>8496.000000</td>\n",
              "      <td>5.000000</td>\n",
              "      <td>1.000000</td>\n",
              "    </tr>\n",
              "  </tbody>\n",
              "</table>\n",
              "</div>\n",
              "    <div class=\"colab-df-buttons\">\n",
              "\n",
              "  <div class=\"colab-df-container\">\n",
              "    <button class=\"colab-df-convert\" onclick=\"convertToInteractive('df-2e894e92-445b-4d8c-83c4-a9e38dd74dea')\"\n",
              "            title=\"Convert this dataframe to an interactive table.\"\n",
              "            style=\"display:none;\">\n",
              "\n",
              "  <svg xmlns=\"http://www.w3.org/2000/svg\" height=\"24px\" viewBox=\"0 -960 960 960\">\n",
              "    <path d=\"M120-120v-720h720v720H120Zm60-500h600v-160H180v160Zm220 220h160v-160H400v160Zm0 220h160v-160H400v160ZM180-400h160v-160H180v160Zm440 0h160v-160H620v160ZM180-180h160v-160H180v160Zm440 0h160v-160H620v160Z\"/>\n",
              "  </svg>\n",
              "    </button>\n",
              "\n",
              "  <style>\n",
              "    .colab-df-container {\n",
              "      display:flex;\n",
              "      gap: 12px;\n",
              "    }\n",
              "\n",
              "    .colab-df-convert {\n",
              "      background-color: #E8F0FE;\n",
              "      border: none;\n",
              "      border-radius: 50%;\n",
              "      cursor: pointer;\n",
              "      display: none;\n",
              "      fill: #1967D2;\n",
              "      height: 32px;\n",
              "      padding: 0 0 0 0;\n",
              "      width: 32px;\n",
              "    }\n",
              "\n",
              "    .colab-df-convert:hover {\n",
              "      background-color: #E2EBFA;\n",
              "      box-shadow: 0px 1px 2px rgba(60, 64, 67, 0.3), 0px 1px 3px 1px rgba(60, 64, 67, 0.15);\n",
              "      fill: #174EA6;\n",
              "    }\n",
              "\n",
              "    .colab-df-buttons div {\n",
              "      margin-bottom: 4px;\n",
              "    }\n",
              "\n",
              "    [theme=dark] .colab-df-convert {\n",
              "      background-color: #3B4455;\n",
              "      fill: #D2E3FC;\n",
              "    }\n",
              "\n",
              "    [theme=dark] .colab-df-convert:hover {\n",
              "      background-color: #434B5C;\n",
              "      box-shadow: 0px 1px 3px 1px rgba(0, 0, 0, 0.15);\n",
              "      filter: drop-shadow(0px 1px 2px rgba(0, 0, 0, 0.3));\n",
              "      fill: #FFFFFF;\n",
              "    }\n",
              "  </style>\n",
              "\n",
              "    <script>\n",
              "      const buttonEl =\n",
              "        document.querySelector('#df-2e894e92-445b-4d8c-83c4-a9e38dd74dea button.colab-df-convert');\n",
              "      buttonEl.style.display =\n",
              "        google.colab.kernel.accessAllowed ? 'block' : 'none';\n",
              "\n",
              "      async function convertToInteractive(key) {\n",
              "        const element = document.querySelector('#df-2e894e92-445b-4d8c-83c4-a9e38dd74dea');\n",
              "        const dataTable =\n",
              "          await google.colab.kernel.invokeFunction('convertToInteractive',\n",
              "                                                    [key], {});\n",
              "        if (!dataTable) return;\n",
              "\n",
              "        const docLinkHtml = 'Like what you see? Visit the ' +\n",
              "          '<a target=\"_blank\" href=https://colab.research.google.com/notebooks/data_table.ipynb>data table notebook</a>'\n",
              "          + ' to learn more about interactive tables.';\n",
              "        element.innerHTML = '';\n",
              "        dataTable['output_type'] = 'display_data';\n",
              "        await google.colab.output.renderOutput(dataTable, element);\n",
              "        const docLink = document.createElement('div');\n",
              "        docLink.innerHTML = docLinkHtml;\n",
              "        element.appendChild(docLink);\n",
              "      }\n",
              "    </script>\n",
              "  </div>\n",
              "\n",
              "\n",
              "<div id=\"df-41abc227-02cc-4718-b4a3-ca98a6603e3f\">\n",
              "  <button class=\"colab-df-quickchart\" onclick=\"quickchart('df-41abc227-02cc-4718-b4a3-ca98a6603e3f')\"\n",
              "            title=\"Suggest charts\"\n",
              "            style=\"display:none;\">\n",
              "\n",
              "<svg xmlns=\"http://www.w3.org/2000/svg\" height=\"24px\"viewBox=\"0 0 24 24\"\n",
              "     width=\"24px\">\n",
              "    <g>\n",
              "        <path d=\"M19 3H5c-1.1 0-2 .9-2 2v14c0 1.1.9 2 2 2h14c1.1 0 2-.9 2-2V5c0-1.1-.9-2-2-2zM9 17H7v-7h2v7zm4 0h-2V7h2v10zm4 0h-2v-4h2v4z\"/>\n",
              "    </g>\n",
              "</svg>\n",
              "  </button>\n",
              "\n",
              "<style>\n",
              "  .colab-df-quickchart {\n",
              "      --bg-color: #E8F0FE;\n",
              "      --fill-color: #1967D2;\n",
              "      --hover-bg-color: #E2EBFA;\n",
              "      --hover-fill-color: #174EA6;\n",
              "      --disabled-fill-color: #AAA;\n",
              "      --disabled-bg-color: #DDD;\n",
              "  }\n",
              "\n",
              "  [theme=dark] .colab-df-quickchart {\n",
              "      --bg-color: #3B4455;\n",
              "      --fill-color: #D2E3FC;\n",
              "      --hover-bg-color: #434B5C;\n",
              "      --hover-fill-color: #FFFFFF;\n",
              "      --disabled-bg-color: #3B4455;\n",
              "      --disabled-fill-color: #666;\n",
              "  }\n",
              "\n",
              "  .colab-df-quickchart {\n",
              "    background-color: var(--bg-color);\n",
              "    border: none;\n",
              "    border-radius: 50%;\n",
              "    cursor: pointer;\n",
              "    display: none;\n",
              "    fill: var(--fill-color);\n",
              "    height: 32px;\n",
              "    padding: 0;\n",
              "    width: 32px;\n",
              "  }\n",
              "\n",
              "  .colab-df-quickchart:hover {\n",
              "    background-color: var(--hover-bg-color);\n",
              "    box-shadow: 0 1px 2px rgba(60, 64, 67, 0.3), 0 1px 3px 1px rgba(60, 64, 67, 0.15);\n",
              "    fill: var(--button-hover-fill-color);\n",
              "  }\n",
              "\n",
              "  .colab-df-quickchart-complete:disabled,\n",
              "  .colab-df-quickchart-complete:disabled:hover {\n",
              "    background-color: var(--disabled-bg-color);\n",
              "    fill: var(--disabled-fill-color);\n",
              "    box-shadow: none;\n",
              "  }\n",
              "\n",
              "  .colab-df-spinner {\n",
              "    border: 2px solid var(--fill-color);\n",
              "    border-color: transparent;\n",
              "    border-bottom-color: var(--fill-color);\n",
              "    animation:\n",
              "      spin 1s steps(1) infinite;\n",
              "  }\n",
              "\n",
              "  @keyframes spin {\n",
              "    0% {\n",
              "      border-color: transparent;\n",
              "      border-bottom-color: var(--fill-color);\n",
              "      border-left-color: var(--fill-color);\n",
              "    }\n",
              "    20% {\n",
              "      border-color: transparent;\n",
              "      border-left-color: var(--fill-color);\n",
              "      border-top-color: var(--fill-color);\n",
              "    }\n",
              "    30% {\n",
              "      border-color: transparent;\n",
              "      border-left-color: var(--fill-color);\n",
              "      border-top-color: var(--fill-color);\n",
              "      border-right-color: var(--fill-color);\n",
              "    }\n",
              "    40% {\n",
              "      border-color: transparent;\n",
              "      border-right-color: var(--fill-color);\n",
              "      border-top-color: var(--fill-color);\n",
              "    }\n",
              "    60% {\n",
              "      border-color: transparent;\n",
              "      border-right-color: var(--fill-color);\n",
              "    }\n",
              "    80% {\n",
              "      border-color: transparent;\n",
              "      border-right-color: var(--fill-color);\n",
              "      border-bottom-color: var(--fill-color);\n",
              "    }\n",
              "    90% {\n",
              "      border-color: transparent;\n",
              "      border-bottom-color: var(--fill-color);\n",
              "    }\n",
              "  }\n",
              "</style>\n",
              "\n",
              "  <script>\n",
              "    async function quickchart(key) {\n",
              "      const quickchartButtonEl =\n",
              "        document.querySelector('#' + key + ' button');\n",
              "      quickchartButtonEl.disabled = true;  // To prevent multiple clicks.\n",
              "      quickchartButtonEl.classList.add('colab-df-spinner');\n",
              "      try {\n",
              "        const charts = await google.colab.kernel.invokeFunction(\n",
              "            'suggestCharts', [key], {});\n",
              "      } catch (error) {\n",
              "        console.error('Error during call to suggestCharts:', error);\n",
              "      }\n",
              "      quickchartButtonEl.classList.remove('colab-df-spinner');\n",
              "      quickchartButtonEl.classList.add('colab-df-quickchart-complete');\n",
              "    }\n",
              "    (() => {\n",
              "      let quickchartButtonEl =\n",
              "        document.querySelector('#df-41abc227-02cc-4718-b4a3-ca98a6603e3f button');\n",
              "      quickchartButtonEl.style.display =\n",
              "        google.colab.kernel.accessAllowed ? 'block' : 'none';\n",
              "    })();\n",
              "  </script>\n",
              "</div>\n",
              "\n",
              "    </div>\n",
              "  </div>\n"
            ],
            "application/vnd.google.colaboratory.intrinsic+json": {
              "type": "dataframe",
              "summary": "{\n  \"name\": \"data\",\n  \"rows\": 8,\n  \"fields\": [\n    {\n      \"column\": \"gender\",\n      \"properties\": {\n        \"dtype\": \"number\",\n        \"std\": 2827.9726854238465,\n        \"min\": 0.5000286121329514,\n        \"max\": 8000.0,\n        \"num_unique_values\": 5,\n        \"samples\": [\n          1.498375,\n          2.0,\n          0.5000286121329514\n        ],\n        \"semantic_type\": \"\",\n        \"description\": \"\"\n      }\n    },\n    {\n      \"column\": \"race_ethnicity\",\n      \"properties\": {\n        \"dtype\": \"number\",\n        \"std\": 2827.288636297873,\n        \"min\": 1.0,\n        \"max\": 8000.0,\n        \"num_unique_values\": 7,\n        \"samples\": [\n          8000.0,\n          3.222,\n          4.0\n        ],\n        \"semantic_type\": \"\",\n        \"description\": \"\"\n      }\n    },\n    {\n      \"column\": \"chest_pain_ever\",\n      \"properties\": {\n        \"dtype\": \"number\",\n        \"std\": 2827.91572242477,\n        \"min\": 0.47727372455543154,\n        \"max\": 8000.0,\n        \"num_unique_values\": 5,\n        \"samples\": [\n          1.649125,\n          2.0,\n          0.47727372455543154\n        ],\n        \"semantic_type\": \"\",\n        \"description\": \"\"\n      }\n    },\n    {\n      \"column\": \"drink_alcohol\",\n      \"properties\": {\n        \"dtype\": \"number\",\n        \"std\": 2827.984497306394,\n        \"min\": 0.46017097805176493,\n        \"max\": 8000.0,\n        \"num_unique_values\": 5,\n        \"samples\": [\n          1.304375,\n          2.0,\n          0.46017097805176493\n        ],\n        \"semantic_type\": \"\",\n        \"description\": \"\"\n      }\n    },\n    {\n      \"column\": \"age\",\n      \"properties\": {\n        \"dtype\": \"number\",\n        \"std\": 2809.169786901361,\n        \"min\": 12.225805976533609,\n        \"max\": 8000.0,\n        \"num_unique_values\": 8,\n        \"samples\": [\n          62.627875,\n          63.0,\n          8000.0\n        ],\n        \"semantic_type\": \"\",\n        \"description\": \"\"\n      }\n    },\n    {\n      \"column\": \"BMI\",\n      \"properties\": {\n        \"dtype\": \"number\",\n        \"std\": 2818.2871984865915,\n        \"min\": 7.6834655093013104,\n        \"max\": 8000.0,\n        \"num_unique_values\": 8,\n        \"samples\": [\n          25.3526875,\n          24.6,\n          8000.0\n        ],\n        \"semantic_type\": \"\",\n        \"description\": \"\"\n      }\n    },\n    {\n      \"column\": \"weight_kg\",\n      \"properties\": {\n        \"dtype\": \"number\",\n        \"std\": 2804.8583780060617,\n        \"min\": 3.3,\n        \"max\": 8000.0,\n        \"num_unique_values\": 8,\n        \"samples\": [\n          61.1128875,\n          63.7,\n          8000.0\n        ],\n        \"semantic_type\": \"\",\n        \"description\": \"\"\n      }\n    },\n    {\n      \"column\": \"blood_pressure_sys\",\n      \"properties\": {\n        \"dtype\": \"number\",\n        \"std\": 2789.5882390136485,\n        \"min\": 15.050114716976,\n        \"max\": 8000.0,\n        \"num_unique_values\": 8,\n        \"samples\": [\n          117.1355,\n          116.0,\n          8000.0\n        ],\n        \"semantic_type\": \"\",\n        \"description\": \"\"\n      }\n    },\n    {\n      \"column\": \"diastolic_bp\",\n      \"properties\": {\n        \"dtype\": \"number\",\n        \"std\": 2808.8959488105297,\n        \"min\": 0.0,\n        \"max\": 8000.0,\n        \"num_unique_values\": 8,\n        \"samples\": [\n          65.705,\n          66.0,\n          8000.0\n        ],\n        \"semantic_type\": \"\",\n        \"description\": \"\"\n      }\n    },\n    {\n      \"column\": \"blood_cholesterol\",\n      \"properties\": {\n        \"dtype\": \"number\",\n        \"std\": 2826.7601051573447,\n        \"min\": 0.9084032890202964,\n        \"max\": 8000.0,\n        \"num_unique_values\": 8,\n        \"samples\": [\n          4.584376249999999,\n          4.5,\n          8000.0\n        ],\n        \"semantic_type\": \"\",\n        \"description\": \"\"\n      }\n    },\n    {\n      \"column\": \"calories\",\n      \"properties\": {\n        \"dtype\": \"number\",\n        \"std\": 3250.5003096128016,\n        \"min\": 171.0,\n        \"max\": 8496.0,\n        \"num_unique_values\": 8,\n        \"samples\": [\n          1866.986875,\n          1735.0,\n          8000.0\n        ],\n        \"semantic_type\": \"\",\n        \"description\": \"\"\n      }\n    },\n    {\n      \"column\": \"family_income\",\n      \"properties\": {\n        \"dtype\": \"number\",\n        \"std\": 2827.6184756108432,\n        \"min\": 0.0,\n        \"max\": 8000.0,\n        \"num_unique_values\": 8,\n        \"samples\": [\n          2.4560174999999997,\n          2.05,\n          8000.0\n        ],\n        \"semantic_type\": \"\",\n        \"description\": \"\"\n      }\n    },\n    {\n      \"column\": \"target_heart\",\n      \"properties\": {\n        \"dtype\": \"number\",\n        \"std\": 2828.250371727774,\n        \"min\": 0.0,\n        \"max\": 8000.0,\n        \"num_unique_values\": 5,\n        \"samples\": [\n          0.5,\n          1.0,\n          0.5000312529299927\n        ],\n        \"semantic_type\": \"\",\n        \"description\": \"\"\n      }\n    }\n  ]\n}"
            }
          },
          "metadata": {},
          "execution_count": 20
        }
      ],
      "source": [
        "# read a csv file as a *pandas data frame*\n",
        "data = pd.read_csv(\"NHANES-heart.csv\")\n",
        "\n",
        "# display a dataframe\n",
        "data.describe()"
      ]
    },
    {
      "cell_type": "markdown",
      "metadata": {
        "id": "cKeiVUc0qEHq"
      },
      "source": [
        "Like in lab 2 and 5, we will use indicator features for categorical values and add a bias parameter in our model."
      ]
    },
    {
      "cell_type": "code",
      "execution_count": 21,
      "metadata": {
        "id": "LBjrE7FiqEHq",
        "colab": {
          "base_uri": "https://localhost:8080/"
        },
        "outputId": "62ea763f-5325-4fef-92ee-154abfed4876"
      },
      "outputs": [
        {
          "output_type": "stream",
          "name": "stdout",
          "text": [
            "(8000, 14)\n"
          ]
        }
      ],
      "source": [
        "feature_names = [\n",
        "    \"gender_female\",\n",
        "    \"re_hispanic\",\n",
        "    \"re_white\",\n",
        "    \"re_black\",\n",
        "    \"re_asian\",\n",
        "    \"chest_pain\",\n",
        "    \"drink_alcohol\",\n",
        "    \"age\",\n",
        "    \"blood_cholesterol\",\n",
        "    \"BMI\",\n",
        "    \"blood_pressure_sys\",\n",
        "    \"diastolic_bp\",\n",
        "    \"calories\",\n",
        "    \"family_income\"]\n",
        "\n",
        "data_fets = np.stack([\n",
        "    data[\"gender\"] == 2,\n",
        "    (data[\"race_ethnicity\"] == 1) + (data[\"race_ethnicity\"] == 2),\n",
        "    data[\"race_ethnicity\"] == 3,\n",
        "    data[\"race_ethnicity\"] == 4,\n",
        "    data[\"race_ethnicity\"] == 6,\n",
        "    data[\"chest_pain_ever\"] == 2,\n",
        "    data[\"drink_alcohol\"] == 2,\n",
        "    data[\"age\"],\n",
        "    data[\"blood_cholesterol\"],\n",
        "    data[\"BMI\"],\n",
        "    data[\"blood_pressure_sys\"],\n",
        "    data[\"diastolic_bp\"],\n",
        "    data[\"calories\"],\n",
        "    data[\"family_income\"]\n",
        "], axis=1)\n",
        "\n",
        "print(data_fets.shape) # Should be (8000, 14)"
      ]
    },
    {
      "cell_type": "markdown",
      "metadata": {
        "id": "lmaPMRBkqEHr"
      },
      "source": [
        "Like before, we can separate our data into training, validation, and test sets.\n",
        "We will use the same code as we did in lab 2. Just like in lab 2, we will\n",
        "normalize our data set since some of the classifiers we use will depend on it."
      ]
    },
    {
      "cell_type": "code",
      "execution_count": 22,
      "metadata": {
        "id": "f1o1glrlqEHr"
      },
      "outputs": [],
      "source": [
        "from sklearn.model_selection import train_test_split\n",
        "\n",
        "# Split the data into X (dependent variables) and t (response variable)\n",
        "X = data_fets\n",
        "t = np.array(data[\"target_heart\"])\n",
        "\n",
        "# First, we will use `train_test_split` to split the data set into\n",
        "# 6500 training+validation, and 1500 test:\n",
        "X_tv, X_test, t_tv, t_test = train_test_split(X, t, test_size=1500/8000, random_state=1)\n",
        "\n",
        "# Then, use `train_test_split` to split the training+validation data\n",
        "# into 5000 train and 1500 validation\n",
        "X_train, X_valid, t_train, t_valid= train_test_split(X_tv, t_tv, test_size=1500/6500, random_state=1)\n",
        "\n",
        "# Normalization\n",
        "numerical_value_start = 7\n",
        "mean = X_train[:, numerical_value_start:].mean(axis=0)\n",
        "std = X_train[:, numerical_value_start:].std(axis=0)\n",
        "\n",
        "X_train_norm = X_train.copy()\n",
        "X_valid_norm = X_valid.copy()\n",
        "X_test_norm = X_test.copy()\n",
        "X_train_norm[:, numerical_value_start:] = (X_train[:, numerical_value_start:] - mean) / std\n",
        "X_valid_norm[:, numerical_value_start:] = (X_valid[:, numerical_value_start:] - mean) / std\n",
        "X_test_norm[:, numerical_value_start:] = (X_test[:, numerical_value_start:] - mean) / std"
      ]
    },
    {
      "cell_type": "markdown",
      "metadata": {
        "id": "9pOmCJISqEHr"
      },
      "source": [
        "Now, we are ready to build some models to understand the various sources of error.\n",
        "We will work with these three classifiers, which we have previously experimented with."
      ]
    },
    {
      "cell_type": "code",
      "execution_count": 23,
      "metadata": {
        "id": "dBUGGx2RqEHr"
      },
      "outputs": [],
      "source": [
        "from sklearn.linear_model import LogisticRegression\n",
        "from sklearn.neural_network import MLPClassifier\n",
        "from sklearn.tree import DecisionTreeClassifier"
      ]
    },
    {
      "cell_type": "markdown",
      "metadata": {
        "id": "PQZx9R3mqEHs"
      },
      "source": [
        "**Task**:\n",
        "Unlike with synthetic data, we will not be able to produce empirical estimates of\n",
        "the bias and the Bayes error. Why is that? Why is it that we *are* able to\n",
        "estimate the variance of our classifier?"
      ]
    },
    {
      "cell_type": "code",
      "execution_count": null,
      "metadata": {
        "id": "MsNlE4_XqEHs"
      },
      "outputs": [],
      "source": [
        "# TODO We cannot analuze the bias because it requires knowledge of the ground\n",
        "# truth y_star. We cannot compute the Bayes error because we would need to\n",
        "# know the exact distribution of the noise in the input data set. We can\n",
        "# however calculate the bias, as we only need to compare the spread of the\n",
        "# predictions of different models on the same input."
      ]
    },
    {
      "cell_type": "markdown",
      "metadata": {
        "id": "1iU0UgSjqEHs"
      },
      "source": [
        "**Graded Task**: Complete the function below, which fits a classifier several\n",
        "times, each time sampling a small training set (without replacement) from\n",
        "`X_train_norm`."
      ]
    },
    {
      "cell_type": "code",
      "execution_count": 26,
      "metadata": {
        "id": "8nCmNDq_qEHs"
      },
      "outputs": [],
      "source": [
        "def estimate_variance(model, ntries=100, nsample=200):\n",
        "    \"\"\"\n",
        "    Estimate the variance of a classifier on the NHANES data set.\n",
        "\n",
        "    Parameters:\n",
        "        `model` - an sklearn model supporting the methods fit(),\n",
        "                  predict(), and score()\n",
        "        `ntries` - number of times to train the classifier to compute\n",
        "                   the classifier's variance.\n",
        "        `nsamples` - number of data points to sample to train each\n",
        "                     classifier\n",
        "\n",
        "    Returns: A tuple containing the average training error,\n",
        "             average validation error, and variance estimate.\n",
        "    \"\"\"\n",
        "    train_acc = []\n",
        "    val_acc = []\n",
        "    ys = []\n",
        "    for i in range(ntries):\n",
        "        subset = random.sample(range(5000), nsample)\n",
        "        model.fit(X_train_norm[subset], t_train[subset])\n",
        "        ys.append(model.predict(X_valid_norm))\n",
        "        train_acc.append(model.score(X_train_norm[subset], t_train[subset]))\n",
        "        val_acc.append(model.score(X_valid_norm, t_valid))\n",
        "    ys = np.stack(ys)\n",
        "    # variances = None # TODO: Compute the variance of each row of ys, i.e., for\n",
        "    #                  #       each validation data point separate. (Why? Why can't\n",
        "    #                  #       we compute the variance of the entire ys?)\n",
        "    # train_error = None # TODO: the average training error across the ntries models\n",
        "    # val_error = None # TODO: the average validation error across the ntries models\n",
        "\n",
        "    # Here's some solutions to the TODO's\n",
        "    variances = np.var(ys, axis=0)\n",
        "    train_error = 1 - np.mean(train_acc)\n",
        "    val_error = 1- np.mean(val_acc)\n",
        "\n",
        "    return train_error, val_error, variances.mean()"
      ]
    },
    {
      "cell_type": "markdown",
      "metadata": {
        "id": "YIWc-zrJqEHs"
      },
      "source": [
        "Now, we will use this function to see how the training error, validation error, and\n",
        "variance changes with our choice of hyper-parameters.\n",
        "\n",
        "**Graded Task**: The `LogisticRegression` classifier model has a parameter `C`.\n",
        "Read the sklearn API documentation and explain what this parameter `C` does, assuming\n",
        "that L2 regularization is used.\n",
        "How can we convert C to the regularization parameter $\\lambda$ from the lecture on regularization?\n",
        "Please provide a formula."
      ]
    },
    {
      "cell_type": "code",
      "execution_count": null,
      "metadata": {
        "id": "wXtN96krqEHs"
      },
      "outputs": [],
      "source": [
        "# TODO The C parameter is just the inverse of the regularization penality.\n",
        "# It determines how sensitive the penalty should be to large choices of weights.\n",
        "# The formula to convert C to λ from the lecture is 1/C."
      ]
    },
    {
      "cell_type": "markdown",
      "metadata": {
        "id": "wP05taI7qEHt"
      },
      "source": [
        "**Task**: Run the code below to explore how the `C` parameter\n",
        "of a `LogisticRegression` affects the training error, validation error,\n",
        "and variance."
      ]
    },
    {
      "cell_type": "code",
      "execution_count": 27,
      "metadata": {
        "id": "I10LYEGkqEHt"
      },
      "outputs": [],
      "source": [
        "cs_res = []\n",
        "cs = np.arange(-5, 2, 0.2)\n",
        "\n",
        "for c_exp in cs:\n",
        "    model = LogisticRegression(random_state=0, penalty='l2', C=10**(c_exp))\n",
        "    train_error, val_error, variance = estimate_variance(model)\n",
        "    cs_res.append([train_error, val_error, variance])"
      ]
    },
    {
      "cell_type": "code",
      "execution_count": 28,
      "metadata": {
        "id": "MuPieEATqEHt",
        "colab": {
          "base_uri": "https://localhost:8080/",
          "height": 472
        },
        "outputId": "dff1882f-3867-4778-f6b8-73e75802739a"
      },
      "outputs": [
        {
          "output_type": "display_data",
          "data": {
            "text/plain": [
              "<Figure size 640x480 with 1 Axes>"
            ],
            "image/png": "[encoded data removed]"
          },
          "metadata": {}
        }
      ],
      "source": [
        "plt.title(\"Logistic Regression\")\n",
        "plt.plot(cs, [r[0] for r in cs_res], label=\"train error\")\n",
        "plt.plot(cs, [r[1] for r in cs_res], label=\"val error\")\n",
        "plt.plot(cs, [r[2] for r in cs_res], label=\"variance\")\n",
        "plt.ylabel(\"error\")\n",
        "plt.xlabel(\"log_10 C\")\n",
        "plt.legend()\n",
        "plt.show()"
      ]
    },
    {
      "cell_type": "markdown",
      "metadata": {
        "id": "-HRZaEboqEHt"
      },
      "source": [
        "**Task**: How does the `C` parameter affect the training error, validation error,\n",
        "and variance of the trained model?"
      ]
    },
    {
      "cell_type": "code",
      "execution_count": null,
      "metadata": {
        "id": "bpiP_a49qEHt"
      },
      "outputs": [],
      "source": [
        "# TODO As C approaches log -2 (base 10), it seems that the three errors\n",
        "# decrease substantially. This means that the optimal values of C\n",
        "# are generally greater than 10^-2. larger weights are greatly penalized."
      ]
    },
    {
      "cell_type": "markdown",
      "metadata": {
        "id": "Lp11-xTdqEHu"
      },
      "source": [
        "**Task**: Run the code below, which explores how the number of hidden units\n",
        "in a 2-layer neural network affects training error, validation error,\n",
        "and variance.\n",
        "(You might get some `Stochastic Optimizer` errors saying that the optimization\n",
        "have not converged. Please ignore those.\n",
        "We are also reducing `ntries` so this code runs faster.)"
      ]
    },
    {
      "cell_type": "code",
      "execution_count": 29,
      "metadata": {
        "id": "-uCzSSmtqEHu",
        "colab": {
          "base_uri": "https://localhost:8080/"
        },
        "outputId": "0463419a-9852-4445-d92b-048e49f0a922"
      },
      "outputs": [
        {
          "output_type": "stream",
          "name": "stderr",
          "text": [
            "/usr/local/lib/python3.11/dist-packages/sklearn/neural_network/_multilayer_perceptron.py:691: ConvergenceWarning: Stochastic Optimizer: Maximum iterations (200) reached and the optimization hasn't converged yet.\n",
            "  warnings.warn(\n",
            "/usr/local/lib/python3.11/dist-packages/sklearn/neural_network/_multilayer_perceptron.py:691: ConvergenceWarning: Stochastic Optimizer: Maximum iterations (200) reached and the optimization hasn't converged yet.\n",
            "  warnings.warn(\n",
            "/usr/local/lib/python3.11/dist-packages/sklearn/neural_network/_multilayer_perceptron.py:691: ConvergenceWarning: Stochastic Optimizer: Maximum iterations (200) reached and the optimization hasn't converged yet.\n",
            "  warnings.warn(\n",
            "/usr/local/lib/python3.11/dist-packages/sklearn/neural_network/_multilayer_perceptron.py:691: ConvergenceWarning: Stochastic Optimizer: Maximum iterations (200) reached and the optimization hasn't converged yet.\n",
            "  warnings.warn(\n",
            "/usr/local/lib/python3.11/dist-packages/sklearn/neural_network/_multilayer_perceptron.py:691: ConvergenceWarning: Stochastic Optimizer: Maximum iterations (200) reached and the optimization hasn't converged yet.\n",
            "  warnings.warn(\n",
            "/usr/local/lib/python3.11/dist-packages/sklearn/neural_network/_multilayer_perceptron.py:691: ConvergenceWarning: Stochastic Optimizer: Maximum iterations (200) reached and the optimization hasn't converged yet.\n",
            "  warnings.warn(\n",
            "/usr/local/lib/python3.11/dist-packages/sklearn/neural_network/_multilayer_perceptron.py:691: ConvergenceWarning: Stochastic Optimizer: Maximum iterations (200) reached and the optimization hasn't converged yet.\n",
            "  warnings.warn(\n",
            "/usr/local/lib/python3.11/dist-packages/sklearn/neural_network/_multilayer_perceptron.py:691: ConvergenceWarning: Stochastic Optimizer: Maximum iterations (200) reached and the optimization hasn't converged yet.\n",
            "  warnings.warn(\n",
            "/usr/local/lib/python3.11/dist-packages/sklearn/neural_network/_multilayer_perceptron.py:691: ConvergenceWarning: Stochastic Optimizer: Maximum iterations (200) reached and the optimization hasn't converged yet.\n",
            "  warnings.warn(\n",
            "/usr/local/lib/python3.11/dist-packages/sklearn/neural_network/_multilayer_perceptron.py:691: ConvergenceWarning: Stochastic Optimizer: Maximum iterations (200) reached and the optimization hasn't converged yet.\n",
            "  warnings.warn(\n",
            "/usr/local/lib/python3.11/dist-packages/sklearn/neural_network/_multilayer_perceptron.py:691: ConvergenceWarning: Stochastic Optimizer: Maximum iterations (200) reached and the optimization hasn't converged yet.\n",
            "  warnings.warn(\n",
            "/usr/local/lib/python3.11/dist-packages/sklearn/neural_network/_multilayer_perceptron.py:691: ConvergenceWarning: Stochastic Optimizer: Maximum iterations (200) reached and the optimization hasn't converged yet.\n",
            "  warnings.warn(\n",
            "/usr/local/lib/python3.11/dist-packages/sklearn/neural_network/_multilayer_perceptron.py:691: ConvergenceWarning: Stochastic Optimizer: Maximum iterations (200) reached and the optimization hasn't converged yet.\n",
            "  warnings.warn(\n",
            "/usr/local/lib/python3.11/dist-packages/sklearn/neural_network/_multilayer_perceptron.py:691: ConvergenceWarning: Stochastic Optimizer: Maximum iterations (200) reached and the optimization hasn't converged yet.\n",
            "  warnings.warn(\n",
            "/usr/local/lib/python3.11/dist-packages/sklearn/neural_network/_multilayer_perceptron.py:691: ConvergenceWarning: Stochastic Optimizer: Maximum iterations (200) reached and the optimization hasn't converged yet.\n",
            "  warnings.warn(\n",
            "/usr/local/lib/python3.11/dist-packages/sklearn/neural_network/_multilayer_perceptron.py:691: ConvergenceWarning: Stochastic Optimizer: Maximum iterations (200) reached and the optimization hasn't converged yet.\n",
            "  warnings.warn(\n",
            "/usr/local/lib/python3.11/dist-packages/sklearn/neural_network/_multilayer_perceptron.py:691: ConvergenceWarning: Stochastic Optimizer: Maximum iterations (200) reached and the optimization hasn't converged yet.\n",
            "  warnings.warn(\n",
            "/usr/local/lib/python3.11/dist-packages/sklearn/neural_network/_multilayer_perceptron.py:691: ConvergenceWarning: Stochastic Optimizer: Maximum iterations (200) reached and the optimization hasn't converged yet.\n",
            "  warnings.warn(\n",
            "/usr/local/lib/python3.11/dist-packages/sklearn/neural_network/_multilayer_perceptron.py:691: ConvergenceWarning: Stochastic Optimizer: Maximum iterations (200) reached and the optimization hasn't converged yet.\n",
            "  warnings.warn(\n",
            "/usr/local/lib/python3.11/dist-packages/sklearn/neural_network/_multilayer_perceptron.py:691: ConvergenceWarning: Stochastic Optimizer: Maximum iterations (200) reached and the optimization hasn't converged yet.\n",
            "  warnings.warn(\n",
            "/usr/local/lib/python3.11/dist-packages/sklearn/neural_network/_multilayer_perceptron.py:691: ConvergenceWarning: Stochastic Optimizer: Maximum iterations (200) reached and the optimization hasn't converged yet.\n",
            "  warnings.warn(\n",
            "/usr/local/lib/python3.11/dist-packages/sklearn/neural_network/_multilayer_perceptron.py:691: ConvergenceWarning: Stochastic Optimizer: Maximum iterations (200) reached and the optimization hasn't converged yet.\n",
            "  warnings.warn(\n",
            "/usr/local/lib/python3.11/dist-packages/sklearn/neural_network/_multilayer_perceptron.py:691: ConvergenceWarning: Stochastic Optimizer: Maximum iterations (200) reached and the optimization hasn't converged yet.\n",
            "  warnings.warn(\n",
            "/usr/local/lib/python3.11/dist-packages/sklearn/neural_network/_multilayer_perceptron.py:691: ConvergenceWarning: Stochastic Optimizer: Maximum iterations (200) reached and the optimization hasn't converged yet.\n",
            "  warnings.warn(\n",
            "/usr/local/lib/python3.11/dist-packages/sklearn/neural_network/_multilayer_perceptron.py:691: ConvergenceWarning: Stochastic Optimizer: Maximum iterations (200) reached and the optimization hasn't converged yet.\n",
            "  warnings.warn(\n",
            "/usr/local/lib/python3.11/dist-packages/sklearn/neural_network/_multilayer_perceptron.py:691: ConvergenceWarning: Stochastic Optimizer: Maximum iterations (200) reached and the optimization hasn't converged yet.\n",
            "  warnings.warn(\n",
            "/usr/local/lib/python3.11/dist-packages/sklearn/neural_network/_multilayer_perceptron.py:691: ConvergenceWarning: Stochastic Optimizer: Maximum iterations (200) reached and the optimization hasn't converged yet.\n",
            "  warnings.warn(\n",
            "/usr/local/lib/python3.11/dist-packages/sklearn/neural_network/_multilayer_perceptron.py:691: ConvergenceWarning: Stochastic Optimizer: Maximum iterations (200) reached and the optimization hasn't converged yet.\n",
            "  warnings.warn(\n",
            "/usr/local/lib/python3.11/dist-packages/sklearn/neural_network/_multilayer_perceptron.py:691: ConvergenceWarning: Stochastic Optimizer: Maximum iterations (200) reached and the optimization hasn't converged yet.\n",
            "  warnings.warn(\n",
            "/usr/local/lib/python3.11/dist-packages/sklearn/neural_network/_multilayer_perceptron.py:691: ConvergenceWarning: Stochastic Optimizer: Maximum iterations (200) reached and the optimization hasn't converged yet.\n",
            "  warnings.warn(\n",
            "/usr/local/lib/python3.11/dist-packages/sklearn/neural_network/_multilayer_perceptron.py:691: ConvergenceWarning: Stochastic Optimizer: Maximum iterations (200) reached and the optimization hasn't converged yet.\n",
            "  warnings.warn(\n",
            "/usr/local/lib/python3.11/dist-packages/sklearn/neural_network/_multilayer_perceptron.py:691: ConvergenceWarning: Stochastic Optimizer: Maximum iterations (200) reached and the optimization hasn't converged yet.\n",
            "  warnings.warn(\n",
            "/usr/local/lib/python3.11/dist-packages/sklearn/neural_network/_multilayer_perceptron.py:691: ConvergenceWarning: Stochastic Optimizer: Maximum iterations (200) reached and the optimization hasn't converged yet.\n",
            "  warnings.warn(\n",
            "/usr/local/lib/python3.11/dist-packages/sklearn/neural_network/_multilayer_perceptron.py:691: ConvergenceWarning: Stochastic Optimizer: Maximum iterations (200) reached and the optimization hasn't converged yet.\n",
            "  warnings.warn(\n",
            "/usr/local/lib/python3.11/dist-packages/sklearn/neural_network/_multilayer_perceptron.py:691: ConvergenceWarning: Stochastic Optimizer: Maximum iterations (200) reached and the optimization hasn't converged yet.\n",
            "  warnings.warn(\n",
            "/usr/local/lib/python3.11/dist-packages/sklearn/neural_network/_multilayer_perceptron.py:691: ConvergenceWarning: Stochastic Optimizer: Maximum iterations (200) reached and the optimization hasn't converged yet.\n",
            "  warnings.warn(\n",
            "/usr/local/lib/python3.11/dist-packages/sklearn/neural_network/_multilayer_perceptron.py:691: ConvergenceWarning: Stochastic Optimizer: Maximum iterations (200) reached and the optimization hasn't converged yet.\n",
            "  warnings.warn(\n",
            "/usr/local/lib/python3.11/dist-packages/sklearn/neural_network/_multilayer_perceptron.py:691: ConvergenceWarning: Stochastic Optimizer: Maximum iterations (200) reached and the optimization hasn't converged yet.\n",
            "  warnings.warn(\n",
            "/usr/local/lib/python3.11/dist-packages/sklearn/neural_network/_multilayer_perceptron.py:691: ConvergenceWarning: Stochastic Optimizer: Maximum iterations (200) reached and the optimization hasn't converged yet.\n",
            "  warnings.warn(\n",
            "/usr/local/lib/python3.11/dist-packages/sklearn/neural_network/_multilayer_perceptron.py:691: ConvergenceWarning: Stochastic Optimizer: Maximum iterations (200) reached and the optimization hasn't converged yet.\n",
            "  warnings.warn(\n",
            "/usr/local/lib/python3.11/dist-packages/sklearn/neural_network/_multilayer_perceptron.py:691: ConvergenceWarning: Stochastic Optimizer: Maximum iterations (200) reached and the optimization hasn't converged yet.\n",
            "  warnings.warn(\n",
            "/usr/local/lib/python3.11/dist-packages/sklearn/neural_network/_multilayer_perceptron.py:691: ConvergenceWarning: Stochastic Optimizer: Maximum iterations (200) reached and the optimization hasn't converged yet.\n",
            "  warnings.warn(\n",
            "/usr/local/lib/python3.11/dist-packages/sklearn/neural_network/_multilayer_perceptron.py:691: ConvergenceWarning: Stochastic Optimizer: Maximum iterations (200) reached and the optimization hasn't converged yet.\n",
            "  warnings.warn(\n",
            "/usr/local/lib/python3.11/dist-packages/sklearn/neural_network/_multilayer_perceptron.py:691: ConvergenceWarning: Stochastic Optimizer: Maximum iterations (200) reached and the optimization hasn't converged yet.\n",
            "  warnings.warn(\n",
            "/usr/local/lib/python3.11/dist-packages/sklearn/neural_network/_multilayer_perceptron.py:691: ConvergenceWarning: Stochastic Optimizer: Maximum iterations (200) reached and the optimization hasn't converged yet.\n",
            "  warnings.warn(\n",
            "/usr/local/lib/python3.11/dist-packages/sklearn/neural_network/_multilayer_perceptron.py:691: ConvergenceWarning: Stochastic Optimizer: Maximum iterations (200) reached and the optimization hasn't converged yet.\n",
            "  warnings.warn(\n",
            "/usr/local/lib/python3.11/dist-packages/sklearn/neural_network/_multilayer_perceptron.py:691: ConvergenceWarning: Stochastic Optimizer: Maximum iterations (200) reached and the optimization hasn't converged yet.\n",
            "  warnings.warn(\n",
            "/usr/local/lib/python3.11/dist-packages/sklearn/neural_network/_multilayer_perceptron.py:691: ConvergenceWarning: Stochastic Optimizer: Maximum iterations (200) reached and the optimization hasn't converged yet.\n",
            "  warnings.warn(\n",
            "/usr/local/lib/python3.11/dist-packages/sklearn/neural_network/_multilayer_perceptron.py:691: ConvergenceWarning: Stochastic Optimizer: Maximum iterations (200) reached and the optimization hasn't converged yet.\n",
            "  warnings.warn(\n",
            "/usr/local/lib/python3.11/dist-packages/sklearn/neural_network/_multilayer_perceptron.py:691: ConvergenceWarning: Stochastic Optimizer: Maximum iterations (200) reached and the optimization hasn't converged yet.\n",
            "  warnings.warn(\n",
            "/usr/local/lib/python3.11/dist-packages/sklearn/neural_network/_multilayer_perceptron.py:691: ConvergenceWarning: Stochastic Optimizer: Maximum iterations (200) reached and the optimization hasn't converged yet.\n",
            "  warnings.warn(\n",
            "/usr/local/lib/python3.11/dist-packages/sklearn/neural_network/_multilayer_perceptron.py:691: ConvergenceWarning: Stochastic Optimizer: Maximum iterations (200) reached and the optimization hasn't converged yet.\n",
            "  warnings.warn(\n",
            "/usr/local/lib/python3.11/dist-packages/sklearn/neural_network/_multilayer_perceptron.py:691: ConvergenceWarning: Stochastic Optimizer: Maximum iterations (200) reached and the optimization hasn't converged yet.\n",
            "  warnings.warn(\n",
            "/usr/local/lib/python3.11/dist-packages/sklearn/neural_network/_multilayer_perceptron.py:691: ConvergenceWarning: Stochastic Optimizer: Maximum iterations (200) reached and the optimization hasn't converged yet.\n",
            "  warnings.warn(\n",
            "/usr/local/lib/python3.11/dist-packages/sklearn/neural_network/_multilayer_perceptron.py:691: ConvergenceWarning: Stochastic Optimizer: Maximum iterations (200) reached and the optimization hasn't converged yet.\n",
            "  warnings.warn(\n",
            "/usr/local/lib/python3.11/dist-packages/sklearn/neural_network/_multilayer_perceptron.py:691: ConvergenceWarning: Stochastic Optimizer: Maximum iterations (200) reached and the optimization hasn't converged yet.\n",
            "  warnings.warn(\n",
            "/usr/local/lib/python3.11/dist-packages/sklearn/neural_network/_multilayer_perceptron.py:691: ConvergenceWarning: Stochastic Optimizer: Maximum iterations (200) reached and the optimization hasn't converged yet.\n",
            "  warnings.warn(\n",
            "/usr/local/lib/python3.11/dist-packages/sklearn/neural_network/_multilayer_perceptron.py:691: ConvergenceWarning: Stochastic Optimizer: Maximum iterations (200) reached and the optimization hasn't converged yet.\n",
            "  warnings.warn(\n",
            "/usr/local/lib/python3.11/dist-packages/sklearn/neural_network/_multilayer_perceptron.py:691: ConvergenceWarning: Stochastic Optimizer: Maximum iterations (200) reached and the optimization hasn't converged yet.\n",
            "  warnings.warn(\n",
            "/usr/local/lib/python3.11/dist-packages/sklearn/neural_network/_multilayer_perceptron.py:691: ConvergenceWarning: Stochastic Optimizer: Maximum iterations (200) reached and the optimization hasn't converged yet.\n",
            "  warnings.warn(\n",
            "/usr/local/lib/python3.11/dist-packages/sklearn/neural_network/_multilayer_perceptron.py:691: ConvergenceWarning: Stochastic Optimizer: Maximum iterations (200) reached and the optimization hasn't converged yet.\n",
            "  warnings.warn(\n",
            "/usr/local/lib/python3.11/dist-packages/sklearn/neural_network/_multilayer_perceptron.py:691: ConvergenceWarning: Stochastic Optimizer: Maximum iterations (200) reached and the optimization hasn't converged yet.\n",
            "  warnings.warn(\n",
            "/usr/local/lib/python3.11/dist-packages/sklearn/neural_network/_multilayer_perceptron.py:691: ConvergenceWarning: Stochastic Optimizer: Maximum iterations (200) reached and the optimization hasn't converged yet.\n",
            "  warnings.warn(\n"
          ]
        }
      ],
      "source": [
        "mlp_res = []\n",
        "hidden_sizes = range(1, 21)\n",
        "\n",
        "for h in hidden_sizes:\n",
        "    model = MLPClassifier(alpha=0,                 # set regularization parameter to 0\n",
        "                          hidden_layer_sizes=(h,), # use only 1 hidden layer with h units\n",
        "                          learning_rate_init=0.1,  # increase LR from the default\n",
        "                          max_iter=200)\n",
        "    train_error, val_error, variance = estimate_variance(model, ntries=10)\n",
        "    mlp_res.append([train_error, val_error, variance])"
      ]
    },
    {
      "cell_type": "code",
      "execution_count": 30,
      "metadata": {
        "id": "FrG-2cjBqEHu",
        "colab": {
          "base_uri": "https://localhost:8080/",
          "height": 472
        },
        "outputId": "9e67a128-aba2-41a1-a2c6-e52c964b5d11"
      },
      "outputs": [
        {
          "output_type": "display_data",
          "data": {
            "text/plain": [
              "<Figure size 640x480 with 1 Axes>"
            ],
            "image/png": "[encoded data removed]"
          },
          "metadata": {}
        }
      ],
      "source": [
        "plt.title(\"Multi-Layer Perceptron\")\n",
        "plt.plot(hidden_sizes, [r[0] for r in mlp_res], label=\"train error\")\n",
        "plt.plot(hidden_sizes, [r[1] for r in mlp_res], label=\"val error\")\n",
        "plt.plot(hidden_sizes, [r[2] for r in mlp_res], label=\"variance\")\n",
        "plt.ylabel(\"error\")\n",
        "plt.xlabel(\"hidden size\")\n",
        "plt.legend()\n",
        "plt.show()"
      ]
    },
    {
      "cell_type": "markdown",
      "metadata": {
        "id": "LviA6INzqEHu"
      },
      "source": [
        "**Task**: How does the number of units in the hidden size affect the\n",
        "training error, validation error, and variance of the trained model?"
      ]
    },
    {
      "cell_type": "code",
      "execution_count": null,
      "metadata": {
        "id": "fEL-nv2cqEHu"
      },
      "outputs": [],
      "source": [
        "# TODO The number of units in the hidden size don't appear to have\n",
        "# a direct effect on the validation error or variance, but do on the\n",
        "# training error. This is to be expected where the model begins to\n",
        "# overfit the training data."
      ]
    },
    {
      "cell_type": "markdown",
      "metadata": {
        "id": "4i4cXuZaqEHu"
      },
      "source": [
        "**Task**: Run the code below to explore how the `max_depth` parameter\n",
        "of a `DecisionTreeClassifier` affects the training error, validation error,\n",
        "and variance."
      ]
    },
    {
      "cell_type": "code",
      "execution_count": 31,
      "metadata": {
        "id": "0zNmxf2iqEHv"
      },
      "outputs": [],
      "source": [
        "tree_res = []\n",
        "depths = list(range(1,21))\n",
        "for max_depth in depths:\n",
        "    model = DecisionTreeClassifier(random_state=0, max_depth=max_depth)\n",
        "    train_error, val_error, variance = estimate_variance(model)\n",
        "    tree_res.append([train_error, val_error, variance])"
      ]
    },
    {
      "cell_type": "code",
      "execution_count": 32,
      "metadata": {
        "id": "TmnP9aqYqEHv",
        "colab": {
          "base_uri": "https://localhost:8080/",
          "height": 472
        },
        "outputId": "4f055e21-688e-4100-bdab-9153a38bf536"
      },
      "outputs": [
        {
          "output_type": "display_data",
          "data": {
            "text/plain": [
              "<Figure size 640x480 with 1 Axes>"
            ],
            "image/png": "[encoded data removed]"
          },
          "metadata": {}
        }
      ],
      "source": [
        "plt.title(\"Decision Tree\")\n",
        "plt.plot(depths, [r[0] for r in tree_res], label=\"train error\")\n",
        "plt.plot(depths, [r[1] for r in tree_res], label=\"val error\")\n",
        "plt.plot(depths, [r[2] for r in tree_res], label=\"variance\")\n",
        "plt.ylabel(\"error\")\n",
        "plt.xlabel(\"max_depth\")\n",
        "plt.legend()\n",
        "plt.show()"
      ]
    },
    {
      "cell_type": "markdown",
      "metadata": {
        "id": "UN3A1l8dqEHv"
      },
      "source": [
        "**Task**: How does the `max_depth` parameter affect the training error, validation error,\n",
        "and variance of the trained model?"
      ]
    },
    {
      "cell_type": "code",
      "execution_count": null,
      "metadata": {
        "id": "-jy-cOFMqEHv"
      },
      "outputs": [],
      "source": [
        "# TODO Again we see a similar observation as with the number of units in\n",
        "# the hidden size. Please refer the the answer given there, with respect\n",
        "# to increasing the maximum depth of a decision tree."
      ]
    },
    {
      "cell_type": "markdown",
      "metadata": {
        "id": "tgXfF9H-qEHv"
      },
      "source": [
        "We saw in lab 2 that hyperparameters interact with each other in\n",
        "unpredictable ways (e.g., max depth, min split, and the split criteria\n",
        "for a decision tree classifier). The analysis we conduct in this\n",
        "lab focuses on a single hyperparameter at a time, but keep in\n",
        "mind that a **grid search** is required to properly tune sets of\n",
        "hyperparameters.\n",
        "\n",
        "## Part 3. Ensemble Methods\n",
        "\n",
        "During lecture 6, we introduced the idea of **ensemble methods**,\n",
        "where we average together the predictions of many models instead\n",
        "of using a single model.\n",
        "In this section, we will analyze the impact of model averaging,\n",
        "and explore the `RandomForest` classifier.\n",
        "\n",
        "**Graded Task**: Complete the function below, which is a modification\n",
        "of the `estimate_variance` function, that computes the"
      ]
    },
    {
      "cell_type": "code",
      "execution_count": 33,
      "metadata": {
        "id": "kaehqIREqEHv"
      },
      "outputs": [],
      "source": [
        "def model_averaging(model, ntries=100, nsample=200):\n",
        "    \"\"\"\n",
        "    Fits model a number of times on a subset of the NHANES data\n",
        "    set, and returns the average validation error of the\n",
        "    individual models, along with the validation error of the\n",
        "    average prediction of the models.\n",
        "\n",
        "    Parameters:\n",
        "        `model` - an sklearn model supporting the methods fit(),\n",
        "                  predict(), and score()\n",
        "        `ntries` - number of times to train the classifier\n",
        "        `nsamples` - number of data points to sample to train each\n",
        "                     classifier\n",
        "\n",
        "    Returns: A tuple containing the average validation error\n",
        "             across the individual models, and the validation\n",
        "             error of the average prediction of the models.\n",
        "    \"\"\"\n",
        "\n",
        "    train_acc = []\n",
        "    val_acc = []\n",
        "    ys = []\n",
        "    for i in range(ntries):\n",
        "        subset = random.sample(range(5000), nsample)\n",
        "        model.fit(X_train_norm[subset], t_train[subset])\n",
        "        ys.append(model.predict(X_valid_norm))\n",
        "        train_acc.append(model.score(X_train_norm[subset], t_train[subset]))\n",
        "        val_acc.append(model.score(X_valid_norm, t_valid))\n",
        "    ys = np.stack(ys)\n",
        "\n",
        "    # # compute the average validation error across the individual models\n",
        "    # avg_val_error = None\n",
        "\n",
        "    # # compute the average prediction across all models, and convert\n",
        "    # # into a discrete prediction (0 or 1 for each data point in the\n",
        "    # # validation set)\n",
        "    # ys_average = None\n",
        "\n",
        "    # # compute the validation error using ys_average and t_valid\n",
        "    # ensemble_val_error  = None\n",
        "\n",
        "    # TODO's completed here\n",
        "\n",
        "    # Compute the average validation error across individual models\n",
        "    avg_val_error = 1 - np.mean(val_acc)  # Error = 1 - accuracy\n",
        "\n",
        "    # Compute the average prediction across all models\n",
        "    ys_average = np.round(np.mean(ys, axis=0))  # Majority voting (0 or 1)\n",
        "\n",
        "    # Compute the validation error using ys_average and t_valid\n",
        "    ensemble_val_error = 1 - np.mean(ys_average == t_valid)\n",
        "\n",
        "    return avg_val_error, ensemble_val_error"
      ]
    },
    {
      "cell_type": "markdown",
      "metadata": {
        "id": "gZ27bRXYqEHw"
      },
      "source": [
        "**Task**: Run the code below, which uses the function we wrote to\n",
        "analyze how model averaging affects the validation error."
      ]
    },
    {
      "cell_type": "code",
      "execution_count": 34,
      "metadata": {
        "id": "cioAL34JqEHw",
        "colab": {
          "base_uri": "https://localhost:8080/"
        },
        "outputId": "28fab37e-61fb-43f9-f48b-425c0ee97c64"
      },
      "outputs": [
        {
          "output_type": "stream",
          "name": "stdout",
          "text": [
            "====== Logistic Regression Models ======\n",
            "C=10**-5.0 0.48118666666666665 0.502\n",
            "C=10**-4.8 0.48673999999999995 0.502\n",
            "C=10**-4.6 0.4789266666666667 0.502\n",
            "C=10**-4.3999999999999995 0.48563333333333336 0.2826666666666666\n",
            "C=10**-4.199999999999999 0.48997999999999997 0.502\n",
            "C=10**-3.999999999999999 0.49622 0.502\n",
            "C=10**-3.799999999999999 0.48996666666666666 0.502\n",
            "C=10**-3.5999999999999988 0.4798133333333332 0.494\n",
            "C=10**-3.3999999999999986 0.47462666666666675 0.44999999999999996\n",
            "C=10**-3.1999999999999984 0.4591466666666667 0.33799999999999997\n",
            "C=10**-2.9999999999999982 0.4252 0.278\n",
            "C=10**-2.799999999999998 0.41713333333333336 0.32399999999999995\n",
            "C=10**-2.599999999999998 0.39138666666666655 0.28800000000000003\n",
            "C=10**-2.3999999999999977 0.35231333333333326 0.30133333333333334\n",
            "C=10**-2.1999999999999975 0.32962 0.2866666666666666\n",
            "C=10**-1.9999999999999973 0.30845333333333325 0.2813333333333333\n",
            "C=10**-1.7999999999999972 0.30048666666666657 0.2773333333333333\n",
            "C=10**-1.599999999999997 0.29534666666666676 0.278\n",
            "C=10**-1.3999999999999968 0.2920600000000002 0.274\n",
            "C=10**-1.1999999999999966 0.29081333333333337 0.2773333333333333\n",
            "C=10**-0.9999999999999964 0.28814666666666666 0.272\n",
            "C=10**-0.7999999999999963 0.2866266666666667 0.278\n",
            "C=10**-0.5999999999999961 0.28769999999999996 0.2753333333333333\n",
            "C=10**-0.3999999999999959 0.2888066666666669 0.2753333333333333\n",
            "C=10**-0.19999999999999574 0.2845333333333333 0.2726666666666666\n",
            "C=10**4.440892098500626e-15 0.28634666666666675 0.2673333333333333\n",
            "C=10**0.20000000000000462 0.2873866666666668 0.2673333333333333\n",
            "C=10**0.4000000000000048 0.2851666666666667 0.27\n",
            "C=10**0.600000000000005 0.28745999999999994 0.2653333333333333\n",
            "C=10**0.8000000000000052 0.2880466666666668 0.2686666666666667\n",
            "C=10**1.0000000000000053 0.2881733333333333 0.2626666666666667\n",
            "C=10**1.2000000000000055 0.28955999999999993 0.2693333333333333\n",
            "C=10**1.4000000000000057 0.2917733333333331 0.2666666666666667\n",
            "C=10**1.6000000000000059 0.28903999999999985 0.2606666666666667\n",
            "C=10**1.800000000000006 0.2887533333333333 0.264\n"
          ]
        }
      ],
      "source": [
        "print(\"====== Logistic Regression Models ======\")\n",
        "cs = np.arange(-5, 2, 0.2)\n",
        "for c_exp in cs:\n",
        "    model = LogisticRegression(random_state=0, penalty='l2', C=10**(c_exp))\n",
        "    avg_val_error, ensemble_val_error = model_averaging(model)\n",
        "    print(f\"C=10**{c_exp}\", avg_val_error, ensemble_val_error)"
      ]
    },
    {
      "cell_type": "code",
      "execution_count": 35,
      "metadata": {
        "id": "LShNWR-YqEHw",
        "colab": {
          "base_uri": "https://localhost:8080/"
        },
        "outputId": "4280f753-aebf-4484-d9f6-eb09d219b17b"
      },
      "outputs": [
        {
          "output_type": "stream",
          "name": "stdout",
          "text": [
            "====== Decision Trees ======\n",
            "max_depth=1 0.3280333333333333 0.30266666666666664\n",
            "max_depth=2 0.32275999999999994 0.2773333333333333\n",
            "max_depth=3 0.32964666666666675 0.2613333333333333\n",
            "max_depth=4 0.3332933333333332 0.2553333333333333\n",
            "max_depth=5 0.33974666666666653 0.238\n",
            "max_depth=6 0.34099333333333337 0.21933333333333338\n",
            "max_depth=7 0.33238 0.21999999999999997\n",
            "max_depth=8 0.33619999999999994 0.20066666666666666\n",
            "max_depth=9 0.33946 0.19399999999999995\n",
            "max_depth=10 0.3346000000000001 0.18000000000000005\n",
            "max_depth=11 0.33410666666666655 0.19199999999999995\n",
            "max_depth=12 0.3369533333333333 0.20266666666666666\n",
            "max_depth=13 0.34006666666666663 0.19999999999999996\n",
            "max_depth=14 0.3348066666666668 0.19533333333333336\n",
            "max_depth=15 0.3363733333333333 0.20799999999999996\n",
            "max_depth=16 0.33645999999999987 0.18200000000000005\n",
            "max_depth=17 0.33639333333333343 0.18999999999999995\n",
            "max_depth=18 0.33274666666666675 0.20666666666666667\n",
            "max_depth=19 0.3349133333333333 0.19799999999999995\n",
            "max_depth=20 0.3352333333333334 0.18600000000000005\n"
          ]
        }
      ],
      "source": [
        "print(\"====== Decision Trees ======\")\n",
        "depths = list(range(1,21))\n",
        "for max_depth in depths:\n",
        "    model = DecisionTreeClassifier(random_state=0, max_depth=max_depth)\n",
        "    avg_val_error, ensemble_val_error = model_averaging(model)\n",
        "    print(f\"max_depth={max_depth}\", avg_val_error, ensemble_val_error)"
      ]
    },
    {
      "cell_type": "code",
      "execution_count": null,
      "metadata": {
        "id": "51z6nt5zqEHw"
      },
      "outputs": [],
      "source": [
        "# The MLP code is also included. You can optionally uncomment\n",
        "# and run this code for your interest. However, these models tend to be more\n",
        "# expensive to train, and are less often used in an ensemble.\n",
        "\n",
        "# print(\"====== MultiLayer Perceptrons  ======\")\n",
        "# hidden_sizes = range(1, 21)\n",
        "# for h in hidden_sizes:\n",
        "#     model = MLPClassifier(alpha=0,  # regularization parameter\n",
        "#                           hidden_layer_sizes=(h,),\n",
        "#                           learning_rate_init=0.01,\n",
        "#                           max_iter=200)\n",
        "#     avg_val_error, ensemble_val_error = model_averaging(model, ntries=10)\n",
        "#     print(f\"hidden_size={h}\", avg_val_error, ensemble_val_error)"
      ]
    },
    {
      "cell_type": "markdown",
      "metadata": {
        "id": "6-FGifBaqEHw"
      },
      "source": [
        "**Task**: Analyze the pattern above.\n",
        "You should see that ensemble models tend to\n",
        "perform better than the individual models.\n",
        "Discuss the patterns you see as to which models tend to achieve\n",
        "lower validation error in an ensemble,\n",
        "and the amount of variance and total error that these models tend\n",
        "to have (from the previous results)."
      ]
    },
    {
      "cell_type": "code",
      "execution_count": 36,
      "metadata": {
        "id": "t_IpbHGVqEHw"
      },
      "outputs": [],
      "source": [
        "# TODO The models that tend to perform best in ensemble are those with high\n",
        "# total error and variance (ie. Deep decision trees and minimaly penalized\n",
        "# weights). This is because their low bias is maintained, while variance is\n",
        "# minimized by the averaging of extreme predictions via the ensemble."
      ]
    },
    {
      "cell_type": "markdown",
      "metadata": {
        "id": "7pJ3RiO5qEHw"
      },
      "source": [
        "You should see that decision trees perform quite well as an ensemble.\n",
        "We discussed during lecture that individual trees are rarely used\n",
        "in practice, but that an ensemble of trees tend to work well with little\n",
        "tuning. Let's now explore the `RandomForestClassifier`, which trains\n",
        "an ensemble of trees, with some additional randomness baked into\n",
        "the model to make the predictions less correlated.\n",
        "\n",
        "\n",
        "**Task**: Run the below code, which explores how the number of\n",
        "individual trees in a random forest classifier affects the\n",
        "training error, validation error, and variance."
      ]
    },
    {
      "cell_type": "code",
      "execution_count": 37,
      "metadata": {
        "id": "mjL1bkFlqEHx"
      },
      "outputs": [],
      "source": [
        "from sklearn.ensemble import RandomForestClassifier\n",
        "\n",
        "forest_res = []\n",
        "num_trees = [1, 2, 5, 10, 25, 50]\n",
        "for n in num_trees:\n",
        "    model = RandomForestClassifier(n_estimators=n)\n",
        "    train_error, val_error, variance = estimate_variance(model, ntries=10, nsample=1000)\n",
        "    forest_res.append([train_error, val_error, variance])"
      ]
    },
    {
      "cell_type": "code",
      "execution_count": 38,
      "metadata": {
        "id": "OsGfZhiHqEHx",
        "colab": {
          "base_uri": "https://localhost:8080/",
          "height": 472
        },
        "outputId": "d649d2d2-d9c3-4786-c6cb-9fa6cc1ef1e8"
      },
      "outputs": [
        {
          "output_type": "display_data",
          "data": {
            "text/plain": [
              "<Figure size 640x480 with 1 Axes>"
            ],
            "image/png": "[encoded data removed]"
          },
          "metadata": {}
        }
      ],
      "source": [
        "plt.title(\"Random Forest\")\n",
        "plt.plot(num_trees, [r[0] for r in forest_res], label=\"train error\")\n",
        "plt.plot(num_trees, [r[1] for r in forest_res], label=\"val error\")\n",
        "plt.plot(num_trees, [r[2] for r in forest_res], label=\"variance\")\n",
        "plt.ylabel(\"error\")\n",
        "plt.xlabel(\"n_estimators\")\n",
        "plt.legend()\n",
        "plt.show()"
      ]
    },
    {
      "cell_type": "markdown",
      "metadata": {
        "id": "2r7oQZ_gqEHx"
      },
      "source": [
        "**Graded Task**: How does the number of trees affect the variance\n",
        "of a random forest classifier?"
      ]
    },
    {
      "cell_type": "code",
      "execution_count": null,
      "metadata": {
        "id": "sf-prhaBqEHx"
      },
      "outputs": [],
      "source": [
        "# TODO As the number of trees increases, there appears to be an ideal\n",
        "# 10 tree size to the random forest where total error is training,\n",
        "# validation, and variance are all greatly reduced."
      ]
    },
    {
      "cell_type": "markdown",
      "metadata": {
        "id": "tP-1xYOKqEHx"
      },
      "source": [
        "**Task**: Finally, run the code below, which trains a random forest\n",
        "classifier on the entire training set, and computes the training\n",
        "and validation accuracy."
      ]
    },
    {
      "cell_type": "code",
      "execution_count": 39,
      "metadata": {
        "id": "j4qs7wJJqEHy",
        "colab": {
          "base_uri": "https://localhost:8080/"
        },
        "outputId": "f3b597e0-c2d6-4f38-ef58-e728188677b8"
      },
      "outputs": [
        {
          "output_type": "stream",
          "name": "stdout",
          "text": [
            "Training Accuracy: 1.0\n",
            "Validation Accuracy: 0.9853333333333333\n"
          ]
        }
      ],
      "source": [
        "model = RandomForestClassifier(n_estimators=50)\n",
        "model.fit(X_train_norm, t_train)\n",
        "print(\"Training Accuracy:\", model.score(X_train_norm, t_train))\n",
        "print(\"Validation Accuracy:\", model.score(X_valid_norm, t_valid))"
      ]
    },
    {
      "cell_type": "markdown",
      "metadata": {
        "id": "ElIVYe8aqEHy"
      },
      "source": [
        "**Task**: As in the synthetic task, the availability of data can\n",
        "also impact model performance.\n",
        "Explain how changing the amount of training data would affect model\n",
        "performance."
      ]
    },
    {
      "cell_type": "code",
      "execution_count": null,
      "metadata": {
        "id": "l1aKfkRcqEHy"
      },
      "outputs": [],
      "source": [
        "# TODO: Explanation of different amounts of training data has on model performance, bias/variance.\n",
        "\n",
        "# A small amount of training data will not allow for a function to learn any\n",
        "# nuanced pattern. The model will overfit with high variance bias.\n",
        "\n",
        "# A large training set will allow for the model to capture the relations more\n",
        "# accurately, without simply memorizing the training points. This will result\n",
        "# in a more stabled prediction, ie. lower variance, but may still have a high\n",
        "# bias unless the model increases in complexity, to appropriately represent\n",
        "# the relationships observed among the training data points."
      ]
    },
    {
      "cell_type": "markdown",
      "metadata": {
        "id": "QAYNTp_LqEHy"
      },
      "source": [
        "In reality, there are many more factors that can affect model performance.\n",
        "Training models, especially in healthcare, can be a difficult process. In\n",
        "this lab you relied on training and validation accuracy as a measure of\n",
        "model performance. But relying on just accuracy as a metric does perfectly\n",
        "reflect if a certain model is useful or appropriate.\n",
        "\n",
        "In healthcare, we care about minimizing errors that are more dangerous to\n",
        "our patients, and de-prioritize errors that have little known adverse effect.\n",
        "Similarly, there can be other factors to take into account when making\n",
        "decisions. A certain decision may algorithmically seem like the most\n",
        "optimal, but we need to take into account a patient's history and\n",
        "personality. Prescribing a certain intervention may not work on certain\n",
        "individuals, or certain patients may not be comfortable with certain\n",
        "decisions regardless of the \"accuracy\".\n",
        "\n",
        "Accuracy as a metric has many shortcomings, and a good reference for further\n",
        "reading can be found [here](https://predictive-optimization.cs.princeton.edu/).\n",
        "It is important in the future to always consider alternative metrics instead of\n",
        "solely relying on accuracy."
      ]
    }
  ],
  "metadata": {
    "colab": {
      "provenance": []
    },
    "language_info": {
      "name": "python"
    },
    "kernelspec": {
      "name": "python3",
      "display_name": "Python 3"
    }
  },
  "nbformat": 4,
  "nbformat_minor": 0
}