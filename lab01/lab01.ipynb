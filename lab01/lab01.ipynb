{
 "cells": [
  {
   "cell_type": "markdown",
   "metadata": {
    "id": "54TTLFLov3MN"
   },
   "source": [
    "# CSC311 Lab 1: Nearest Neighbours\n",
    "\n",
    "In this lab, we apply the $k$-Nearest Neighbour algorithm to classify\n",
    "hand-written digits. We will use the famous MNIST dataset to build our model.\n",
    "By the end of this lab, you will be able to:\n",
    "\n",
    "1. Write vectorized code using `numpy` to vectorize computation.\n",
    "2. Explain how images can be represented as a vector.\n",
    "3. Implement the k-Nearest Neighbour algorithm.\n",
    "4. Choose hyperparameters using a validation set.\n",
    "5. Explain the effects of varying $k$ in a $k$-Nearest Neighbour model.\n",
    "5. Report model accuracy using a test set.\n",
    "\n",
    "Please work in groups of 1-2 during the labs.\n",
    "\n",
    "Acknowledgements:\n",
    "\n",
    "- We use a subset of the MNIST data set [http://yann.lecun.com/exdb/mnist/](http://yann.lecun.com/exdb/mnist/)\n",
    "  However, to demonstrate realistic data flow, we will start from raw MNIST images,\n",
    "  rather than the pre-processed data set linked.\n",
    "\n",
    "## Submission\n",
    "\n",
    "If you are working with a partner, start by creating a group on Markus.\n",
    "If you are working alone,\n",
    "click \"Working Alone\".\n",
    "\n",
    "Submit the ipynb file `lab01.ipynb` on Markus\n",
    "**containing all your solutions to the Graded Task**s.\n",
    "Your notebook file must contain your code **and outputs** where applicable,\n",
    "including printed lines and images.\n",
    "Your TA will not run your code for the purpose of grading.\n",
    "\n",
    "For this lab, you should submit the following:\n",
    "\n",
    "- Part 2. Your implementation of `dist_all`, along with the outputs of your tests (3 points)\n",
    "- Part 2. Your implementation of `predict_knn` (3 points)\n",
    "- Part 3. Your implementation of `compute_accuracy` (1 point)\n",
    "- Part 4. Your validation accuracy plot (1 point)\n",
    "- Part 4. Your explanation of the shape of this plot (1 point)\n",
    "- Part 5. Your validation accuracy plot (1 point)\n",
    "\n",
    "## Google Colab Setup\n",
    "\n",
    "We will use Google Colab to open IPython Notebook (ipynb) file.\n",
    "This tool allows us to write and execute Python code through our browser, without any environmental setup.\n",
    "\n",
    "Here are the steps to open ipynb file on Google Colab.\n",
    "\n",
    "1. Download `lab01.ipynb`, available from the Quercus course website.\n",
    "2. Click on the following link to open Google Colab: https://colab.research.google.com/\n",
    "3. Click \"Upload\", then choose the file which has been downloaded in step 1.\n",
    "\n",
    "And that's it! Now we can start writing the codes, creating the new code or text cell, etc.\n",
    "\n",
    "Here are some basic functionalities and features that you might find useful.\n",
    "\n",
    "1. Running a cell \\\n",
    "    Click the run button on the left side of the code cell (looks like a “play” button with a triangle in a circle) \\\n",
    "    or \\\n",
    "    press SHIFT + ENTER.\n",
    "\n",
    "2. Installing libraries using Bash Commands \\\n",
    "    Although most of the commonly used libraries (e.g. NumPy, Pandas, Matplotlib) are pre-installed,\n",
    "    we may occasionally ask you to install new libraries or run other bash commands.\n",
    "    Bash commands can be run by prefixing instructions in a code cell with '!' in Google Colab (One exception: 'cd' command can be run by prefixing with '%'), e.g. `!pip install [package name]`\n",
    "\n",
    "3. Mounting Google Drive \\\n",
    "    You may optionally mount Google Drive.\n",
    "    Click the files button on the left pane, then click on 'mount drive' button (looks like a file icon with a google drive logo). \\\n",
    "    or \\\n",
    "    Run the following code snippet:\n",
    "    ```\n",
    "    from google.colab import drive\n",
    "    drive.mount('/content/drive')\n",
    "    ```\n",
    "    By mounting the drive, we can use any files or folders in our drive by using the path as follows:\n",
    "    ```\n",
    "    /content/drive/MyDrive/[folder name]\n",
    "    ```\n",
    "    For example, we can read the csv file uploaded in the drive using Pandas library as follows:\n",
    "    ```\n",
    "    pd.read_csv('/content/drive/MyDrive/myfolder/myfile.csv')\n",
    "    ```\n",
    "\n",
    "## Part 1. Data and Numpy\n",
    "\n",
    "**Task:** We will use a subset of MNIST image files, available here: [https://www.cs.toronto.edu/~lczhang/311/lab01/data.zip](https://www.cs.toronto.edu/~lczhang/311/lab01/data.zip)\n",
    "Start by downloading and unzipping this dataset on your own machine,\n",
    "so that you can understand the directory structure.\n",
    "How many folders are in the zip file? How many image files are in each folder?\n",
    "How is each image labeled?"
   ]
  },
  {
   "cell_type": "code",
   "execution_count": 1,
   "metadata": {
    "id": "cGJiq7ARv3MQ"
   },
   "outputs": [],
   "source": [
    "# TODO theres a mnist-subset folder, inside are 10 folders named (0, 1,..., 9)\n",
    "# each image inside are named as '*.png'"
   ]
  },
  {
   "cell_type": "markdown",
   "metadata": {
    "id": "eJcxWse2v3MR"
   },
   "source": [
    "We will also need to download the data to Google Colab's working directory.\n",
    "Fortunately, Google Colab allows users to run certain bash commands.\n",
    "Bash commands need have a `!` at the beginning.\n",
    "We will run these two lines of code to download and unzip our data."
   ]
  },
  {
   "cell_type": "code",
   "execution_count": null,
   "metadata": {
    "colab": {
     "base_uri": "https://localhost:8080/"
    },
    "id": "cPvAiVngv3MR",
    "outputId": "58ee45a5-862c-4267-f00b-db9d001c6739"
   },
   "outputs": [
    {
     "name": "stdout",
     "output_type": "stream",
     "text": [
      "--2025-01-08 11:49:59--  https://www.cs.toronto.edu/~lczhang/311/lab01/data.zip\n",
      "128.100.3.30w.cs.toronto.edu (www.cs.toronto.edu)... \n",
      "Connecting to www.cs.toronto.edu (www.cs.toronto.edu)|128.100.3.30|:443... connected.\n",
      "HTTP request sent, awaiting response... 200 OK\n",
      "Length: 2295124 (2.2M) [application/zip]\n",
      "Saving to: ‘data.zip.1’\n",
      "\n",
      "data.zip.1          100%[===================>]   2.19M  11.0MB/s    in 0.2s    \n",
      "\n",
      "2025-01-08 11:50:00 (11.0 MB/s) - ‘data.zip.1’ saved [2295124/2295124]\n",
      "\n",
      "Archive:  data.zip\n",
      "replace mnist-subset/9/36655.png? [y]es, [n]o, [A]ll, [N]one, [r]ename: "
     ]
    }
   ],
   "source": [
    "# Download the lab data files.\n",
    "!wget https://www.cs.toronto.edu/~lczhang/311/lab01/data.zip\n",
    "\n",
    "# Unzip the zip file.\n",
    "!unzip data.zip"
   ]
  },
  {
   "cell_type": "markdown",
   "metadata": {
    "id": "lphEMcURv3MS"
   },
   "source": [
    "Now that the data has been downloaded to the root directory that Colab has access to,\n",
    "we can begin reading the files in Python.\n",
    "We will use Python's `PIL` and `matplotlib` libraries to read and\n",
    "display these MNIST hand-written digit images."
   ]
  },
  {
   "cell_type": "code",
   "execution_count": 1,
   "metadata": {
    "colab": {
     "base_uri": "https://localhost:8080/",
     "height": 448
    },
    "id": "DlVxYQ-Zv3MS",
    "outputId": "4a9c8653-2553-44c4-d616-e461dac3e311"
   },
   "outputs": [
    {
     "data": {
      "text/plain": [
       "<matplotlib.image.AxesImage at 0x7f83944e5f10>"
      ]
     },
     "execution_count": 1,
     "metadata": {},
     "output_type": "execute_result"
    },
    {
     "data": {
      "image/png": "[encoded data removed]",
      "text/plain": [
       "<Figure size 640x480 with 1 Axes>"
      ]
     },
     "metadata": {},
     "output_type": "display_data"
    }
   ],
   "source": [
    "from PIL import Image\n",
    "import matplotlib.pyplot as plt\n",
    "\n",
    "img = Image.open(\"mnist-subset/9/33300.png\")\n",
    "plt.imshow(img, cmap=\"gray\") # display image as a greyscale"
   ]
  },
  {
   "cell_type": "markdown",
   "metadata": {
    "id": "gnPDE22jv3MS"
   },
   "source": [
    "With any machine learning problem, it is important to build\n",
    "an intuitive understanding of what our data looks like.\n",
    "\n",
    "**Task:**\n",
    "Display several more images, each of a different digit, by\n",
    "modifying `filename` below.\n",
    "This is so that you build an intuitive understanding of the\n",
    "variations between different digits and different images.\n",
    "Your TA will check that the `filename` variable has been modified."
   ]
  },
  {
   "cell_type": "code",
   "execution_count": 2,
   "metadata": {
    "colab": {
     "base_uri": "https://localhost:8080/",
     "height": 448
    },
    "id": "1k3oZ6B7v3MT",
    "outputId": "1f8da2af-e831-4605-bc0c-628c5ed5bda4"
   },
   "outputs": [
    {
     "data": {
      "text/plain": [
       "<matplotlib.image.AxesImage at 0x7f83b2e45f10>"
      ]
     },
     "execution_count": 2,
     "metadata": {},
     "output_type": "execute_result"
    },
    {
     "data": {
      "image/png": "[encoded data removed]",
      "text/plain": [
       "<Figure size 640x480 with 1 Axes>"
      ]
     },
     "metadata": {},
     "output_type": "display_data"
    }
   ],
   "source": [
    "filename = \"mnist-subset/4/59905.png\" # modify me!\n",
    "plt.imshow(Image.open(filename), cmap=\"gray\")"
   ]
  },
  {
   "cell_type": "markdown",
   "metadata": {
    "id": "Gjn9w8dSv3MT"
   },
   "source": [
    "As we mentioned during lecture, we will represent each input as a\n",
    "vector of features. In this case, we will need to turn each image\n",
    "into a vector of features. The features we use will be the pixel\n",
    "intensities at each of the 784 pixel locations of the image.\n",
    "\n",
    "The piece of code below uses the Python linear algebra library called\n",
    "`numpy` to represent each image as numpy array."
   ]
  },
  {
   "cell_type": "code",
   "execution_count": 3,
   "metadata": {
    "colab": {
     "base_uri": "https://localhost:8080/"
    },
    "id": "11xJ7q1-v3MU",
    "outputId": "53489a3e-aa14-424b-bc77-a08d9a12068d"
   },
   "outputs": [
    {
     "name": "stdout",
     "output_type": "stream",
     "text": [
      "(28, 28)\n"
     ]
    }
   ],
   "source": [
    "import numpy as np\n",
    "\n",
    "img = Image.open(\"mnist-subset/0/16585.png\")\n",
    "pixels = np.array(img)\n",
    "\n",
    "# Display the *shape* of this numpy array\n",
    "print(pixels.shape)"
   ]
  },
  {
   "cell_type": "markdown",
   "metadata": {
    "id": "UV1rL8g0v3MU"
   },
   "source": [
    "Here, `pixels` is a 2D numpy array containing the pixel intensities\n",
    "of one image. The elements of `pixels` can be *indexed*.\n",
    "For examples `pixels[0, 0]` indexes the first row and column.\n",
    "Additionally, similar to python lists, numpy arrays support *slicing*:\n",
    "e.g. `pixels[1:3, 0]` and `pixels[200:, :]`.\n",
    "\n",
    "**Task:** Print the entire top row of pixels of the image."
   ]
  },
  {
   "cell_type": "code",
   "execution_count": 4,
   "metadata": {
    "colab": {
     "base_uri": "https://localhost:8080/"
    },
    "id": "UtV8ne35v3MU",
    "outputId": "76c73a32-3cd4-4a76-faa7-07327b1559a2"
   },
   "outputs": [
    {
     "name": "stdout",
     "output_type": "stream",
     "text": [
      "0\n",
      "0\n",
      "0\n",
      "0\n",
      "0\n",
      "0\n",
      "0\n",
      "0\n",
      "0\n",
      "0\n",
      "0\n",
      "0\n",
      "0\n",
      "0\n",
      "0\n",
      "0\n",
      "0\n",
      "0\n",
      "0\n",
      "0\n",
      "0\n",
      "0\n",
      "0\n",
      "0\n",
      "0\n",
      "0\n",
      "0\n",
      "0\n"
     ]
    }
   ],
   "source": [
    "# TODO\n",
    "for i in range(pixels.shape[0]):\n",
    "    print(pixels[0][i])"
   ]
  },
  {
   "cell_type": "markdown",
   "metadata": {
    "id": "3kJMzzcnv3MV"
   },
   "source": [
    "As mentioned in lecture 1, we would like to represent this image as a\n",
    "*vector*. To do so, we can use the `reshape` method to change the shape\n",
    "of this matrix to a 1D vector:"
   ]
  },
  {
   "cell_type": "code",
   "execution_count": 5,
   "metadata": {
    "colab": {
     "base_uri": "https://localhost:8080/"
    },
    "id": "gF5YSi-av3MV",
    "outputId": "0093806d-9d00-40ce-f5fa-c836baf69274"
   },
   "outputs": [
    {
     "name": "stdout",
     "output_type": "stream",
     "text": [
      "CPU times: user 20 μs, sys: 3 μs, total: 23 μs\n",
      "Wall time: 29.1 μs\n"
     ]
    }
   ],
   "source": [
    "%%time\n",
    "pixels = pixels.reshape(784)\n",
    "# alternatively\n",
    "# pixels = pixels.reshape(-1) # infer the shape of the single dimension"
   ]
  },
  {
   "cell_type": "markdown",
   "metadata": {
    "id": "ACa62qpPv3MV"
   },
   "source": [
    "One thing that trips up a lot of students is that numpy does *not* distinguish\n",
    "between row and column vectors. Here, `pixels` is simply a vector.\n",
    "\n",
    "We will show more `numpy` functionalities as we need them. If you prefer to first\n",
    "go through a `numpy` tutorial before proceeding, we recommend this one:\n",
    "[https://cs231n.github.io/python-numpy-tutorial/](https://cs231n.github.io/python-numpy-tutorial/)\n",
    "\n",
    "**If the pace in which we are introducing numpy is too fast for you, consider\n",
    "taking CSC338 concurrently, or before attempting CSC311.**\n",
    "\n",
    "Now that we know how to read an image into a vector, we can read in\n",
    "the entire set of images."
   ]
  },
  {
   "cell_type": "code",
   "execution_count": 6,
   "metadata": {
    "id": "86YPrGO2v3MV"
   },
   "outputs": [],
   "source": [
    "import glob # for interacting with the file system\n",
    "\n",
    "def img_to_vec(img):\n",
    "    \"\"\"Return a vector representation of an MNIST image file\"\"\"\n",
    "    img = Image.open(img)\n",
    "    return np.array(img).reshape(-1)\n",
    "\n",
    "# D will house our data\n",
    "D = []\n",
    "\n",
    "# Iterate over all files that match the pattern \"mnist-subset/*/*.png\"\n",
    "# and add its information to `D`. We will sort the filenames so that we get\n",
    "# a consistent set of files in the training, validation, and test sets.\n",
    "for file in sorted(glob.glob(\"mnist-subset/*/*.png\")):\n",
    "    x = img_to_vec(file)   # vector input\n",
    "    t = file.split(\"/\")[1] # find out the target label by reading the file path\n",
    "    D.append((x, t),) # add this to the data set"
   ]
  },
  {
   "cell_type": "markdown",
   "metadata": {
    "id": "qkhyUAzAv3MW"
   },
   "source": [
    "This representation of the labelled data `D` as a list of tuples of `(features, labels)`\n",
    "is not efficient (does not allow for parallelization).\n",
    "We will change the representation shortly.\n",
    "For now, let's first separate the data into training, validation, and test sets.\n",
    "\n",
    "(In the code below, why do you think we need to shuffle `D`? Can you think of other approaches to splitting the training/validation/test data?)"
   ]
  },
  {
   "cell_type": "code",
   "execution_count": 7,
   "metadata": {
    "id": "woc28fr_v3MX"
   },
   "outputs": [],
   "source": [
    "# If you re-run this cell without the also re-running the previous\n",
    "# cell block, then your train/validation/test splits will differ from\n",
    "# everyone else's\n",
    "\n",
    "import random\n",
    "random.seed(5)         # set the random seed.\n",
    "random.shuffle(D)\n",
    "D_train = D[:4000]     # the training set\n",
    "D_valid = D[4000:4500] # the validation set\n",
    "D_test  = D[4500:]     # the test set"
   ]
  },
  {
   "cell_type": "markdown",
   "metadata": {
    "id": "i8w0MG65v3MX"
   },
   "source": [
    "To take full advantage of `numpy`, we will express our computations as matrix operations as\n",
    "much as we can. For our nearest-neighbour model, this means that we would like to express distance\n",
    "computations using matrix operations as much as we can. We will thus store our training data\n",
    "in a **matrix**, and our target values in a **vector**.\n",
    "\n",
    "In other words, the following code takes the training data `D_train`, and produces:\n",
    "\n",
    "1. a **data matrix** `X_train`, stored as a numpy array of shape `[4000, 784]`. In this data matrix, each row `X_train[i, :]` represents a single **image** in the training data.\n",
    "2. a **target vector** `t_train`, stored as a numpy array of shape `[4000]`.  In this vector, each `t[i]` contains the target for image $i$ in the training data.\n",
    "\n",
    "Please take a look at the documentation for `np.stack` to see how the first line of code works [https://numpy.org/doc/stable/reference/generated/numpy.stack.html](https://numpy.org/doc/stable/reference/generated/numpy.stack.html)"
   ]
  },
  {
   "cell_type": "code",
   "execution_count": 8,
   "metadata": {
    "id": "kPEwFe_hv3MX"
   },
   "outputs": [],
   "source": [
    "# construct X_train by first producing a list of vectors\n",
    "# here, each element x_vectors[i] is a vector representation of an image\n",
    "x_vectors = [x for (x, t) in D_train]\n",
    "X_train = np.stack(x_vectors)\n",
    "\n",
    "# construct t_train by first producing a list of targets\n",
    "targets = [t for (x, t) in D_train]\n",
    "t_train = np.array(targets)"
   ]
  },
  {
   "cell_type": "markdown",
   "metadata": {
    "id": "cNKhGrzjv3MX"
   },
   "source": [
    "**Task** Produce the corresponding data matrix and target vectors `X_valid`, `t_valid`,\n",
    "`X_test`, `t_test`."
   ]
  },
  {
   "cell_type": "code",
   "execution_count": 9,
   "metadata": {
    "id": "qzmuhb03v3MY"
   },
   "outputs": [],
   "source": [
    "X_valid = np.stack([x for (x, t) in D_valid])\n",
    "t_valid = np.stack([t for (x, t) in D_valid])\n",
    "X_test = np.stack([x for (x, t) in D_test])\n",
    "t_test = np.stack([t for (x, t) in D_test])"
   ]
  },
  {
   "cell_type": "markdown",
   "metadata": {
    "id": "_WBaaP1uv3MY"
   },
   "source": [
    "## Part 2. Distance Computation\n",
    "\n",
    "In order to use the nearest neighbour model to predict MNIST digit labels, we need\n",
    "to be able to compute *Euclidean distances* between images represented as vectors\n",
    "(specifically, `numpy` arrays of shape `(784,)`).\n",
    "In this section, we will focus on this distance computation.\n",
    "Euclidean distance computation should be straightforward for most students familiar\n",
    "with Python; the challenge is to write **vectorized** code in `numpy` that will allow\n",
    "us to parallelize many distance computations all at once.\n",
    "\n",
    "**Task:** Start by writing a function that computes the squared Euclidean distance\n",
    "between two images, both represented as `numpy` arrays of shape `(784,)`. That is, compute for vectors ${\\bf v}$ and ${\\bf x}$:\n",
    "\n",
    "$$\\textrm{dist}({\\bf v}, {\\bf x}) = \\sum_{j=1}^{D} (v_j - x_j)^2$$\n",
    "\n",
    "Notice that we will use squared Euclidean distance as our distance measure, rather\n",
    "than the Euclidean distance itself. (Why is this okay?)\n",
    "\n",
    "**Do not use any loops.**"
   ]
  },
  {
   "cell_type": "code",
   "execution_count": 10,
   "metadata": {
    "id": "tR8egYM4v3MY"
   },
   "outputs": [],
   "source": [
    "def dist_single(v, x):\n",
    "    \"\"\"\n",
    "    Compute the squared Euclidean distance between vectors `v` and `x`.\n",
    "\n",
    "    Parameters:\n",
    "        `v` - a numpy array (vector) representing an MNIST image, shape (784,)\n",
    "        `x` - a numpy array (vector) representing an MNIST image, shape (784,)\n",
    "\n",
    "    Returns: a scalar value representing their squared Euclidean distance\n",
    "    \"\"\"\n",
    "    diff = x - v # compute a difference vector  (x-v)\n",
    "    sqdiff = diff ** 2 # TODO: compute element-wise **square** of each element in `diff`\n",
    "                  # In numpy, operations like `diff + 2`, `diff - 2`, and `diff ** 3`\n",
    "                  # are all computed element-wise.\n",
    "    sumval = np.sum(sqdiff) # TODO: compute the sum of the elements of `sqdiff`.\n",
    "                  # You may find one of the functions from this list useful:\n",
    "                  # https://numpy.org/doc/stable/reference/routines.math.html\n",
    "    return sumval"
   ]
  },
  {
   "cell_type": "markdown",
   "metadata": {
    "id": "q-VhFAvPv3MY"
   },
   "source": [
    "Since we did not write any loops, each step of the computation (e.g. `x - v`) can be done\n",
    "in parallel (e.g. `x[1] - v[1]` can be computed in parallel with `x[2] - v[2]`).\n",
    "\n",
    "To test the above function, let's try and compute some distances to see if the result\n",
    "is what we expect.\n",
    "\n",
    "**Task**: Run and add to these tests. Add at least 3 new tests. You will likely want to write\n",
    "more tests to test your code more systematically."
   ]
  },
  {
   "cell_type": "code",
   "execution_count": 11,
   "metadata": {
    "colab": {
     "base_uri": "https://localhost:8080/"
    },
    "id": "GfTac3csv3MY",
    "outputId": "f9d1dcef-ac9b-4e43-ba5d-abe7cb84f8d2"
   },
   "outputs": [
    {
     "name": "stdout",
     "output_type": "stream",
     "text": [
      "This should be 0: 0.0\n",
      "This should be 0: 0.0\n",
      "This should be 0: 0.0\n",
      "This should be 1: 1.0\n",
      "This should be 784: 784.0\n"
     ]
    }
   ],
   "source": [
    "# construct an image (vector) that is all black\n",
    "black = np.zeros(784)\n",
    "\n",
    "# construct an image (vector) that is all white\n",
    "white = np.ones(784)\n",
    "\n",
    "# construct an image (vector) that is all black except a single white pixel\n",
    "dot = np.zeros(784)\n",
    "dot[100] = 1\n",
    "\n",
    "print(\"This should be 0:\", dist_single(black, black))\n",
    "print(\"This should be 0:\", dist_single(dot, dot))\n",
    "print(\"This should be 0:\", dist_single(white, white))\n",
    "print(\"This should be 1:\", dist_single(black, dot))\n",
    "print(\"This should be 784:\", dist_single(black, white))"
   ]
  },
  {
   "cell_type": "markdown",
   "metadata": {
    "id": "HgeFRa2Wv3MZ"
   },
   "source": [
    "To continue, we will parallelize distance computations further,\n",
    "by writing a new function\n",
    "that computes the distance between a single image vector `v` and\n",
    "all the images in a data matrix `X`. Eventually, we will use this function\n",
    "to find the closest images to a new image `v` in the training set `X_train`.\n",
    "\n",
    "**Graded Task:** Write a function that takes a vector `v` (representing an MNIST image),\n",
    "and computes the squared Euclidean distance between `v` and every data point in\n",
    "the training set `X_train`.  **Do not use any loops.**"
   ]
  },
  {
   "cell_type": "code",
   "execution_count": 12,
   "metadata": {
    "id": "Y2Ghs0d1v3MZ"
   },
   "outputs": [],
   "source": [
    "def dist_all(v, X):\n",
    "    \"\"\"\n",
    "    Compute the squared Euclidean distance between an image `v` (vector) and the\n",
    "    images in the data matrix `X`.\n",
    "\n",
    "    Parameters:\n",
    "        `v` - a numpy array (vector) representing an MNIST image, shape (784,)\n",
    "        `X` - a data matrix representing a set of MNIST image, shape (N, 784)\n",
    "\n",
    "    Returns: a vector of squared Euclidean distances between `v` and each image in `X`,\n",
    "             shape (N,)\n",
    "    \"\"\"\n",
    "\n",
    "    diff = X - v # compute difference vectors (x-v), stored in a matrix\n",
    "                 # to do so, we use an idea in numpy called broadcasting\n",
    "                 # https://numpy.org/doc/stable/user/basics.broadcasting.html\n",
    "    # Here, diff has a shape of (N, 784), and each diff[i, :] is a vector\n",
    "    # equivalent to (X[i, :] - v)\n",
    "\n",
    "    sqdiff = diff ** 2 # TODO: compute element-wise **square** of each element in `diff`\n",
    "                  # In numpy, operations like `diff + 2`, `diff - 2`, and `diff ** 3`\n",
    "                  # are all computed element-wise.\n",
    "                  # Hint: Does does approach you used in `dist_single` still work?\n",
    "\n",
    "    sumval = np.sum(sqdiff, axis=1) # TODO: compute the sum of the elements of `sqdiff` along each row\n",
    "                  # Hint: What additional parameter do you need to add to the approach\n",
    "                  # you used in `dist_single`? (Assuming you used np.sum)\n",
    "    return sumval"
   ]
  },
  {
   "cell_type": "markdown",
   "metadata": {
    "id": "-JsktdfLv3MZ"
   },
   "source": [
    "As before, let's try and compute some distances to see if it makes sense.\n",
    "Please included the output of these tests in your submission."
   ]
  },
  {
   "cell_type": "code",
   "execution_count": 13,
   "metadata": {
    "colab": {
     "base_uri": "https://localhost:8080/"
    },
    "id": "WGDrQd1fv3MZ",
    "outputId": "e3d17cd1-1cc7-4b78-9b05-d5eedacbd50c"
   },
   "outputs": [
    {
     "name": "stdout",
     "output_type": "stream",
     "text": [
      "[  1.   0. 783.]\n",
      "CPU times: user 670 μs, sys: 0 ns, total: 670 μs\n",
      "Wall time: 680 μs\n"
     ]
    }
   ],
   "source": [
    "%%time\n",
    "# construct an image (vector) that is all black\n",
    "black = np.zeros(784)\n",
    "\n",
    "# construct an image (vector) that is all white\n",
    "white = np.ones(784)\n",
    "\n",
    "# construct an image (vector) that is all black except a single white pixel\n",
    "dot = np.zeros(784)\n",
    "dot[100] = 1\n",
    "\n",
    "# combine all three images into a data matrix\n",
    "X = np.stack([black, dot, white])\n",
    "\n",
    "print(dist_all(dot, X)) # Is this what you expect? yes"
   ]
  },
  {
   "cell_type": "code",
   "execution_count": 14,
   "metadata": {
    "colab": {
     "base_uri": "https://localhost:8080/"
    },
    "id": "UWq62hrdv3MZ",
    "outputId": "345c317a-c5de-43a6-e39b-b856a97b4da1"
   },
   "outputs": [
    {
     "name": "stdout",
     "output_type": "stream",
     "text": [
      "[  0.   0.   1.   1. 784. 784.]\n",
      "[784. 784. 783. 783.   0.   0.]\n",
      "CPU times: user 995 μs, sys: 0 ns, total: 995 μs\n",
      "Wall time: 1.01 ms\n"
     ]
    }
   ],
   "source": [
    "%%time\n",
    "# TODO: Write more tests to convince yourself that your code works!\n",
    "Y = np.stack([black, black, dot, dot, white, white])\n",
    "print(dist_all(black, Y))\n",
    "print(dist_all(white, Y))"
   ]
  },
  {
   "cell_type": "markdown",
   "metadata": {
    "id": "SzWM6ndsv3Ma"
   },
   "source": [
    "## Part 3. Nearest Neighbour\n",
    "\n",
    "Now that we know how to compute distances, we have almost everything we need\n",
    "to be able to implement the k-Nearest Neighbour algorithm. Our goal in this\n",
    "part is to be able to make a prediction (labels 0, 1, ... 9) given an image\n",
    "$v$ represented as a vector. To make such a prediction, we will need to\n",
    "follow three steps:\n",
    "\n",
    "1. Compute the distance between `v` to every image in our training set. We already\n",
    "   have a helper function `dist_all` that does this for us.\n",
    "2. Given the vector of distances returned by `dist_all`, find the indices of the `k`\n",
    "   closets images in `X` to `v`.\n",
    "3. Given these `k` indices, find the most common label amongst these `k` images.\n",
    "   If there is a tie, choose any of the most common labels.\n",
    "\n",
    "**Graded Task**: Let's write the function `predict_knn()` that makes such predictions.\n",
    "We recommend that you follow these above three steps, but if you prefer a different\n",
    "approach, that's fine too as long as it works and is fast.\n",
    "\n",
    "(This portion of the lab should be programming that only uses concepts\n",
    "taught in courses like CSC148. It is normal to have to think a bit to be able\n",
    "to write this code. However, if you find this type of coding extremely challenging,\n",
    "you will likely benefit from further computer science preparation before taking CSC311.\n",
    "Consider taking any course that requires you to practice writing code to solve problems\n",
    "and come back to CSC311 in a future year.)"
   ]
  },
  {
   "cell_type": "code",
   "execution_count": 15,
   "metadata": {
    "editable": true,
    "id": "MZ_5lZXxv3Ma",
    "tags": []
   },
   "outputs": [],
   "source": [
    "def mode(lst):\n",
    "    \"\"\"\n",
    "    Returns the mode\n",
    "\n",
    "    Parameters:\n",
    "    `lst` - a numpy array (vector) representing the target of an MNIST image, shape (1, )\n",
    "    \"\"\"\n",
    "    count_dict = {}\n",
    "    for item in lst:\n",
    "        if item in count_dict:\n",
    "            count_dict[item] += 1\n",
    "        else:\n",
    "            count_dict[item] = 1\n",
    "\n",
    "    # Find the maximum count\n",
    "    max_count = max(count_dict.values())\n",
    "\n",
    "    # Return the first element with the maximum count\n",
    "    for item, count in count_dict.items():\n",
    "        if count == max_count:\n",
    "            return item\n",
    "\n",
    "def predict_knn(v, X_train=X_train, t_train=t_train, k=1):\n",
    "    \"\"\"\n",
    "    Returns a prediction using the k-NN\n",
    "\n",
    "    Parameters:\n",
    "        `v` - a numpy array (vector) representing an MNIST image, shape (784,)\n",
    "        `X_train` - a data matrix representing a set of MNIST image, shape (N, 784)\n",
    "        `t_train` - a vector of ground-truth labels, shape (N,)\n",
    "        `k` - a positive integer 1 < k <= N, describing the number of closest images\n",
    "              to consider as part of the knn algorithm\n",
    "\n",
    "    Returns:\n",
    "        A single number `i` between 0 and 9, representing the digit\n",
    "    \"\"\"\n",
    "    # Step 1. compute the distances between v and every element of X\n",
    "    dists = dist_all(v, X_train)\n",
    "\n",
    "    # Step 2. find the indices of the k-nearest neighbours\n",
    "\n",
    "    # Hint: You may wish to sort the distances in `dists`. But how should you\n",
    "    # do this sorting while keeping track of the indices? You may find\n",
    "    # the functions \"enumerate\" (or \"zip\"), and \"sorted\" helpful.\n",
    "    # Alternatively, you may choose to use a function like \"np.argsort\"\n",
    "    indices = np.argsort(dists, kind='heapsort')\n",
    "\n",
    "    # Step 3. find the most common target label amongst these indices\n",
    "\n",
    "    ts = t_train[np.array(indices)] # get the target labels for these indices\n",
    "    # NOTE: the above code uses numpy's ability to take a *list of indices*\n",
    "    # For example, t_train[np.array([1, 10, 4])] will produce a numpy array\n",
    "    # with the elements: t_train[1], t_train[10], t_train[4]\n",
    "\n",
    "    # What else do you need to do to produce the prediction?\n",
    "\n",
    "    prediction = mode(ts[:k])\n",
    "\n",
    "    return prediction"
   ]
  },
  {
   "cell_type": "markdown",
   "metadata": {
    "id": "ZTPZbEdKv3Ma"
   },
   "source": [
    "**Task**: Use the function `predict_knn()` to compute the prediction\n",
    "for `X_valid[5]`, displayed below. Choose a value of `k` of your choice.\n",
    "Is the prediction correct?\n",
    "You are also welcome to change the value of `idx` to explore how\n",
    "the prediction changes for different images in our validation set."
   ]
  },
  {
   "cell_type": "code",
   "execution_count": 16,
   "metadata": {
    "colab": {
     "base_uri": "https://localhost:8080/",
     "height": 466
    },
    "id": "gvcq90SBv3Mb",
    "outputId": "85edb862-35dd-45e2-bc6d-93c660509445"
   },
   "outputs": [
    {
     "name": "stdout",
     "output_type": "stream",
     "text": [
      "Ground truth: 2\n",
      "Prediction: 1\n"
     ]
    },
    {
     "data": {
      "image/png": "[encoded data removed]",
      "text/plain": [
       "<Figure size 640x480 with 1 Axes>"
      ]
     },
     "metadata": {},
     "output_type": "display_data"
    }
   ],
   "source": [
    "idx = 14\n",
    "\n",
    "plt.imshow(X_valid[idx].reshape(28, 28), cmap=\"gray\") # visualize this image\n",
    "\n",
    "prediction = predict_knn(X_valid[idx], k=7) # TODO\n",
    "\n",
    "print(\"Ground truth:\", t_valid[idx])\n",
    "print(\"Prediction:\", prediction)"
   ]
  },
  {
   "cell_type": "markdown",
   "metadata": {
    "id": "5B9_K4psv3Mb"
   },
   "source": [
    "**Graded Task**: We would like to summarize how a k-NN model performs on a data set.\n",
    "Complete the function `compute_accuracy()`, which computes the accuracy of\n",
    "the k-NN model across a data set.\n",
    "\n",
    "In theory, we could attempt to vectorize this computation. However, the sorting\n",
    "operation in `predict_knn` is challenging to parallelize.\n",
    "For simplicity, let's use a loop to iterate over `X_new` and `t_new`"
   ]
  },
  {
   "cell_type": "code",
   "execution_count": 17,
   "metadata": {
    "id": "E8BErrtFv3Mb"
   },
   "outputs": [],
   "source": [
    "def compute_accuracy(X_new, t_new, X_train=X_train, t_train=t_train, k=1):\n",
    "    \"\"\"\n",
    "    Returns the accuracy (proportion of correct predictions) on the data set\n",
    "    `X_new` and ground truth `t_new`.\n",
    "\n",
    "    Parameters:\n",
    "        `X_new` - a data matrix representing MNIST images that we would like to\n",
    "                  make predictions for, shape (N', 784)\n",
    "        `t_new` - a data matrix representing ground truth labels for images in X_new,\n",
    "                  shape (N',)\n",
    "        `X_train` - a data matrix representing a set of MNIST image in the training set,\n",
    "                    shape (N, 784)\n",
    "        `t_train` - a vector of ground-truth labels for images in X_train,\n",
    "                    shape (N,)\n",
    "        `k` - a positive integer 1 < k <= N, describing the number of closest images\n",
    "              to consider as part of the knn algorithm\n",
    "\n",
    "    Returns: the proportion of correct predictions (between 0 and 1)\n",
    "    \"\"\"\n",
    "\n",
    "    num_predictions = 0\n",
    "    num_correct = 0\n",
    "\n",
    "    for i in range(X_new.shape[0]): # iterate over each image index in X_new\n",
    "        v = X_new[i] # image vector\n",
    "        t = t_new[i] # prediction target\n",
    "\n",
    "        y = predict_knn(v, X_train, t_train, k) # TODO\n",
    "\n",
    "        num_correct += 1 if t == y else 0 # TODO: change this!\n",
    "\n",
    "        num_predictions += 1\n",
    "\n",
    "    return num_correct / num_predictions"
   ]
  },
  {
   "cell_type": "markdown",
   "metadata": {
    "id": "g3ZCDlmtv3Mb"
   },
   "source": [
    "Let's estimate the training accuracy for $k=1$.\n",
    "To make the computation faster, we will use a subset of the training data.\n",
    "The training accuracy should be either equal to or close to 100%.\n",
    "(Why?)"
   ]
  },
  {
   "cell_type": "code",
   "execution_count": 18,
   "metadata": {
    "colab": {
     "base_uri": "https://localhost:8080/"
    },
    "id": "aZt898oLv3Mb",
    "outputId": "163bbef8-c74c-42f4-82b7-c006fac32ffa"
   },
   "outputs": [
    {
     "data": {
      "text/plain": [
       "1.0"
      ]
     },
     "execution_count": 18,
     "metadata": {},
     "output_type": "execute_result"
    }
   ],
   "source": [
    "compute_accuracy(X_train[:500], t_train[:500], X_train=X_train, t_train=t_train, k=1)\n",
    "# it is 100% because we are using the training set to predict the training data,\n",
    "# and when k=1, the closest data point is the example itself"
   ]
  },
  {
   "cell_type": "markdown",
   "metadata": {
    "id": "4ZLMK8szv3Mh"
   },
   "source": [
    "## Part 4. Hyperparameter Tuning\n",
    "\n",
    "In this section, we will fine-tune the hyperparameter parameter $k$ for our data set.\n",
    "To do so, we will need to compute the validation accuracy across our data set for different choices of $k$.\n",
    "\n",
    "**Graded Task:** Compute the validation accuracy for every value of $k$ between 1 and 10, inclusive.\n",
    "Store these values in an array called `valid_acc`, so that `valid_acc[k-1]` stores the validation\n",
    "accuracy for this choice of $k$.\n",
    "\n",
    "(You may optionally find a faster way to compute the validation accuracies by avoiding\n",
    "repeated distance computations.)\n",
    "\n",
    "Since this code will not be run repeatedly, this code is much less important to optimize compared\n",
    "to functions like `dist_all`."
   ]
  },
  {
   "cell_type": "code",
   "execution_count": 19,
   "metadata": {
    "id": "-0gqRBHhv3Mi"
   },
   "outputs": [
    {
     "name": "stdout",
     "output_type": "stream",
     "text": [
      "CPU times: user 26.4 s, sys: 15.2 s, total: 41.6 s\n",
      "Wall time: 41.6 s\n"
     ]
    }
   ],
   "source": [
    "%%time\n",
    "valid_acc = []\n",
    "\n",
    "for k in range(1, 11):\n",
    "    acc = compute_accuracy(X_valid, t_valid, X_train=X_train, t_train=t_train, k=k) # TODO\n",
    "    valid_acc.append(acc)"
   ]
  },
  {
   "cell_type": "markdown",
   "metadata": {
    "id": "prwXee9cv3Mi"
   },
   "source": [
    "If your code above is correct, you should obtain a validation accuracy of approximately ~20-30%. This is\n",
    "better than random, but we will be able to do better."
   ]
  },
  {
   "cell_type": "code",
   "execution_count": 20,
   "metadata": {
    "colab": {
     "base_uri": "https://localhost:8080/",
     "height": 490
    },
    "id": "nkh1n4Zsv3Mi",
    "outputId": "b7faae5b-31a3-47de-cba1-25822bae2e1f"
   },
   "outputs": [
    {
     "name": "stdout",
     "output_type": "stream",
     "text": [
      "[0.248, 0.248, 0.256, 0.264, 0.268, 0.272, 0.268, 0.264, 0.262, 0.252]\n"
     ]
    },
    {
     "data": {
      "text/plain": [
       "Text(0, 0.5, 'Accuracy')"
      ]
     },
     "execution_count": 20,
     "metadata": {},
     "output_type": "execute_result"
    },
    {
     "data": {
      "image/png": "[encoded data removed]",
      "text/plain": [
       "<Figure size 640x480 with 1 Axes>"
      ]
     },
     "metadata": {},
     "output_type": "display_data"
    }
   ],
   "source": [
    "print(valid_acc)\n",
    "\n",
    "plt.title(\"Validatation Accuracy for an Unnormalized kNN model\")\n",
    "plt.plot(range(1, 11), valid_acc)\n",
    "plt.xlabel(\"k\")\n",
    "plt.ylabel(\"Accuracy\")"
   ]
  },
  {
   "cell_type": "markdown",
   "metadata": {
    "id": "pHwpaaEBv3Mi"
   },
   "source": [
    "**Task** What is the optimal value of $k$ we should choose? Recall that we should make this choice using\n",
    " the validation accuracy."
   ]
  },
  {
   "cell_type": "code",
   "execution_count": 21,
   "metadata": {
    "id": "PwlBxs-Iv3Mi"
   },
   "outputs": [],
   "source": [
    "opt_val_k = 6 # TODO"
   ]
  },
  {
   "cell_type": "markdown",
   "metadata": {
    "id": "8wwjNEdBv3Mi"
   },
   "source": [
    "**Graded Task** Explain the shape of the above plot. Why does validation accuracy increase at first, and then decrease?\n",
    "Recall that we used words like \"overfitting\" and \"underfitting\" during lecture."
   ]
  },
  {
   "cell_type": "code",
   "execution_count": 22,
   "metadata": {
    "id": "azLhDHulv3Mj"
   },
   "outputs": [],
   "source": [
    "# TODO it increases at first because it was underfitting,\n",
    "# and it starts to decrease (at opt_val_k) when it becomes underfit as k got bigger"
   ]
  },
  {
   "cell_type": "markdown",
   "metadata": {
    "id": "Y4kYqLbmv3Mj"
   },
   "source": [
    "## Part 5. Normalizing the data\n",
    "\n",
    "In this part, we will show why it is important to **normalize our data** when using a nearest neighbour model.\n",
    "In particular, we will normalize each feature (each pixel, or each of the 784 coordinates in `X_train`)\n",
    "so that it has 0 mean and standard deviation 1.\n",
    "In other words, we will normalize (standardize) the data matrix `X_train` so that each of its *columns*\n",
    "has a mean 0 and standard deviation 1.\n",
    "\n",
    "Let's start by computing the means and standard deviations of each pixel (each column of the data matrix).\n",
    "We will use the training set to compute these values.\n",
    "(Why do you think it would be a bad idea to instead use all the available data that we have, including the test set?)"
   ]
  },
  {
   "cell_type": "code",
   "execution_count": 23,
   "metadata": {
    "colab": {
     "base_uri": "https://localhost:8080/"
    },
    "id": "V2MXsOJiv3Mj",
    "outputId": "db790caa-0e29-4014-842e-4ae58e6a07e4"
   },
   "outputs": [
    {
     "name": "stdout",
     "output_type": "stream",
     "text": [
      "0.0\n",
      "0.0\n"
     ]
    }
   ],
   "source": [
    "X_mean = np.mean(X_train, axis=0)\n",
    "X_std = np.std(X_train, axis=0)\n",
    "print(X_mean[1])\n",
    "print(X_std[1])"
   ]
  },
  {
   "cell_type": "code",
   "execution_count": 24,
   "metadata": {},
   "outputs": [
    {
     "data": {
      "text/plain": [
       "<matplotlib.image.AxesImage at 0x7f8392159dd0>"
      ]
     },
     "execution_count": 24,
     "metadata": {},
     "output_type": "execute_result"
    },
    {
     "data": {
      "image/png": "[encoded data removed]",
      "text/plain": [
       "<Figure size 640x480 with 1 Axes>"
      ]
     },
     "metadata": {},
     "output_type": "display_data"
    }
   ],
   "source": [
    "X_std_image=X_std.reshape(28,28)\n",
    "plt.imshow(X_std_image)\n",
    "# picture with higher std is weighted less by normalizing (var_norm = var/std^2)"
   ]
  },
  {
   "cell_type": "code",
   "execution_count": 25,
   "metadata": {},
   "outputs": [
    {
     "data": {
      "text/plain": [
       "<matplotlib.image.AxesImage at 0x7f839211ff90>"
      ]
     },
     "execution_count": 25,
     "metadata": {},
     "output_type": "execute_result"
    },
    {
     "data": {
      "image/png": "[encoded data removed]",
      "text/plain": [
       "<Figure size 640x480 with 1 Axes>"
      ]
     },
     "metadata": {},
     "output_type": "display_data"
    }
   ],
   "source": [
    "X_mean_image = X_mean.reshape(28,28)\n",
    "plt.imshow(X_mean_image)\n",
    "# mean doesn't really have an effect on the prediction"
   ]
  },
  {
   "cell_type": "markdown",
   "metadata": {
    "id": "BJABWNwAv3Mj"
   },
   "source": [
    "Now, we can transform the input data by subtracting the mean and dividing by the standard deviation\n",
    "in the training set. We again use broadcasting ([https://numpy.org/doc/stable/user/basics.broadcasting.html](https://numpy.org/doc/stable/user/basics.broadcasting.html)\n",
    "to parallelize our computation. `X_train` has shape `(N, D)` and `X_mean` has shape `(D,)`,\n",
    "and so `X_train - X_mean` will have shape `(N, D)` with each row of its result corresponding\n",
    "to the value of `X_train[row, :] - X_mean`. The division operation is broadcasted similarly.\n",
    "Additionally, we add a positive value to the denominator in case some of the standard deviation\n",
    "values are exactly 0, to avoid divisions by 0."
   ]
  },
  {
   "cell_type": "code",
   "execution_count": 26,
   "metadata": {
    "id": "5lL_KPoWv3Mk"
   },
   "outputs": [],
   "source": [
    "epsilon = 0.0001 # smaller = more accurate?\n",
    "X_train_norm = (X_train - X_mean) / (X_std + epsilon)"
   ]
  },
  {
   "cell_type": "markdown",
   "metadata": {
    "id": "NRdjLKC8v3Mk"
   },
   "source": [
    "**Task:** Apply the same transformation as above to data in the validation and test sets (i.e., subtract `X_mean` and divide by `X_std`).\n",
    "Note that we should *not* recompute means and standard deviations. Why do you think that is?"
   ]
  },
  {
   "cell_type": "code",
   "execution_count": 27,
   "metadata": {
    "id": "Itup-Hpxv3Mk"
   },
   "outputs": [],
   "source": [
    "X_valid_norm = (X_valid - X_mean) / (X_std + epsilon)\n",
    "X_test_norm = (X_test - X_mean) / (X_std + epsilon)\n",
    "#?? we are not recomupting because we assume that the data have mean and std of the training set"
   ]
  },
  {
   "cell_type": "markdown",
   "metadata": {
    "id": "LQPO5ERYv3Mk"
   },
   "source": [
    "**Graded Task:** Now, using this normalized data let's compute the validation accuracies for values of $k$ between 1 and 10:"
   ]
  },
  {
   "cell_type": "code",
   "execution_count": 28,
   "metadata": {
    "id": "Cz2Vm_lcv3Ml"
   },
   "outputs": [
    {
     "name": "stdout",
     "output_type": "stream",
     "text": [
      "CPU times: user 1min 23s, sys: 1min 53s, total: 3min 17s\n",
      "Wall time: 3min 17s\n"
     ]
    }
   ],
   "source": [
    "%%time\n",
    "valid_acc_norm = []\n",
    "\n",
    "for k in range(1, 11):\n",
    "    acc = compute_accuracy(X_valid_norm, t_valid, X_train_norm, t_train, k) # TODO\n",
    "    valid_acc_norm.append(acc)"
   ]
  },
  {
   "cell_type": "markdown",
   "metadata": {
    "id": "uZS2JTlyv3Ml"
   },
   "source": [
    "If your code above is correct, you should obtain a much higher validation accuracy!"
   ]
  },
  {
   "cell_type": "code",
   "execution_count": 29,
   "metadata": {
    "colab": {
     "base_uri": "https://localhost:8080/",
     "height": 490
    },
    "id": "b9mOFn2Yv3Ml",
    "outputId": "e85b1dd6-5c27-4fbc-ce4a-4bac1ae72c73"
   },
   "outputs": [
    {
     "name": "stdout",
     "output_type": "stream",
     "text": [
      "7\n"
     ]
    },
    {
     "data": {
      "text/plain": [
       "Text(0, 0.5, 'Accuracy')"
      ]
     },
     "execution_count": 29,
     "metadata": {},
     "output_type": "execute_result"
    },
    {
     "data": {
      "image/png": "[encoded data removed]",
      "text/plain": [
       "<Figure size 640x480 with 1 Axes>"
      ]
     },
     "metadata": {},
     "output_type": "display_data"
    }
   ],
   "source": [
    "print(max(range(len(valid_acc_norm)), key=valid_acc_norm.__getitem__))\n",
    "\n",
    "plt.title(\"Validatation Accuracy for a Normalized kNN model\")\n",
    "plt.plot(range(1, 11), valid_acc_norm)\n",
    "plt.xlabel(\"k\")\n",
    "plt.ylabel(\"Accuracy\")"
   ]
  },
  {
   "cell_type": "markdown",
   "metadata": {
    "id": "UPetawU_v3Ml"
   },
   "source": [
    "## Part 6. Reporting Test Accuracy\n",
    "\n",
    "Following machine learning best practices, we use the test set exactly once see how our model\n",
    "might perform on new data that it has never seen before.\n",
    "\n",
    "**Task**: Report the test accuracy for best model that we have so far.\n",
    "(What does \"best\" mean in this case?)"
   ]
  },
  {
   "cell_type": "code",
   "execution_count": 30,
   "metadata": {
    "id": "OrWClJrrv3Mm"
   },
   "outputs": [
    {
     "name": "stdout",
     "output_type": "stream",
     "text": [
      "CPU times: user 10 s, sys: 13.4 s, total: 23.4 s\n",
      "Wall time: 23.4 s\n"
     ]
    }
   ],
   "source": [
    "%%time\n",
    "test_acc_k = max(range(len(valid_acc_norm)), key=valid_acc_norm.__getitem__)\n",
    "test_acc = compute_accuracy(X_test_norm, t_test, X_train_norm, t_train, test_acc_k)\n",
    "# TODO"
   ]
  },
  {
   "cell_type": "code",
   "execution_count": 31,
   "metadata": {},
   "outputs": [
    {
     "name": "stdout",
     "output_type": "stream",
     "text": [
      "0.906\n"
     ]
    }
   ],
   "source": [
    "print(test_acc)"
   ]
  }
 ],
 "metadata": {
  "colab": {
   "provenance": []
  },
  "kernelspec": {
   "display_name": "Python 3 (ipykernel)",
   "language": "python",
   "name": "python3"
  },
  "language_info": {
   "codemirror_mode": {
    "name": "ipython",
    "version": 3
   },
   "file_extension": ".py",
   "mimetype": "text/x-python",
   "name": "python",
   "nbconvert_exporter": "python",
   "pygments_lexer": "ipython3",
   "version": "3.11.2"
  }
 },
 "nbformat": 4,
 "nbformat_minor": 4
}
