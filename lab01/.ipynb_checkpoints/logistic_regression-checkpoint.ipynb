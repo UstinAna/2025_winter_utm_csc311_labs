{
 "cells": [
  {
   "cell_type": "code",
   "execution_count": 45,
   "id": "e300aa03-3897-43a6-9046-e904ea98022c",
   "metadata": {},
   "outputs": [
    {
     "name": "stdout",
     "output_type": "stream",
     "text": [
      "CPU times: user 997 ms, sys: 333 ms, total: 1.33 s\n",
      "Wall time: 1.32 s\n"
     ]
    }
   ],
   "source": [
    "%%time\n",
    "from PIL import Image\n",
    "import numpy as np\n",
    "import os\n",
    "\n",
    "# Base folder containing the mnist-subset folders\n",
    "base_folder = os.path.join(os.getcwd(), \"mnist-subset\")\n",
    "\n",
    "# Lists to store features (flattened images) and labels (digits)\n",
    "X = []  # Features\n",
    "y = []  # Labels\n",
    "\n",
    "# Iterate through each digit folder (0-9)\n",
    "for digit in range(10):\n",
    "    folder_path = os.path.join(base_folder, str(digit))\n",
    "    \n",
    "    # Iterate through all files in the folder\n",
    "    for filename in os.listdir(folder_path):\n",
    "        # Check if the file is an image (e.g., PNG)\n",
    "        if filename.endswith(('.png', '.jpg', '.jpeg', '.bmp', '.gif')):\n",
    "            # Step 1: Load the image\n",
    "            image_path = os.path.join(folder_path, filename)\n",
    "            try:\n",
    "                image = Image.open(image_path)\n",
    "\n",
    "                # Step 2: Convert to grayscale\n",
    "                image = image.convert('L')\n",
    "\n",
    "                # Step 3: Resize to 28x28 pixels (if not already)\n",
    "                image = image.resize((28, 28))\n",
    "\n",
    "\n",
    "                # Step 4: Convert to a 28x28 matrix and flatten\n",
    "                matrix = np.array(image)\n",
    "                flattened_vector = matrix.flatten()\n",
    "\n",
    "                # Step 5: Append the flattened vector and label to the lists\n",
    "                X.append(flattened_vector)\n",
    "                y.append(digit)\n",
    "            except Exception as e:\n",
    "                print(f\"Error processing {filename} in folder {digit}: {e}\")\n",
    "\n",
    "# Convert lists to NumPy arrays\n",
    "X = np.array(X)  # Shape: (num_samples, 784)\n",
    "y = np.array(y)  # Shape: (num_samples,)"
   ]
  },
  {
   "cell_type": "code",
   "execution_count": 47,
   "id": "e0c149d1-628b-4179-83f5-9dc2d20216d1",
   "metadata": {},
   "outputs": [
    {
     "name": "stdout",
     "output_type": "stream",
     "text": [
      "Epoch 0, Loss: 17.699089429006015\n",
      "Epoch 100, Loss: 2.659654072120516\n",
      "Epoch 200, Loss: 1.64474595884482\n",
      "Epoch 300, Loss: 1.3586322806895674\n",
      "Epoch 400, Loss: 3.64902751826823\n",
      "Epoch 500, Loss: 1.0346112363298017\n",
      "Epoch 600, Loss: 5.076194219208655\n",
      "Epoch 700, Loss: 1.116673785394028\n",
      "Epoch 800, Loss: 3.530526280762392\n",
      "Epoch 900, Loss: 0.7956304082519662\n",
      "Training Accuracy: 97.54%\n",
      "CPU times: user 3min 45s, sys: 0 ns, total: 3min 45s\n",
      "Wall time: 56.7 s\n"
     ]
    }
   ],
   "source": [
    "%%time\n",
    "# Step 1: One-Hot Encode the Labels\n",
    "def one_hot_encode(y, num_classes):\n",
    "    return np.eye(num_classes)[y]\n",
    "\n",
    "def softmax(z):\n",
    "    exp_z = np.exp(z - np.max(z, axis=1, keepdims=True))  # Numerical stability\n",
    "    return exp_z / np.sum(exp_z, axis=1, keepdims=True)\n",
    "# Step 3: Initialize Parameters\n",
    "def initialize_parameters(input_size, num_classes):\n",
    "    W = np.random.randn(input_size, num_classes) * 0.01  # Weight matrix\n",
    "    b = np.zeros((1, num_classes))  # Bias vector\n",
    "    return W, b\n",
    "\n",
    "def compute_loss(y_true, y_pred):\n",
    "    m = y_true.shape[0]\n",
    "    epsilon = 1e-10  # Small value to avoid log(0)\n",
    "    loss = -np.sum(y_true * np.log(y_pred + epsilon)) / m\n",
    "    return loss\n",
    "\n",
    "# Step 5: Gradient Descent Update\n",
    "def update_parameters(W, b, X, y_true, y_pred, learning_rate):\n",
    "    m = X.shape[0]\n",
    "    \n",
    "    # Compute gradients\n",
    "    dW = np.dot(X.T, (y_pred - y_true)) / m\n",
    "    db = np.sum(y_pred - y_true, axis=0, keepdims=True) / m\n",
    "    \n",
    "    # Update parameters\n",
    "    W -= learning_rate * dW\n",
    "    b -= learning_rate * db\n",
    "    return W, b\n",
    "\n",
    "# Step 6: Training Loop\n",
    "def train_glm(X, y, num_classes, learning_rate=0.01, epochs=1000):\n",
    "    # Initialize parameters\n",
    "    input_size = X.shape[1]\n",
    "    W, b = initialize_parameters(input_size, num_classes)\n",
    "    \n",
    "    # One-hot encode the labels\n",
    "    y_one_hot = one_hot_encode(y, num_classes)\n",
    "    \n",
    "    # Training loop\n",
    "    for epoch in range(epochs):\n",
    "        # Forward pass: compute predictions\n",
    "        z = np.dot(X, W) + b\n",
    "        y_pred = softmax(z)\n",
    "        \n",
    "        # Compute loss\n",
    "        loss = compute_loss(y_one_hot, y_pred)\n",
    "        \n",
    "        # Backward pass: update parameters\n",
    "        W, b = update_parameters(W, b, X, y_one_hot, y_pred, learning_rate)\n",
    "        \n",
    "        # Print loss every 100 epochs\n",
    "        if epoch % 100 == 0:\n",
    "            print(f\"Epoch {epoch}, Loss: {loss}\")\n",
    "    \n",
    "    return W, b\n",
    "\n",
    "# Step 7: Predict Function\n",
    "def predict(X, W, b):\n",
    "    z = np.dot(X, W) + b\n",
    "    y_pred = softmax(z)\n",
    "    return np.argmax(y_pred, axis=1)\n",
    "\n",
    "# Step 8: Train the Model\n",
    "num_classes = 10  # Digits 0-9\n",
    "W, b = train_glm(X, y, num_classes, learning_rate=0.01, epochs=1000)\n",
    "\n",
    "# Step 9: Evaluate the Model\n",
    "y_pred = predict(X, W, b)\n",
    "accuracy = np.mean(y_pred == y)\n",
    "print(f\"Training Accuracy: {accuracy * 100:.2f}%\")"
   ]
  },
  {
   "cell_type": "code",
   "execution_count": 49,
   "id": "46b58739-bbb6-4db6-b95d-8ac6ce344095",
   "metadata": {},
   "outputs": [
    {
     "name": "stdout",
     "output_type": "stream",
     "text": [
      "CPU times: user 8.7 ms, sys: 2.35 ms, total: 11 ms\n",
      "Wall time: 10.9 ms\n"
     ]
    }
   ],
   "source": [
    "%%time\n",
    "np.save('weights.npy', W)\n",
    "np.save('biases.npy', b)\n",
    "W = np.load('weights.npy')\n",
    "b = np.load('biases.npy')"
   ]
  },
  {
   "cell_type": "code",
   "execution_count": 50,
   "id": "9b776611-df8c-48c6-b63f-4b2d7c3a4795",
   "metadata": {},
   "outputs": [],
   "source": [
    "from PIL import Image\n",
    "import numpy as np\n",
    "\n",
    "def preprocess_image(image_path):\n",
    "    # Load the image\n",
    "    image = Image.open(image_path)\n",
    "    \n",
    "    # Convert to grayscale\n",
    "    image = image.convert('L')\n",
    "    \n",
    "    # Resize to 28x28 pixels\n",
    "    image = image.resize((28, 28))\n",
    "    \n",
    "    # Convert to a 28x28 matrix and flatten\n",
    "    matrix = np.array(image)\n",
    "    flattened_vector = matrix.flatten()\n",
    "    \n",
    "    return flattened_vector"
   ]
  },
  {
   "cell_type": "code",
   "execution_count": 52,
   "id": "228f4b3a-a1f2-4f35-9c37-492bc7ba76e0",
   "metadata": {},
   "outputs": [
    {
     "name": "stdout",
     "output_type": "stream",
     "text": [
      "Predicted Digit: 9\n"
     ]
    }
   ],
   "source": [
    "def predict_image(image_path, W, b):\n",
    "    # Preprocess the image\n",
    "    X_test = preprocess_image(image_path)\n",
    "    X_test = X_test.reshape(1, -1)  # Reshape for single sample\n",
    "    \n",
    "    # Predict the class\n",
    "    z = np.dot(X_test, W) + b\n",
    "    y_pred = softmax(z)\n",
    "    predicted_class = np.argmax(y_pred, axis=1)\n",
    "    \n",
    "    return predicted_class[0]\n",
    "\n",
    "# Example usage\n",
    "test_image_path = os.path.join(os.getcwd(), \"59939.png\")\n",
    "predicted_digit = predict_image(test_image_path, W, b)\n",
    "print(f\"Predicted Digit: {predicted_digit}\")"
   ]
  },
  {
   "cell_type": "code",
   "execution_count": 66,
   "id": "e736512b-da5d-44ca-88e0-4074963921b3",
   "metadata": {},
   "outputs": [
    {
     "name": "stdout",
     "output_type": "stream",
     "text": [
      "Image: 63-Copy1.png, Predicted Digit: 0\n",
      "Image: IMG_1512.jpeg, Predicted Digit: 2\n"
     ]
    }
   ],
   "source": [
    "# Path to the test_space folder\n",
    "test_folder = os.path.join(os.getcwd(), \"test_space\")\n",
    "\n",
    "# Iterate through all files in the test_space folder\n",
    "for filename in os.listdir(test_folder):\n",
    "    # Check if the file is an image (e.g., PNG)\n",
    "    if filename.endswith(('.png', '.jpg', '.jpeg', '.bmp', '.gif')):\n",
    "        # Full path to the image\n",
    "        image_path = os.path.join(test_folder, filename)\n",
    "        \n",
    "        # Predict the digit\n",
    "        predicted_digit = predict_image(image_path, W, b)\n",
    "        \n",
    "        # Print the image name and predicted digit\n",
    "        print(f\"Image: {filename}, Predicted Digit: {predicted_digit}\")"
   ]
  }
 ],
 "metadata": {
  "kernelspec": {
   "display_name": "Python 3 (ipykernel)",
   "language": "python",
   "name": "python3"
  },
  "language_info": {
   "codemirror_mode": {
    "name": "ipython",
    "version": 3
   },
   "file_extension": ".py",
   "mimetype": "text/x-python",
   "name": "python",
   "nbconvert_exporter": "python",
   "pygments_lexer": "ipython3",
   "version": "3.11.2"
  }
 },
 "nbformat": 4,
 "nbformat_minor": 5
}
